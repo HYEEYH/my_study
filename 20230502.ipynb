{
  "nbformat": 4,
  "nbformat_minor": 0,
  "metadata": {
    "colab": {
      "provenance": [],
      "authorship_tag": "ABX9TyM2OxO1/tQzV+UjtfHygovc",
      "include_colab_link": true
    },
    "kernelspec": {
      "name": "python3",
      "display_name": "Python 3"
    },
    "language_info": {
      "name": "python"
    }
  },
  "cells": [
    {
      "cell_type": "markdown",
      "metadata": {
        "id": "view-in-github",
        "colab_type": "text"
      },
      "source": [
        "<a href=\"https://colab.research.google.com/github/HYEEYH/my_study/blob/main/20230502.ipynb\" target=\"_parent\"><img src=\"https://colab.research.google.com/assets/colab-badge.svg\" alt=\"Open In Colab\"/></a>"
      ]
    },
    {
      "cell_type": "markdown",
      "source": [
        "- 함수 스왑 연습하기"
      ],
      "metadata": {
        "id": "-2IN6QhoCCQQ"
      }
    },
    {
      "cell_type": "code",
      "execution_count": null,
      "metadata": {
        "id": "91Rpva7D31M1"
      },
      "outputs": [],
      "source": [
        "# def swap_value(x,y):\n",
        "#     temp = x\n",
        "#     x = y\n",
        "#     y = temp\n",
        "\n",
        "# def swap_offset(offset_x, offset_y):\n",
        "#     temp = a[offset_x]\n",
        "#     a[offset_x] = a[offset_y]\n",
        "#     a[offset_y] = temp\n",
        "\n",
        "# def swap_reference(list, offset_x, offset_y):\n",
        "#     temp = list[offset_x]\n",
        "#     list[offset_x] = list[offset_y]\n",
        "#     list[offset_y] = temp\n",
        "\n",
        "# a = [1,2,3,4,5]\n",
        "# swap_value(a[1], a[2])\n",
        "# print(a)\n",
        "\n",
        "# swap_offset(1,2)\n",
        "# print(a)\n",
        "\n",
        "# swap_reference(a,1,2)\n",
        "# print(a)"
      ]
    },
    {
      "cell_type": "markdown",
      "source": [
        "문1. \n",
        "- 두개의 숫자를 input으로 받으면 앞의 숫자를 뒤의 숫자로 나누는 함수\n",
        "- 나눗셈을 한 후에는 몫과 나머지 순으로 튜플 값을 반환한다."
      ],
      "metadata": {
        "id": "eQQvE7oiCMLO"
      }
    },
    {
      "cell_type": "code",
      "source": [
        "# 나의 풀이 - 뭔가 안됨.\n",
        "\n",
        "def div(a,b):\n",
        "    a = int(input(\"숫자입력1: \"))\n",
        "    b = int(input(\"숫자입력2: \"))\n",
        "    num1 = a//b\n",
        "    num2 = a%b\n",
        "    tuple_1 = (num2, num1)\n",
        "    print(tuple_1)"
      ],
      "metadata": {
        "id": "GMoMRF4jCSI4",
        "colab": {
          "base_uri": "https://localhost:8080/",
          "height": 137
        },
        "outputId": "6672b0bf-4d21-4ce8-95b6-5d798ee125f4"
      },
      "execution_count": 3,
      "outputs": [
        {
          "output_type": "error",
          "ename": "IndentationError",
          "evalue": "ignored",
          "traceback": [
            "\u001b[0;36m  File \u001b[0;32m\"<tokenize>\"\u001b[0;36m, line \u001b[0;32m9\u001b[0m\n\u001b[0;31m    print(tuple_1)\u001b[0m\n\u001b[0m    ^\u001b[0m\n\u001b[0;31mIndentationError\u001b[0m\u001b[0;31m:\u001b[0m unindent does not match any outer indentation level\n"
          ]
        }
      ]
    },
    {
      "cell_type": "markdown",
      "source": [
        "##### 225p\n",
        "문1-1 )두개의숫자를 input으로 받으면 작은수로 큰수를 나는 목과 나머지를 반환하는 함수 만들기\n",
        "- 반환값은 튜플로 되어있으며 몫, 나머지 순으로 되어있다\n",
        "- 단, 0으로 나누는것은 불가. 두 수 중 작은수가 0이라면 화면에 0은 사용할수 없다를 출력하고 종료되어야 한다"
      ],
      "metadata": {
        "id": "1n2xJFdFCWIG"
      }
    },
    {
      "cell_type": "code",
      "source": [
        "def div3(a,b):\n",
        "    if a<b:\n",
        "        big = b\n",
        "        samll = a\n",
        "    elif b<=a:\n",
        "        big = a\n",
        "        small = b\n",
        "    else:\n",
        "        print(\"정수가 아닙니다\")\n",
        "    if small == 0:\n",
        "        print(\"0은 사용할 수 없습니다.\")\n",
        "    elif abs(big)<0 or abs(small)<0:\n",
        "        print(\"정수를 입력해주세요\")\n",
        "    else:\n",
        "        q = big//small\n",
        "        r = big%small\n",
        "        return(q,r)"
      ],
      "metadata": {
        "id": "RbryoHCLCjLu"
      },
      "execution_count": null,
      "outputs": []
    },
    {
      "cell_type": "markdown",
      "source": [
        "#### 파이썬 베이직 229p\n",
        "- 어떠한 string을 받으면 일정한 단위로 끊어서 화면에 출력하는 함수를 만들기\n",
        "- 끊는 단위는 따로 정하지 않으면 2로 설정한다."
      ],
      "metadata": {
        "id": "yREN5zN_H3rJ"
      }
    },
    {
      "cell_type": "code",
      "source": [
        "def func(string, unit=2):\n",
        "    i = 0\n",
        "    while i < len(string):\n",
        "        print(string[i:i+unit])\n",
        "        i += unit\n",
        "\n",
        "func(\"테스트를 위한 문장입니다\")\n",
        "func(\"테스트를 위한 문장입니다\", 4)"
      ],
      "metadata": {
        "id": "8ufRHvyVH8jY"
      },
      "execution_count": null,
      "outputs": []
    },
    {
      "cell_type": "markdown",
      "source": [
        "- 가변함수 더 알아보기\n",
        "- 참고 : https://mingrammer.com/understanding-the-asterisk-of-python/"
      ],
      "metadata": {
        "id": "ac9b-qPAIvh6"
      }
    },
    {
      "cell_type": "markdown",
      "source": [
        "## 전혀 모르겠군요.\n",
        "#### 코드 다시한번 보기 - 떠오르지 않는다"
      ],
      "metadata": {
        "id": "kniOL6vRKme5"
      }
    },
    {
      "cell_type": "markdown",
      "source": [
        "#### 파이썬 베이직 230p\n",
        "- add_all 함수 짜보기\n",
        "- add_all(1,2,3,4,5,6,7,8,9,10)   ->답: 55\n",
        "- 힌트) args 로 받은 후에 리스트로 다시 받아서 만들기"
      ],
      "metadata": {
        "id": "7VQYGoGyKvgJ"
      }
    },
    {
      "cell_type": "markdown",
      "source": [
        "**이 밑 부분 다시 확인해보기(답비교확인해보기)**"
      ],
      "metadata": {
        "id": "cvTFbS65OkgL"
      }
    },
    {
      "cell_type": "code",
      "source": [
        "# 내가 따라 적은 해설\n",
        "\n",
        "def add_all(*inputs):\n",
        "    s = 0\n",
        "    for i in range(len(inputs)):\n",
        "        s += inputs[i]\n",
        "    return s\n",
        "\n",
        "add_all(1,2,3,4,5,6,7,8,9,10)   # 오류남. 리스트를 잘라서 쓸 수 없기 때문에 -> 되는데?\n",
        "\n",
        "\n",
        "\n",
        "def add_all2(*inputs):\n",
        "    return sum(inputs)\n",
        "\n",
        "\n",
        "\n",
        "def add_all3(*args):        # 그래서 for문을 이중으로 돌림. 그러면 가능\n",
        "    s = 0\n",
        "    for i in args:\n",
        "        for j in i:\n",
        "            s += j\n",
        "        return s\n",
        "\n",
        "add_all3(1,2,3,4,5,6,7,8,9,10)\n",
        "\n",
        "\n",
        "\n",
        "\n",
        "def add_all4(*args):\n",
        "    temp = 0\n",
        "    for i in range(len(args)):\n",
        "        if type(args[i]) == list:\n",
        "            for j in args[i]:\n",
        "                temp += j\n",
        "        else:\n",
        "            temp += args[i]\n",
        "    return temp\n",
        "add_all4(1,2,3,4,5,6,7,8,9,10)\n"
      ],
      "metadata": {
        "id": "RjdwBTYDK1bK"
      },
      "execution_count": null,
      "outputs": []
    },
    {
      "cell_type": "markdown",
      "source": [
        "### 파이썬 베이직 239p\n",
        "- 팩토리얼 구하기\n",
        "- 1부터 시작해서 어떤 범위에 있는 모든 정수 곱하기"
      ],
      "metadata": {
        "id": "-sAbIJUYOv7q"
      }
    },
    {
      "cell_type": "code",
      "source": [
        "#재귀적으로 하지 않은 것.\n",
        "def fact(n):\n",
        "    f=1 #곱을 계산할 변수의 초깃값\n",
        "    for i in range(1,n+1): #1부터 n까지 반복\n",
        "        f = f*i #곱셈연산\n",
        "    return f"
      ],
      "metadata": {
        "id": "DJl0QVhuTZEk"
      },
      "execution_count": null,
      "outputs": []
    },
    {
      "cell_type": "code",
      "source": [
        "#재귀적으로 하는 것.\n",
        "def fact(n):\n",
        "    if n<=1: #n이 1이하이면 종료조건\n",
        "        return 1\n",
        "    return n*fact(n-1)\n",
        "\n",
        "fact(5)"
      ],
      "metadata": {
        "id": "iv6O87abTbhN"
      },
      "execution_count": null,
      "outputs": []
    },
    {
      "cell_type": "markdown",
      "source": [
        "참고 : https://velog.io/@joo4438/python-%ED%8C%A9%ED%86%A0%EB%A6%AC%EC%96%BC-%EA%B5%AC%ED%95%98%EA%B8%B0%EC%9E%AC%EA%B7%80"
      ],
      "metadata": {
        "id": "ikmGtQuKTmHV"
      }
    },
    {
      "cell_type": "markdown",
      "source": [
        "### enumerate(열거하다)\n",
        "  - 반복 가능한 객체의 인덱스와 원소에 함께 접근 할 수 있는 함수."
      ],
      "metadata": {
        "id": "Zd7R0FcuToR0"
      }
    },
    {
      "cell_type": "code",
      "source": [
        "lst = ['a', 'b', 'c']\n",
        "for x in enumerate(lst):\n",
        "  print(x)"
      ],
      "metadata": {
        "colab": {
          "base_uri": "https://localhost:8080/"
        },
        "id": "Wcv4N969XU1t",
        "outputId": "cbc038b6-954b-4be2-cd10-9e3f2b0504da"
      },
      "execution_count": null,
      "outputs": [
        {
          "output_type": "stream",
          "name": "stdout",
          "text": [
            "(0, 'a')\n",
            "(1, 'b')\n",
            "(2, 'c')\n"
          ]
        }
      ]
    },
    {
      "cell_type": "code",
      "source": [
        "lst1 = 'abcd'\n",
        "for x in enumerate(lst1):\n",
        "  print(x)"
      ],
      "metadata": {
        "colab": {
          "base_uri": "https://localhost:8080/"
        },
        "id": "yljesoF0XiYm",
        "outputId": "3fc0ffc9-ab0f-4206-f811-ead92a4a5912"
      },
      "execution_count": null,
      "outputs": [
        {
          "output_type": "stream",
          "name": "stdout",
          "text": [
            "(0, 'a')\n",
            "(1, 'b')\n",
            "(2, 'c')\n",
            "(3, 'd')\n"
          ]
        }
      ]
    },
    {
      "cell_type": "markdown",
      "source": [
        "코로 다음과 같이 쓸 수 있다."
      ],
      "metadata": {
        "id": "kA2aNIJTX7TG"
      }
    },
    {
      "cell_type": "code",
      "source": [
        "people = ['펭수','뽀로로','뚝딱이','텔레토비']\n",
        "\n",
        "def func1(line):\n",
        "    new_lines = []\n",
        "    for idx,val in enumerate(line):\n",
        "        print('대기번호 %d번 : %s' %(idx,val))\n",
        "        new_lines.append((idx+1,val))\n",
        "    return new_lines"
      ],
      "metadata": {
        "id": "WxWgYBKuX-OY"
      },
      "execution_count": null,
      "outputs": []
    },
    {
      "cell_type": "markdown",
      "source": [
        "### zip()\n",
        "- 반복가능한 객체들을(2개이상) 병렬적으로 묶어주는 함수\n",
        "- 각 원소들을 튜플의 형식으로 묶어줌"
      ],
      "metadata": {
        "id": "X65CfsLHYfBO"
      }
    },
    {
      "cell_type": "code",
      "source": [],
      "metadata": {
        "id": "zQvdolC_YoSO"
      },
      "execution_count": null,
      "outputs": []
    },
    {
      "cell_type": "markdown",
      "source": [
        "### lambda\n",
        "- 파이썬3에서는 사용권장되지 않으나\n",
        "- 데이터분석에선 많이 쓰임.\n",
        "- 단점 : 변수1개만 들어감\n",
        "    - map함수를 이용하여 묶어줘야 함."
      ],
      "metadata": {
        "id": "2ZR9_vedY8nw"
      }
    },
    {
      "cell_type": "code",
      "source": [
        "func2 = lambda x : x+2\n",
        "c = func2(2)\n",
        "print(c)\n"
      ],
      "metadata": {
        "id": "GQ9iyDl5ZMBp"
      },
      "execution_count": null,
      "outputs": []
    },
    {
      "cell_type": "code",
      "source": [
        "# map 함수 이용\n",
        "\n",
        "items = [1,2,3,4,5]\n",
        "\n",
        "squared_map = list(map(lambda x : x**2, items))\n",
        "print(squared_map)\n",
        "\n",
        "\n"
      ],
      "metadata": {
        "colab": {
          "base_uri": "https://localhost:8080/"
        },
        "id": "NwnL6Jd_aFAp",
        "outputId": "c338742d-0629-42e9-e076-ee1d7d8bf44e"
      },
      "execution_count": null,
      "outputs": [
        {
          "output_type": "stream",
          "name": "stdout",
          "text": [
            "[1, 4, 9, 16, 25]\n"
          ]
        }
      ]
    },
    {
      "cell_type": "markdown",
      "source": [
        "람다 연습문제 p.251\n",
        "- 람다와 맵을 이용하여 items의 요소들을 string(문자)로 바꾸기"
      ],
      "metadata": {
        "id": "1TKUc9rJa-no"
      }
    },
    {
      "cell_type": "code",
      "source": [
        "items = [1,24,3,6,7]\n",
        "\n",
        "str_items = list(map(lambda x:str(x),items))\n",
        "print(str_items)"
      ],
      "metadata": {
        "id": "qpBW4d_EbGsp"
      },
      "execution_count": null,
      "outputs": []
    },
    {
      "cell_type": "markdown",
      "source": [
        "- 0~9까지를 순서대로 가지고 있는 리스트를 만들기"
      ],
      "metadata": {
        "id": "SOCx4wgjcTug"
      }
    },
    {
      "cell_type": "code",
      "source": [],
      "metadata": {
        "id": "pbS6cRSVcTdQ"
      },
      "execution_count": null,
      "outputs": []
    },
    {
      "cell_type": "markdown",
      "source": [
        "- 구구단 2단"
      ],
      "metadata": {
        "id": "Ffi8-9e_eTiI"
      }
    },
    {
      "cell_type": "code",
      "source": [
        "tables = [2*x for x in range(1,10)]\n",
        "print(tables)"
      ],
      "metadata": {
        "id": "dCI48YwLeX_o"
      },
      "execution_count": null,
      "outputs": []
    },
    {
      "cell_type": "markdown",
      "source": [
        "- 코로나 바이러스"
      ],
      "metadata": {
        "id": "FrwUALdieYRi"
      }
    },
    {
      "cell_type": "code",
      "source": [
        "sentence = '코로나 바이러스를 예방하기 위해 사회적 거리두기를 실천합시다.'\n",
        "\n",
        "len_sent = [len(s) for s in sentence.split()]\n",
        "print(len_sent)"
      ],
      "metadata": {
        "id": "tx69trgvemnY"
      },
      "execution_count": null,
      "outputs": []
    },
    {
      "cell_type": "markdown",
      "source": [
        "p.258\n",
        "- for 문 + if 문\n",
        "- 10부터 20까지 짝수만 담은 리스트를 만들어보기"
      ],
      "metadata": {
        "id": "Mu2VWB8dhHS6"
      }
    },
    {
      "cell_type": "code",
      "source": [
        "list3 = []\n",
        "for x in range(10, 21):\n",
        "  if x % 2 == 0:\n",
        "    list3.append(x)\n",
        "print(list3)\n",
        "\n",
        "\n",
        "# 또는\n",
        "\n",
        "\n",
        "lc_2 = [x for x in range(10,21) if x%2==0]\n",
        "print(lc_2)"
      ],
      "metadata": {
        "id": "jSDBnBkfhUf7"
      },
      "execution_count": null,
      "outputs": []
    },
    {
      "cell_type": "markdown",
      "source": [
        "#### p.258\n",
        "- 1부터 10의 제곱수 중 50 이하인 수만 리스트에 저장하기"
      ],
      "metadata": {
        "id": "91O0POlTh9_i"
      }
    },
    {
      "cell_type": "code",
      "source": [
        "\n",
        "# 1부터 10의 제곱수 중 50 이하인 수만 리스트에 저장하기\n",
        "lc_3 = [x**2 for x in range(1,11) if x**2<50]\n",
        "print(lc_3)\n",
        "\n",
        "\n",
        "\n",
        "# p. 258, 문2\n",
        "sentence = '코로나 바이러스를 예방하기 위해 사회적 거리두기를 실천합시다.'\n",
        "lc_4 = [s for s in sentence.split() if len(s)<5]"
      ],
      "metadata": {
        "id": "7wxS_7URi37B"
      },
      "execution_count": null,
      "outputs": []
    },
    {
      "cell_type": "markdown",
      "source": [
        "- 1부터 10까지의 숫자들 중 홀수이면 어떤 제곱수를, 짝수이면 세제곱수를 담은 리스트를 만들어보기"
      ],
      "metadata": {
        "id": "-gRwaQ2Bjbd8"
      }
    },
    {
      "cell_type": "code",
      "source": [
        "list_4 = []\n",
        "for x in range(1,11):\n",
        "  if x%2==1:\n",
        "    list_4.append(x**2)\n",
        "  else:\n",
        "    list_4.append(x**3)\n",
        "\n",
        "# 또는(리스트 컴프리헨션)\n",
        "\n",
        "[x**2 if x%2==0 else x**3 for x in range(1,11)]  # 리스트컴프리헨션은 조건 하나 늘어나면 무조건 앞으로 가야함."
      ],
      "metadata": {
        "id": "O3SY2jHjjig8"
      },
      "execution_count": null,
      "outputs": []
    },
    {
      "cell_type": "markdown",
      "source": [
        "- for문 + for문"
      ],
      "metadata": {
        "id": "2Bae_L02ky-K"
      }
    },
    {
      "cell_type": "code",
      "source": [
        "word1 = 'hello'\n",
        "word2 = 'world'\n",
        "\n",
        "result = [i+j for i in word1 for j in word2]      \n",
        "result"
      ],
      "metadata": {
        "id": "-PCygdYmk15F"
      },
      "execution_count": null,
      "outputs": []
    },
    {
      "cell_type": "markdown",
      "source": [
        "#### 261p\n",
        "1. 40 이하의 숫자는 5를 더하고 40 초과의 숫자는 41로 바꾸어 리스트로 저장하고 리스트를 출력하기\n",
        "2. 컷트라인이 60점일때 사람이름과 통과여부를 리스트로 담아 출력하기. (이름과 통과여부는 튜플로 묶어있는 자료.)"
      ],
      "metadata": {
        "id": "3uqVkMbclLM7"
      }
    },
    {
      "cell_type": "code",
      "source": [
        "#1.\n",
        "list_5 = [12,67,32,48,19,57,29,49]\n",
        "lc_6 = [x+5 if x<=40 else 41 for x in list_5]\n",
        "lc_6\n",
        "\n",
        "#2\n",
        "students = {\"보라돌이\":61, \"뚜비\":35, \"나나\":78, \"뽀\":88}\n",
        "\n",
        "result = [(name,True) if score>60 else(name,False) for name,score in students.items()]\n",
        "result"
      ],
      "metadata": {
        "colab": {
          "base_uri": "https://localhost:8080/"
        },
        "id": "GcSejoySlsDL",
        "outputId": "b0f87829-9155-4869-9063-4d67595be895"
      },
      "execution_count": null,
      "outputs": [
        {
          "output_type": "execute_result",
          "data": {
            "text/plain": [
              "[('보라돌이', True), ('뚜비', False), ('나나', True), ('뽀', True)]"
            ]
          },
          "metadata": {},
          "execution_count": 8
        }
      ]
    },
    {
      "cell_type": "markdown",
      "source": [
        "####Ndarray vs list"
      ],
      "metadata": {
        "id": "jWTKriGNNUoR"
      }
    },
    {
      "cell_type": "code",
      "source": [
        "# 코렙에서 돌릴때\n",
        "\n",
        "import numpy as np\n",
        "\n",
        "n=1000000\n",
        "numpy_arr = np.arange(n)\n",
        "python_list = list(range(n))\n",
        "\n"
      ],
      "metadata": {
        "id": "57ceR6GaNU_x"
      },
      "execution_count": null,
      "outputs": []
    },
    {
      "cell_type": "code",
      "source": [
        "# vs코드에서 돌릴때\n",
        "\n",
        "import time\n",
        "start = time.time() #시작시간 저장\n",
        "python_list = [x**3+10 for x in python_list]\n",
        "print('time:', time.time() - start) #현재시각-시작시간 = 실행시간"
      ],
      "metadata": {
        "id": "BIozJoQpQMPS"
      },
      "execution_count": null,
      "outputs": []
    },
    {
      "cell_type": "markdown",
      "source": [
        "- 정수부는 초단위, 소수부는 마이크로 초단위 입니다."
      ],
      "metadata": {
        "id": "c0bjEQR5Onc9"
      }
    },
    {
      "cell_type": "code",
      "source": [
        "%%time\n",
        "numpy_arr = numpy_arr**3+10"
      ],
      "metadata": {
        "colab": {
          "base_uri": "https://localhost:8080/"
        },
        "id": "9PHlmyLGOS6S",
        "outputId": "0a349a13-e524-4974-ec14-e807f1933ce8"
      },
      "execution_count": null,
      "outputs": [
        {
          "output_type": "stream",
          "name": "stdout",
          "text": [
            "CPU times: user 5.9 ms, sys: 4.51 ms, total: 10.4 ms\n",
            "Wall time: 44.1 ms\n"
          ]
        }
      ]
    },
    {
      "cell_type": "markdown",
      "source": [
        "#### 벡터화\n",
        "- 배열은 for문을 작성하지 않고 데이터를 일괄처리 하는것"
      ],
      "metadata": {
        "id": "PunBl9wBQV_j"
      }
    },
    {
      "cell_type": "code",
      "source": [
        "arr = np.array([[1,2,3],[4,5,6]])\n",
        "arr\n",
        "arr+arr\n",
        "arr/arr"
      ],
      "metadata": {
        "colab": {
          "base_uri": "https://localhost:8080/"
        },
        "id": "DDcI3WtTQbOK",
        "outputId": "0b369934-17c4-4b0d-b0c0-5d68e29ce27a"
      },
      "execution_count": null,
      "outputs": [
        {
          "output_type": "execute_result",
          "data": {
            "text/plain": [
              "array([[1., 1., 1.],\n",
              "       [1., 1., 1.]])"
            ]
          },
          "metadata": {},
          "execution_count": 15
        }
      ]
    },
    {
      "cell_type": "code",
      "source": [
        "arr"
      ],
      "metadata": {
        "colab": {
          "base_uri": "https://localhost:8080/"
        },
        "id": "cvYTvpQnQ4W7",
        "outputId": "2be7e89b-b5d2-49d3-b196-32efe04a41b0"
      },
      "execution_count": null,
      "outputs": [
        {
          "output_type": "execute_result",
          "data": {
            "text/plain": [
              "array([[1, 2, 3],\n",
              "       [4, 5, 6]])"
            ]
          },
          "metadata": {},
          "execution_count": 16
        }
      ]
    },
    {
      "cell_type": "code",
      "source": [
        "arr+arr"
      ],
      "metadata": {
        "colab": {
          "base_uri": "https://localhost:8080/"
        },
        "id": "GjnQqtQLQ67T",
        "outputId": "e10fa881-2854-437e-f719-814db6f2bb13"
      },
      "execution_count": null,
      "outputs": [
        {
          "output_type": "execute_result",
          "data": {
            "text/plain": [
              "array([[ 2,  4,  6],\n",
              "       [ 8, 10, 12]])"
            ]
          },
          "metadata": {},
          "execution_count": 17
        }
      ]
    },
    {
      "cell_type": "code",
      "source": [
        "arr/arr"
      ],
      "metadata": {
        "colab": {
          "base_uri": "https://localhost:8080/"
        },
        "id": "MCR275EzQ9QL",
        "outputId": "8de44cdf-e79e-4238-feff-5a88a57b83c8"
      },
      "execution_count": null,
      "outputs": [
        {
          "output_type": "execute_result",
          "data": {
            "text/plain": [
              "array([[1., 1., 1.],\n",
              "       [1., 1., 1.]])"
            ]
          },
          "metadata": {},
          "execution_count": 18
        }
      ]
    },
    {
      "cell_type": "markdown",
      "source": [
        "#### 브로드캐스팅\n",
        "- 다른 모양의 배열 간 산술연산을 수행할 수 있도록 해주는 numpy의 기능\n",
        "- 아래와 같은 연산을 지원함."
      ],
      "metadata": {
        "id": "NEqXsux8Qvei"
      }
    },
    {
      "cell_type": "code",
      "source": [
        "10-arr"
      ],
      "metadata": {
        "colab": {
          "base_uri": "https://localhost:8080/"
        },
        "id": "pnYs6Mg-RAdz",
        "outputId": "a2b6eca9-5f28-41e0-e9f0-1e351aac2aa3"
      },
      "execution_count": null,
      "outputs": [
        {
          "output_type": "execute_result",
          "data": {
            "text/plain": [
              "array([[9, 8, 7],\n",
              "       [6, 5, 4]])"
            ]
          },
          "metadata": {},
          "execution_count": 19
        }
      ]
    },
    {
      "cell_type": "code",
      "source": [
        "arr/3"
      ],
      "metadata": {
        "colab": {
          "base_uri": "https://localhost:8080/"
        },
        "id": "X65IMvdcRDtr",
        "outputId": "f8b8045a-bfc0-4b8b-d20a-0649df535a8d"
      },
      "execution_count": null,
      "outputs": [
        {
          "output_type": "execute_result",
          "data": {
            "text/plain": [
              "array([[0.33333333, 0.66666667, 1.        ],\n",
              "       [1.33333333, 1.66666667, 2.        ]])"
            ]
          },
          "metadata": {},
          "execution_count": 20
        }
      ]
    },
    {
      "cell_type": "code",
      "source": [
        "arr*3"
      ],
      "metadata": {
        "colab": {
          "base_uri": "https://localhost:8080/"
        },
        "id": "3PFmZ9OuRCfD",
        "outputId": "9c4fde68-c3be-4e87-80cc-93c7ecaa0d59"
      },
      "execution_count": null,
      "outputs": [
        {
          "output_type": "execute_result",
          "data": {
            "text/plain": [
              "array([[ 3,  6,  9],\n",
              "       [12, 15, 18]])"
            ]
          },
          "metadata": {},
          "execution_count": 21
        }
      ]
    },
    {
      "cell_type": "code",
      "source": [
        "# 참고) 1열로 쓰고싶을때 (위의 행렬은 행으로 쓴거임)\n",
        "arr4 = np.array([100],\n",
        "                [200])"
      ],
      "metadata": {
        "id": "VkHIiezMSZC9"
      },
      "execution_count": null,
      "outputs": []
    },
    {
      "cell_type": "markdown",
      "source": [
        "- 하지만 다음은 안됨."
      ],
      "metadata": {
        "id": "DWvLuDprRg5D"
      }
    },
    {
      "cell_type": "code",
      "source": [
        "# arr2 = np.array([100,200,300])\n",
        "# arr3 = np.array([100,200])\n",
        "# arr2 + arr3"
      ],
      "metadata": {
        "colab": {
          "base_uri": "https://localhost:8080/",
          "height": 211
        },
        "id": "KqiI6I-gRjGU",
        "outputId": "98f62582-f749-4ce9-9c12-60a877788204"
      },
      "execution_count": null,
      "outputs": [
        {
          "output_type": "error",
          "ename": "ValueError",
          "evalue": "ignored",
          "traceback": [
            "\u001b[0;31m---------------------------------------------------------------------------\u001b[0m",
            "\u001b[0;31mValueError\u001b[0m                                Traceback (most recent call last)",
            "\u001b[0;32m<ipython-input-25-0e3ac33f76f0>\u001b[0m in \u001b[0;36m<cell line: 3>\u001b[0;34m()\u001b[0m\n\u001b[1;32m      1\u001b[0m \u001b[0marr2\u001b[0m \u001b[0;34m=\u001b[0m \u001b[0mnp\u001b[0m\u001b[0;34m.\u001b[0m\u001b[0marray\u001b[0m\u001b[0;34m(\u001b[0m\u001b[0;34m[\u001b[0m\u001b[0;36m100\u001b[0m\u001b[0;34m,\u001b[0m\u001b[0;36m200\u001b[0m\u001b[0;34m,\u001b[0m\u001b[0;36m300\u001b[0m\u001b[0;34m]\u001b[0m\u001b[0;34m)\u001b[0m\u001b[0;34m\u001b[0m\u001b[0;34m\u001b[0m\u001b[0m\n\u001b[1;32m      2\u001b[0m \u001b[0marr3\u001b[0m \u001b[0;34m=\u001b[0m \u001b[0mnp\u001b[0m\u001b[0;34m.\u001b[0m\u001b[0marray\u001b[0m\u001b[0;34m(\u001b[0m\u001b[0;34m[\u001b[0m\u001b[0;36m100\u001b[0m\u001b[0;34m,\u001b[0m\u001b[0;36m200\u001b[0m\u001b[0;34m]\u001b[0m\u001b[0;34m)\u001b[0m\u001b[0;34m\u001b[0m\u001b[0;34m\u001b[0m\u001b[0m\n\u001b[0;32m----> 3\u001b[0;31m \u001b[0marr2\u001b[0m \u001b[0;34m+\u001b[0m \u001b[0marr3\u001b[0m\u001b[0;34m\u001b[0m\u001b[0;34m\u001b[0m\u001b[0m\n\u001b[0m",
            "\u001b[0;31mValueError\u001b[0m: operands could not be broadcast together with shapes (3,) (2,) "
          ]
        }
      ]
    },
    {
      "cell_type": "markdown",
      "source": [
        "- 리스트와 비교"
      ],
      "metadata": {
        "id": "7i42CMMVR7Sd"
      }
    },
    {
      "cell_type": "code",
      "source": [
        "# 리스트\n",
        "li_1 = [1,2,3]\n",
        "li_1 + li_1"
      ],
      "metadata": {
        "colab": {
          "base_uri": "https://localhost:8080/"
        },
        "id": "JlPltSiVR8SU",
        "outputId": "e4544167-1d28-4315-924c-dbc0fd8c8c0c"
      },
      "execution_count": null,
      "outputs": [
        {
          "output_type": "execute_result",
          "data": {
            "text/plain": [
              "[1, 2, 3, 1, 2, 3]"
            ]
          },
          "metadata": {},
          "execution_count": 26
        }
      ]
    },
    {
      "cell_type": "code",
      "source": [
        "# Numpy\n",
        "arr_1 = np.array([1,2,3])\n",
        "arr_1 + arr_1"
      ],
      "metadata": {
        "colab": {
          "base_uri": "https://localhost:8080/"
        },
        "id": "QtC6r4CgSIlq",
        "outputId": "be684a35-d9a0-4a92-e72a-a3c41ca0f2c7"
      },
      "execution_count": null,
      "outputs": [
        {
          "output_type": "execute_result",
          "data": {
            "text/plain": [
              "array([2, 4, 6])"
            ]
          },
          "metadata": {},
          "execution_count": 27
        }
      ]
    },
    {
      "cell_type": "markdown",
      "source": [
        "#### dtype\n",
        "- 배열에 담긴 원소의 자료형\n",
        "\n"
      ],
      "metadata": {
        "id": "U2soVzIJV3J0"
      }
    },
    {
      "cell_type": "markdown",
      "source": [
        "#### size\n",
        "- 배열에 있는 원소의 전체 갯수"
      ],
      "metadata": {
        "id": "yNotNXK7WCd0"
      }
    },
    {
      "cell_type": "markdown",
      "source": [
        "#### ndim\n",
        "- 배열의 차원의 갯수\n",
        "- shape을 더 많이 쓰기는 함."
      ],
      "metadata": {
        "id": "ocy5g7_HWFK8"
      }
    },
    {
      "cell_type": "code",
      "source": [
        "arr.ndim"
      ],
      "metadata": {
        "colab": {
          "base_uri": "https://localhost:8080/"
        },
        "id": "cZtqZDCpWUus",
        "outputId": "edcc4404-00fe-4051-f128-e8a45b2e1fd4"
      },
      "execution_count": null,
      "outputs": [
        {
          "output_type": "execute_result",
          "data": {
            "text/plain": [
              "1"
            ]
          },
          "metadata": {},
          "execution_count": 28
        }
      ]
    },
    {
      "cell_type": "code",
      "source": [
        "arr.shape"
      ],
      "metadata": {
        "colab": {
          "base_uri": "https://localhost:8080/"
        },
        "id": "QA0gXFZKWXbk",
        "outputId": "b75eadd9-bfb8-4dce-ab78-1e64fd0aff69"
      },
      "execution_count": null,
      "outputs": [
        {
          "output_type": "execute_result",
          "data": {
            "text/plain": [
              "(3,)"
            ]
          },
          "metadata": {},
          "execution_count": 29
        }
      ]
    },
    {
      "cell_type": "markdown",
      "source": [
        "- 0차원 : 상수"
      ],
      "metadata": {
        "id": "r7Ok6CTIWfzs"
      }
    },
    {
      "cell_type": "code",
      "source": [
        "import numpy as np\n",
        "# a = np.array(10)\n",
        "# print(a)\n",
        "# print(a.ndim)"
      ],
      "metadata": {
        "colab": {
          "base_uri": "https://localhost:8080/"
        },
        "id": "R3YJ0Ea7Wi5E",
        "outputId": "cd146c12-b929-4cd3-9470-b6f8f6f3be13"
      },
      "execution_count": null,
      "outputs": [
        {
          "output_type": "stream",
          "name": "stdout",
          "text": [
            "10\n",
            "0\n"
          ]
        }
      ]
    },
    {
      "cell_type": "markdown",
      "source": [
        "- 1차원"
      ],
      "metadata": {
        "id": "7aXO5As2Wtj8"
      }
    },
    {
      "cell_type": "code",
      "source": [
        "import numpy as np\n",
        "# a = np.array([1,2,3])\n",
        "# print(a)\n",
        "# print(a.ndim)"
      ],
      "metadata": {
        "colab": {
          "base_uri": "https://localhost:8080/"
        },
        "id": "cFLX7k1YWvPH",
        "outputId": "3a5c70f9-c5d9-483f-a283-a71bccc8f815"
      },
      "execution_count": null,
      "outputs": [
        {
          "output_type": "stream",
          "name": "stdout",
          "text": [
            "[1 2 3]\n",
            "1\n"
          ]
        }
      ]
    },
    {
      "cell_type": "markdown",
      "source": [
        "- 2차원"
      ],
      "metadata": {
        "id": "yxwPbnRIXH1l"
      }
    },
    {
      "cell_type": "code",
      "source": [
        "# a = np.array([[1,2],[3,4]])\n",
        "# print(a)\n",
        "# print(a.ndim)"
      ],
      "metadata": {
        "colab": {
          "base_uri": "https://localhost:8080/"
        },
        "id": "bJfEcDVGXJNc",
        "outputId": "b0224ac9-fa0a-4484-e963-e6b9b4374214"
      },
      "execution_count": null,
      "outputs": [
        {
          "output_type": "stream",
          "name": "stdout",
          "text": [
            "[[1 2]\n",
            " [3 4]]\n",
            "2\n"
          ]
        }
      ]
    },
    {
      "cell_type": "markdown",
      "source": [
        "#### 3차원\n",
        "여기서부터 복잡해짐\n",
        "- 그래서 데이터분석할때는 3D 안함. 2D로 내려와서 작업."
      ],
      "metadata": {
        "id": "-KdGZK28Xonc"
      }
    },
    {
      "cell_type": "code",
      "source": [
        "# a = np.array([[[1,2],[3,4]]])\n",
        "# print(a)\n",
        "# print(a.ndim)\n",
        "# print(a.shape)   #-> 이게 이상해짐."
      ],
      "metadata": {
        "colab": {
          "base_uri": "https://localhost:8080/"
        },
        "id": "ZUQR-GxJXsGO",
        "outputId": "9bced962-ccb3-45e7-8dad-3f2682128ab3"
      },
      "execution_count": null,
      "outputs": [
        {
          "output_type": "stream",
          "name": "stdout",
          "text": [
            "[[[1 2]\n",
            "  [3 4]]]\n",
            "3\n",
            "(1, 2, 2)\n"
          ]
        }
      ]
    },
    {
      "cell_type": "markdown",
      "source": [
        "- range 함수를 이용"
      ],
      "metadata": {
        "id": "6-M5SpsIYUTl"
      }
    },
    {
      "cell_type": "code",
      "source": [
        "arr1 = np.array(range(20))\n",
        "arr1"
      ],
      "metadata": {
        "colab": {
          "base_uri": "https://localhost:8080/"
        },
        "id": "ZmgGRxcAYYK-",
        "outputId": "0f33968d-04a2-4f19-9e25-a1db7a113370"
      },
      "execution_count": null,
      "outputs": [
        {
          "output_type": "execute_result",
          "data": {
            "text/plain": [
              "array([ 0,  1,  2,  3,  4,  5,  6,  7,  8,  9, 10, 11, 12, 13, 14, 15, 16,\n",
              "       17, 18, 19])"
            ]
          },
          "metadata": {},
          "execution_count": 34
        }
      ]
    },
    {
      "cell_type": "code",
      "source": [
        "# 위와 같은 결과. 같은데 다른방식으로 표현. 이 표현을 많이 씀\n",
        "arr2 = np.arange(20)\n",
        "arr2"
      ],
      "metadata": {
        "colab": {
          "base_uri": "https://localhost:8080/"
        },
        "id": "27R_zf2dYgId",
        "outputId": "d8781ab1-6863-4981-de54-30fefffd5551"
      },
      "execution_count": null,
      "outputs": [
        {
          "output_type": "execute_result",
          "data": {
            "text/plain": [
              "array([ 0,  1,  2,  3,  4,  5,  6,  7,  8,  9, 10, 11, 12, 13, 14, 15, 16,\n",
              "       17, 18, 19])"
            ]
          },
          "metadata": {},
          "execution_count": 35
        }
      ]
    },
    {
      "cell_type": "markdown",
      "source": [
        "- (참고) 간단하게 쓸 수도 있으나 코딩테스트를 볼 때에 패키지를 못쓸 때가 있음. 그래서 패키지 안쓰고 코딩 하는 법을 알아야함."
      ],
      "metadata": {
        "id": "HIZUMPzmYtsn"
      }
    },
    {
      "cell_type": "markdown",
      "source": [
        "#### 배열 생성 함수\n",
        "- zeros : np.zeros(5) -> 0이 할당된 것\n",
        "- ones : np.ones((3,3))\n",
        "- full : np.full((4),5)\n",
        "- empty : np.empty((2,3),dtype=np.float64) -> 0이 할당 안됌\n",
        "- (참고) none : \n",
        "- arange : \n",
        "-linspace : 잘게 쪼갤때 -> linspace(0,1,6) : 0부터 1까지 6개로 쪼개달라"
      ],
      "metadata": {
        "id": "CmkcdzPuY8Av"
      }
    },
    {
      "cell_type": "markdown",
      "source": [
        "#### 배열 결합 함수\n",
        "- hstack, concatenate\n",
        "- 두 배열을 왼쪽에서 오른쪽으로 붙이기\n",
        "- 단점 : 2차원일때 조금 이상하게 붙음."
      ],
      "metadata": {
        "id": "SraDGj7ojii6"
      }
    },
    {
      "cell_type": "code",
      "source": [
        "# a = np.array([1,2,3])\n",
        "# b = np.array([4,5,6])\n",
        "\n",
        "# # np.hstack([a,b])\n",
        "# np.concatenate((a,b),axis=0)    # axis=0 은 행을 인식함"
      ],
      "metadata": {
        "colab": {
          "base_uri": "https://localhost:8080/"
        },
        "id": "6Y59b2UvjwJ5",
        "outputId": "de7a32fa-64b0-4e59-dcd1-40d952934604"
      },
      "execution_count": null,
      "outputs": [
        {
          "output_type": "execute_result",
          "data": {
            "text/plain": [
              "array([1, 2, 3, 4, 5, 6])"
            ]
          },
          "metadata": {},
          "execution_count": 36
        }
      ]
    },
    {
      "cell_type": "code",
      "source": [
        "# a = np.array([[1,2],[3,4]])\n",
        "# b = np.array([[5,6],[7,8]])\n",
        "\n",
        "# np.hstack([a,b])"
      ],
      "metadata": {
        "colab": {
          "base_uri": "https://localhost:8080/"
        },
        "id": "ouIJykVakETb",
        "outputId": "2898b7f1-3b3e-43ef-9aeb-8583122379c6"
      },
      "execution_count": null,
      "outputs": [
        {
          "output_type": "execute_result",
          "data": {
            "text/plain": [
              "array([[1, 2, 5, 6],\n",
              "       [3, 4, 7, 8]])"
            ]
          },
          "metadata": {},
          "execution_count": 37
        }
      ]
    },
    {
      "cell_type": "markdown",
      "source": [
        "- vstack(vertical), concatenate(axis=1)"
      ],
      "metadata": {
        "id": "l4cApDIvlMMZ"
      }
    },
    {
      "cell_type": "code",
      "source": [
        "a = np.array([1,2,3])\n",
        "b = np.array([4,5,6])\n",
        "\n",
        "# np.vstack([a,b])\n",
        "\n",
        "# np.concatenate((a,b),axis=1) #->이건 안됨. 1D vector는 안됨."
      ],
      "metadata": {
        "id": "XRDNLCKHlNPI"
      },
      "execution_count": null,
      "outputs": []
    },
    {
      "cell_type": "code",
      "source": [
        "# c = np.array([[0,1,2],[3,4,5]])\n",
        "# d = np.array([[6,7,8],[9,10,11]])\n",
        "\n",
        "# np.concatenate((c,d),axis=1)  #-> 이렇게는 됨."
      ],
      "metadata": {
        "id": "me_AfAhvla3_"
      },
      "execution_count": null,
      "outputs": []
    },
    {
      "cell_type": "markdown",
      "source": [
        "- 두 배열을 위 아래로 붙이기"
      ],
      "metadata": {
        "id": "Bp5v1h7el2pz"
      }
    },
    {
      "cell_type": "code",
      "source": [
        "a,b"
      ],
      "metadata": {
        "id": "UNnfxHQjmCbr"
      },
      "execution_count": null,
      "outputs": []
    },
    {
      "cell_type": "code",
      "source": [
        "np.column_stack([a,b])"
      ],
      "metadata": {
        "id": "-LYJ3-dxmfka"
      },
      "execution_count": null,
      "outputs": []
    },
    {
      "cell_type": "markdown",
      "source": [
        "- 랜덤 모듈"
      ],
      "metadata": {
        "id": "_IRGPIUWmi46"
      }
    },
    {
      "cell_type": "code",
      "source": [
        "import random\n",
        "import numpy as np\n",
        "\n",
        "random.random() #<=리턴값<=1"
      ],
      "metadata": {
        "colab": {
          "base_uri": "https://localhost:8080/"
        },
        "id": "B1FfPVG0mjV5",
        "outputId": "0db80d51-436e-4252-92c4-15274ff89540"
      },
      "execution_count": null,
      "outputs": [
        {
          "output_type": "execute_result",
          "data": {
            "text/plain": [
              "0.7077719831686492"
            ]
          },
          "metadata": {},
          "execution_count": 44
        }
      ]
    },
    {
      "cell_type": "code",
      "source": [
        "data = [1,2,3,4,5,6,7]\n",
        "\n",
        "np.random.choice(data,3)"
      ],
      "metadata": {
        "colab": {
          "base_uri": "https://localhost:8080/"
        },
        "id": "W4qx4JodnKwn",
        "outputId": "7ab40072-beb4-4d60-a7cd-604738055626"
      },
      "execution_count": null,
      "outputs": [
        {
          "output_type": "execute_result",
          "data": {
            "text/plain": [
              "array([6, 5, 5])"
            ]
          },
          "metadata": {},
          "execution_count": 42
        }
      ]
    },
    {
      "cell_type": "code",
      "source": [
        "data = ['apple','banana','grape','orange']\n",
        "\n",
        "random.choice(data)"
      ],
      "metadata": {
        "colab": {
          "base_uri": "https://localhost:8080/",
          "height": 35
        },
        "id": "gKFg5IB4nSsq",
        "outputId": "f0a40179-f0c3-40ee-e2e9-82b47092f9ad"
      },
      "execution_count": null,
      "outputs": [
        {
          "output_type": "execute_result",
          "data": {
            "text/plain": [
              "'orange'"
            ],
            "application/vnd.google.colaboratory.intrinsic+json": {
              "type": "string"
            }
          },
          "metadata": {},
          "execution_count": 45
        }
      ]
    },
    {
      "cell_type": "markdown",
      "source": [
        "- seed : 난수 초기값 부여. -> 재현가능성 높이기 위해 \n",
        "내가 보낸 코드가 남에게도 똑같이 돌아가게 하기 위해"
      ],
      "metadata": {
        "id": "g-hkavJlng5P"
      }
    },
    {
      "cell_type": "code",
      "source": [
        "np.random.seed(42) # 42번 동안 난수 똑같이 유지해라"
      ],
      "metadata": {
        "id": "Gymg8cx4nk3a"
      },
      "execution_count": null,
      "outputs": []
    },
    {
      "cell_type": "code",
      "source": [
        "np.random.rand(1000)"
      ],
      "metadata": {
        "id": "7J6ttq6mq_97"
      },
      "execution_count": null,
      "outputs": []
    },
    {
      "cell_type": "code",
      "source": [
        "np.random.randn(1000) #정규분포"
      ],
      "metadata": {
        "id": "OdGrJT95rC-x"
      },
      "execution_count": null,
      "outputs": []
    },
    {
      "cell_type": "markdown",
      "source": [
        "- 강의자료) 파이썬 넘피) p.43\n",
        "- 로또번호 생성기 만들기"
      ],
      "metadata": {
        "id": "UrOJWqKVoRFu"
      }
    },
    {
      "cell_type": "code",
      "source": [
        "import numpy as np\n",
        "def make_lotto(count):\n",
        "    for i in range(count):\n",
        "        lotto_num = [] #로또 번호가 담길 리스트형 변수\n",
        "        for j in range(6): #6번 반복\n",
        "            lotto_num = np.random.choice(range(1,46),6,replace=False)\n",
        "            lotto_num.sort() #값 정렬\n",
        "        print('{}.로또번호:{}'.format(i+1,lotto_num))"
      ],
      "metadata": {
        "id": "N9ShMoKSoekc"
      },
      "execution_count": null,
      "outputs": []
    },
    {
      "cell_type": "markdown",
      "source": [
        "- (range(1,46),6 : 45개 중에 6개 뽑아달라\n",
        "- replace=False  : 중복추출 막음."
      ],
      "metadata": {
        "id": "ThID529is5KH"
      }
    },
    {
      "cell_type": "code",
      "source": [
        "count = int(input('로또 번호를 몇개 생성할까요?'))\n",
        "make_lotto(count)"
      ],
      "metadata": {
        "colab": {
          "base_uri": "https://localhost:8080/"
        },
        "id": "H3uJfvrSssZf",
        "outputId": "afb9f0fd-0620-4504-d8c0-23efa9071837"
      },
      "execution_count": null,
      "outputs": [
        {
          "output_type": "stream",
          "name": "stdout",
          "text": [
            "로또 번호를 몇개 생성할까요?3\n",
            "1.로또번호:[18 22 24 28 35 36]\n",
            "2.로또번호:[17 26 30 32 33 44]\n",
            "3.로또번호:[ 3 12 13 27 30 37]\n"
          ]
        }
      ]
    },
    {
      "cell_type": "code",
      "source": [],
      "metadata": {
        "id": "nzLLGKupt6qY"
      },
      "execution_count": null,
      "outputs": []
    }
  ]
}
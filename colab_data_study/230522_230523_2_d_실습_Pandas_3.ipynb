{
  "cells": [
    {
      "cell_type": "markdown",
      "metadata": {
        "id": "pOIPDXpgSJei"
      },
      "source": [
        "winemag-data.csv 파일을 reviews 로 읽는다."
      ]
    },
    {
      "cell_type": "code",
      "execution_count": 102,
      "metadata": {
        "id": "CKs-WV_cSJen"
      },
      "outputs": [],
      "source": [
        "import pandas as pd"
      ]
    },
    {
      "cell_type": "code",
      "source": [
        "from google.colab import drive\n",
        "drive.mount('/content/drive')"
      ],
      "metadata": {
        "colab": {
          "base_uri": "https://localhost:8080/"
        },
        "id": "5-HYCm0fSNxu",
        "outputId": "326fc0d3-17a8-4d6e-b601-ab3cc4e652db"
      },
      "execution_count": 103,
      "outputs": [
        {
          "output_type": "stream",
          "name": "stdout",
          "text": [
            "Drive already mounted at /content/drive; to attempt to forcibly remount, call drive.mount(\"/content/drive\", force_remount=True).\n"
          ]
        }
      ]
    },
    {
      "cell_type": "code",
      "execution_count": 104,
      "metadata": {
        "id": "LVAOePHFSJeo",
        "colab": {
          "base_uri": "https://localhost:8080/",
          "height": 433
        },
        "outputId": "a8fccf70-18bd-4806-e430-0513ba59b85e"
      },
      "outputs": [
        {
          "output_type": "execute_result",
          "data": {
            "text/plain": [
              "    country                                        description   designation  \\\n",
              "0     Italy  Aromas include tropical fruit, broom, brimston...  Vulkà Bianco   \n",
              "1  Portugal  This is ripe and fruity, a wine that is smooth...      Avidagos   \n",
              "2        US  Tart and snappy, the flavors of lime flesh and...           NaN   \n",
              "\n",
              "   points  price           province           region_1           region_2  \\\n",
              "0      87    NaN  Sicily & Sardinia               Etna                NaN   \n",
              "1      87   15.0              Douro                NaN                NaN   \n",
              "2      87   14.0             Oregon  Willamette Valley  Willamette Valley   \n",
              "\n",
              "     taster_name taster_twitter_handle  \\\n",
              "0  Kerin O’Keefe          @kerinokeefe   \n",
              "1     Roger Voss            @vossroger   \n",
              "2   Paul Gregutt           @paulgwine    \n",
              "\n",
              "                                           title         variety  \\\n",
              "0              Nicosia 2013 Vulkà Bianco  (Etna)     White Blend   \n",
              "1  Quinta dos Avidagos 2011 Avidagos Red (Douro)  Portuguese Red   \n",
              "2  Rainstorm 2013 Pinot Gris (Willamette Valley)      Pinot Gris   \n",
              "\n",
              "                winery  \n",
              "0              Nicosia  \n",
              "1  Quinta dos Avidagos  \n",
              "2            Rainstorm  "
            ],
            "text/html": [
              "\n",
              "  <div id=\"df-a2379cfa-a74a-4594-91aa-0e9596647362\">\n",
              "    <div class=\"colab-df-container\">\n",
              "      <div>\n",
              "<style scoped>\n",
              "    .dataframe tbody tr th:only-of-type {\n",
              "        vertical-align: middle;\n",
              "    }\n",
              "\n",
              "    .dataframe tbody tr th {\n",
              "        vertical-align: top;\n",
              "    }\n",
              "\n",
              "    .dataframe thead th {\n",
              "        text-align: right;\n",
              "    }\n",
              "</style>\n",
              "<table border=\"1\" class=\"dataframe\">\n",
              "  <thead>\n",
              "    <tr style=\"text-align: right;\">\n",
              "      <th></th>\n",
              "      <th>country</th>\n",
              "      <th>description</th>\n",
              "      <th>designation</th>\n",
              "      <th>points</th>\n",
              "      <th>price</th>\n",
              "      <th>province</th>\n",
              "      <th>region_1</th>\n",
              "      <th>region_2</th>\n",
              "      <th>taster_name</th>\n",
              "      <th>taster_twitter_handle</th>\n",
              "      <th>title</th>\n",
              "      <th>variety</th>\n",
              "      <th>winery</th>\n",
              "    </tr>\n",
              "  </thead>\n",
              "  <tbody>\n",
              "    <tr>\n",
              "      <th>0</th>\n",
              "      <td>Italy</td>\n",
              "      <td>Aromas include tropical fruit, broom, brimston...</td>\n",
              "      <td>Vulkà Bianco</td>\n",
              "      <td>87</td>\n",
              "      <td>NaN</td>\n",
              "      <td>Sicily &amp; Sardinia</td>\n",
              "      <td>Etna</td>\n",
              "      <td>NaN</td>\n",
              "      <td>Kerin O’Keefe</td>\n",
              "      <td>@kerinokeefe</td>\n",
              "      <td>Nicosia 2013 Vulkà Bianco  (Etna)</td>\n",
              "      <td>White Blend</td>\n",
              "      <td>Nicosia</td>\n",
              "    </tr>\n",
              "    <tr>\n",
              "      <th>1</th>\n",
              "      <td>Portugal</td>\n",
              "      <td>This is ripe and fruity, a wine that is smooth...</td>\n",
              "      <td>Avidagos</td>\n",
              "      <td>87</td>\n",
              "      <td>15.0</td>\n",
              "      <td>Douro</td>\n",
              "      <td>NaN</td>\n",
              "      <td>NaN</td>\n",
              "      <td>Roger Voss</td>\n",
              "      <td>@vossroger</td>\n",
              "      <td>Quinta dos Avidagos 2011 Avidagos Red (Douro)</td>\n",
              "      <td>Portuguese Red</td>\n",
              "      <td>Quinta dos Avidagos</td>\n",
              "    </tr>\n",
              "    <tr>\n",
              "      <th>2</th>\n",
              "      <td>US</td>\n",
              "      <td>Tart and snappy, the flavors of lime flesh and...</td>\n",
              "      <td>NaN</td>\n",
              "      <td>87</td>\n",
              "      <td>14.0</td>\n",
              "      <td>Oregon</td>\n",
              "      <td>Willamette Valley</td>\n",
              "      <td>Willamette Valley</td>\n",
              "      <td>Paul Gregutt</td>\n",
              "      <td>@paulgwine</td>\n",
              "      <td>Rainstorm 2013 Pinot Gris (Willamette Valley)</td>\n",
              "      <td>Pinot Gris</td>\n",
              "      <td>Rainstorm</td>\n",
              "    </tr>\n",
              "  </tbody>\n",
              "</table>\n",
              "</div>\n",
              "      <button class=\"colab-df-convert\" onclick=\"convertToInteractive('df-a2379cfa-a74a-4594-91aa-0e9596647362')\"\n",
              "              title=\"Convert this dataframe to an interactive table.\"\n",
              "              style=\"display:none;\">\n",
              "        \n",
              "  <svg xmlns=\"http://www.w3.org/2000/svg\" height=\"24px\"viewBox=\"0 0 24 24\"\n",
              "       width=\"24px\">\n",
              "    <path d=\"M0 0h24v24H0V0z\" fill=\"none\"/>\n",
              "    <path d=\"M18.56 5.44l.94 2.06.94-2.06 2.06-.94-2.06-.94-.94-2.06-.94 2.06-2.06.94zm-11 1L8.5 8.5l.94-2.06 2.06-.94-2.06-.94L8.5 2.5l-.94 2.06-2.06.94zm10 10l.94 2.06.94-2.06 2.06-.94-2.06-.94-.94-2.06-.94 2.06-2.06.94z\"/><path d=\"M17.41 7.96l-1.37-1.37c-.4-.4-.92-.59-1.43-.59-.52 0-1.04.2-1.43.59L10.3 9.45l-7.72 7.72c-.78.78-.78 2.05 0 2.83L4 21.41c.39.39.9.59 1.41.59.51 0 1.02-.2 1.41-.59l7.78-7.78 2.81-2.81c.8-.78.8-2.07 0-2.86zM5.41 20L4 18.59l7.72-7.72 1.47 1.35L5.41 20z\"/>\n",
              "  </svg>\n",
              "      </button>\n",
              "      \n",
              "  <style>\n",
              "    .colab-df-container {\n",
              "      display:flex;\n",
              "      flex-wrap:wrap;\n",
              "      gap: 12px;\n",
              "    }\n",
              "\n",
              "    .colab-df-convert {\n",
              "      background-color: #E8F0FE;\n",
              "      border: none;\n",
              "      border-radius: 50%;\n",
              "      cursor: pointer;\n",
              "      display: none;\n",
              "      fill: #1967D2;\n",
              "      height: 32px;\n",
              "      padding: 0 0 0 0;\n",
              "      width: 32px;\n",
              "    }\n",
              "\n",
              "    .colab-df-convert:hover {\n",
              "      background-color: #E2EBFA;\n",
              "      box-shadow: 0px 1px 2px rgba(60, 64, 67, 0.3), 0px 1px 3px 1px rgba(60, 64, 67, 0.15);\n",
              "      fill: #174EA6;\n",
              "    }\n",
              "\n",
              "    [theme=dark] .colab-df-convert {\n",
              "      background-color: #3B4455;\n",
              "      fill: #D2E3FC;\n",
              "    }\n",
              "\n",
              "    [theme=dark] .colab-df-convert:hover {\n",
              "      background-color: #434B5C;\n",
              "      box-shadow: 0px 1px 3px 1px rgba(0, 0, 0, 0.15);\n",
              "      filter: drop-shadow(0px 1px 2px rgba(0, 0, 0, 0.3));\n",
              "      fill: #FFFFFF;\n",
              "    }\n",
              "  </style>\n",
              "\n",
              "      <script>\n",
              "        const buttonEl =\n",
              "          document.querySelector('#df-a2379cfa-a74a-4594-91aa-0e9596647362 button.colab-df-convert');\n",
              "        buttonEl.style.display =\n",
              "          google.colab.kernel.accessAllowed ? 'block' : 'none';\n",
              "\n",
              "        async function convertToInteractive(key) {\n",
              "          const element = document.querySelector('#df-a2379cfa-a74a-4594-91aa-0e9596647362');\n",
              "          const dataTable =\n",
              "            await google.colab.kernel.invokeFunction('convertToInteractive',\n",
              "                                                     [key], {});\n",
              "          if (!dataTable) return;\n",
              "\n",
              "          const docLinkHtml = 'Like what you see? Visit the ' +\n",
              "            '<a target=\"_blank\" href=https://colab.research.google.com/notebooks/data_table.ipynb>data table notebook</a>'\n",
              "            + ' to learn more about interactive tables.';\n",
              "          element.innerHTML = '';\n",
              "          dataTable['output_type'] = 'display_data';\n",
              "          await google.colab.output.renderOutput(dataTable, element);\n",
              "          const docLink = document.createElement('div');\n",
              "          docLink.innerHTML = docLinkHtml;\n",
              "          element.appendChild(docLink);\n",
              "        }\n",
              "      </script>\n",
              "    </div>\n",
              "  </div>\n",
              "  "
            ]
          },
          "metadata": {},
          "execution_count": 104
        }
      ],
      "source": [
        "import pandas as pd\n",
        "reviews = pd.read_csv('/content/drive/MyDrive/Colab Notebooks/yh-k4-main-수정용/data/winemag-data.csv', index_col = 0 )\n",
        "\n",
        "reviews\n",
        "\n",
        "reviews.head(3)"
      ]
    },
    {
      "cell_type": "code",
      "execution_count": 7,
      "metadata": {
        "id": "yZda9yrSSJep"
      },
      "outputs": [],
      "source": []
    },
    {
      "cell_type": "markdown",
      "metadata": {
        "id": "eHUDmnxxSJep"
      },
      "source": [
        "리뷰 데이터프레임에서 points 컬럼의  median 값은?"
      ]
    },
    {
      "cell_type": "code",
      "execution_count": 8,
      "metadata": {
        "id": "mWs2UeSpSJeq"
      },
      "outputs": [],
      "source": [
        "#### 나의 풀이"
      ]
    },
    {
      "cell_type": "code",
      "execution_count": 9,
      "metadata": {
        "colab": {
          "base_uri": "https://localhost:8080/"
        },
        "id": "lcBxP-mOSJeq",
        "outputId": "22d127b0-5622-417d-b493-422ba49e48d0"
      },
      "outputs": [
        {
          "output_type": "execute_result",
          "data": {
            "text/plain": [
              "88.0"
            ]
          },
          "metadata": {},
          "execution_count": 9
        }
      ],
      "source": [
        "#### 해설\n",
        "\n",
        "# \n",
        "reviews['points'].median()\n"
      ]
    },
    {
      "cell_type": "markdown",
      "metadata": {
        "id": "ipe0ByU-SJer"
      },
      "source": [
        "나라를 중복되지 않도록 가져와서 countries 변수에 저장하고, 화면에 출력하시오."
      ]
    },
    {
      "cell_type": "code",
      "execution_count": 10,
      "metadata": {
        "id": "GA8alATnSJes"
      },
      "outputs": [],
      "source": [
        "#### 나의 풀이"
      ]
    },
    {
      "cell_type": "code",
      "execution_count": 105,
      "metadata": {
        "colab": {
          "base_uri": "https://localhost:8080/"
        },
        "id": "4Ymu8rruSJes",
        "outputId": "539b4d31-05fd-4750-9ec8-8632e58185e0"
      },
      "outputs": [
        {
          "output_type": "execute_result",
          "data": {
            "text/plain": [
              "array(['Italy', 'Portugal', 'US', 'Spain', 'France', 'Germany',\n",
              "       'Argentina', 'Chile', 'Australia', 'Austria', 'South Africa',\n",
              "       'New Zealand', 'Israel', 'Hungary', 'Greece', 'Romania', 'Mexico',\n",
              "       'Canada', nan, 'Turkey', 'Czech Republic', 'Slovenia',\n",
              "       'Luxembourg', 'Croatia', 'Georgia', 'Uruguay', 'England',\n",
              "       'Lebanon', 'Serbia', 'Brazil', 'Moldova', 'Morocco', 'Peru',\n",
              "       'India', 'Bulgaria', 'Cyprus', 'Armenia', 'Switzerland',\n",
              "       'Bosnia and Herzegovina', 'Ukraine', 'Slovakia', 'Macedonia',\n",
              "       'China', 'Egypt'], dtype=object)"
            ]
          },
          "metadata": {},
          "execution_count": 105
        }
      ],
      "source": [
        "#### 해설\n",
        "\n",
        "# # 1. 필요한 데이터에 접근\n",
        "# reviews['country']\n",
        "\n",
        "# # 2. 중복제거\n",
        "# reviews['country'].unique()\n",
        "\n",
        "# 3. 변수에 저장 및 출력\n",
        "countries =  reviews['country'].unique()\n",
        "countries\n",
        "\n"
      ]
    },
    {
      "cell_type": "code",
      "execution_count": 11,
      "metadata": {
        "id": "lT_2x_WRSJet"
      },
      "outputs": [],
      "source": []
    },
    {
      "cell_type": "markdown",
      "metadata": {
        "id": "JRWE_XXuSJet"
      },
      "source": [
        "각 국가별로는 몇개의 리뷰가 있는지, 각국가별 리뷰수를 구하시오."
      ]
    },
    {
      "cell_type": "code",
      "execution_count": 12,
      "metadata": {
        "id": "9vqvCsADSJeu"
      },
      "outputs": [],
      "source": [
        "#### 나의 풀이"
      ]
    },
    {
      "cell_type": "code",
      "execution_count": 106,
      "metadata": {
        "colab": {
          "base_uri": "https://localhost:8080/"
        },
        "id": "VcOop_eDSJeu",
        "outputId": "53a018b8-71c1-4505-ab3d-9914b7d3b08b"
      },
      "outputs": [
        {
          "output_type": "execute_result",
          "data": {
            "text/plain": [
              "country\n",
              "Argentina                  3800\n",
              "Armenia                       2\n",
              "Australia                  2329\n",
              "Austria                    3345\n",
              "Bosnia and Herzegovina        2\n",
              "Brazil                       52\n",
              "Bulgaria                    141\n",
              "Canada                      257\n",
              "Chile                      4472\n",
              "China                         1\n",
              "Croatia                      73\n",
              "Cyprus                       11\n",
              "Czech Republic               12\n",
              "Egypt                         1\n",
              "England                      74\n",
              "France                    22093\n",
              "Georgia                      86\n",
              "Germany                    2165\n",
              "Greece                      466\n",
              "Hungary                     146\n",
              "India                         9\n",
              "Israel                      505\n",
              "Italy                     19540\n",
              "Lebanon                      35\n",
              "Luxembourg                    6\n",
              "Macedonia                    12\n",
              "Mexico                       70\n",
              "Moldova                      59\n",
              "Morocco                      28\n",
              "New Zealand                1419\n",
              "Peru                         16\n",
              "Portugal                   5691\n",
              "Romania                     120\n",
              "Serbia                       12\n",
              "Slovakia                      1\n",
              "Slovenia                     87\n",
              "South Africa               1401\n",
              "Spain                      6645\n",
              "Switzerland                   7\n",
              "Turkey                       90\n",
              "US                        54504\n",
              "Ukraine                      14\n",
              "Uruguay                     109\n",
              "Name: country, dtype: int64"
            ]
          },
          "metadata": {},
          "execution_count": 106
        }
      ],
      "source": [
        "#### 해설\n",
        "\n",
        "# # 1. 첫번째\n",
        "# # 1) 국가별로 묶어라 - groupby\n",
        "# reviews.groupby('country')\n",
        "# # 2) 국가별로 묶어서 컨트리만 가져와서\n",
        "# reviews.groupby('country')['country']\n",
        "# # 3) 갯수 세기\n",
        "reviews.groupby('country')['country'].count()\n"
      ]
    },
    {
      "cell_type": "code",
      "source": [
        "# 4) 정렬하기\n",
        "# 판다스 시리즈임\n",
        "\n",
        "reviews.groupby('country')['country'].count().sort_values()  # 오름차순\n",
        "# reviews.groupby('country')['country'].count().sort_values(ascending = False) # 내림차순 \n"
      ],
      "metadata": {
        "id": "oBdyj9C6W7q_",
        "colab": {
          "base_uri": "https://localhost:8080/"
        },
        "outputId": "c9368543-587b-43bf-f731-4bde805fd846"
      },
      "execution_count": 14,
      "outputs": [
        {
          "output_type": "execute_result",
          "data": {
            "text/plain": [
              "country\n",
              "China                         1\n",
              "Slovakia                      1\n",
              "Egypt                         1\n",
              "Armenia                       2\n",
              "Bosnia and Herzegovina        2\n",
              "Luxembourg                    6\n",
              "Switzerland                   7\n",
              "India                         9\n",
              "Cyprus                       11\n",
              "Czech Republic               12\n",
              "Serbia                       12\n",
              "Macedonia                    12\n",
              "Ukraine                      14\n",
              "Peru                         16\n",
              "Morocco                      28\n",
              "Lebanon                      35\n",
              "Brazil                       52\n",
              "Moldova                      59\n",
              "Mexico                       70\n",
              "Croatia                      73\n",
              "England                      74\n",
              "Georgia                      86\n",
              "Slovenia                     87\n",
              "Turkey                       90\n",
              "Uruguay                     109\n",
              "Romania                     120\n",
              "Bulgaria                    141\n",
              "Hungary                     146\n",
              "Canada                      257\n",
              "Greece                      466\n",
              "Israel                      505\n",
              "South Africa               1401\n",
              "New Zealand                1419\n",
              "Germany                    2165\n",
              "Australia                  2329\n",
              "Austria                    3345\n",
              "Argentina                  3800\n",
              "Chile                      4472\n",
              "Portugal                   5691\n",
              "Spain                      6645\n",
              "Italy                     19540\n",
              "France                    22093\n",
              "US                        54504\n",
              "Name: country, dtype: int64"
            ]
          },
          "metadata": {},
          "execution_count": 14
        }
      ]
    },
    {
      "cell_type": "code",
      "source": [
        "#### 해설\n",
        "\n",
        "# 2. 두번째 \n",
        "reviews['country'].value_counts()  # .value_counts() 의 () 안에 ascending = False 넣으면 내림차순 "
      ],
      "metadata": {
        "id": "nGOF2EZQW45P"
      },
      "execution_count": null,
      "outputs": []
    },
    {
      "cell_type": "markdown",
      "metadata": {
        "id": "j6Q5MT0zSJeu"
      },
      "source": [
        "리뷰 데이터프레임의 price 컬럼 값에서, price의 평균값을 뺀 값을, centered_price 라고 저장하시오."
      ]
    },
    {
      "cell_type": "code",
      "execution_count": 16,
      "metadata": {
        "id": "rLJaYR2wSJev"
      },
      "outputs": [],
      "source": [
        "#### 나의 풀이"
      ]
    },
    {
      "cell_type": "code",
      "execution_count": 107,
      "metadata": {
        "colab": {
          "base_uri": "https://localhost:8080/"
        },
        "id": "sM3fPPBDSJev",
        "outputId": "0d8272bc-f8b7-43eb-f9ec-a99366266fdf"
      },
      "outputs": [
        {
          "output_type": "execute_result",
          "data": {
            "text/plain": [
              "0               NaN\n",
              "1        -20.363389\n",
              "2        -21.363389\n",
              "3        -22.363389\n",
              "4         29.636611\n",
              "            ...    \n",
              "129966    -7.363389\n",
              "129967    39.636611\n",
              "129968    -5.363389\n",
              "129969    -3.363389\n",
              "129970   -14.363389\n",
              "Name: price, Length: 129971, dtype: float64"
            ]
          },
          "metadata": {},
          "execution_count": 107
        }
      ],
      "source": [
        "#### 해설\n",
        "\n",
        "# 1. 데이터 정보 확인하기\n",
        "reviews.head(3)\n",
        "\n",
        "# 2. 프라이스의 평균값 구하기 ( nan 이 있어도 평균 구해줌,)\n",
        "reviews.describe()  # 정보확인 \n",
        "\n",
        "reviews['price'].mean()\n",
        "\n",
        "# 3. 모든 행의 프라이스 - 프라이스 평균 해서 새 변수 만들어서 저장하기\n",
        "centered_price = reviews['price'] - reviews['price'].mean()\n",
        "centered_price\n",
        "\n",
        "\n"
      ]
    },
    {
      "cell_type": "code",
      "execution_count": 17,
      "metadata": {
        "id": "JHQgY2TsSJew"
      },
      "outputs": [],
      "source": []
    },
    {
      "cell_type": "markdown",
      "metadata": {
        "id": "s-QU157KSJew"
      },
      "source": [
        "나는 경제적이므로, 가격대비 포인트가 가장 큰 와인을 사려한다. 해당 와인의 title은?"
      ]
    },
    {
      "cell_type": "code",
      "execution_count": null,
      "metadata": {
        "id": "8hy3Vd-wSJex"
      },
      "outputs": [],
      "source": [
        "#### 나의 풀이\n",
        "\n",
        "\n",
        "# 가격 대비 포인트가 큰 와인.\n",
        "# 정렬하기  1 포인트 높은 것 중 2 가격이 낮은것\n",
        "\n",
        "# reviews['points'].sort_values(ascending = False).head(10)\n",
        "# reviews['price'].sort_values\n"
      ]
    },
    {
      "cell_type": "code",
      "execution_count": 109,
      "metadata": {
        "id": "wmB9gyhvSJex",
        "colab": {
          "base_uri": "https://localhost:8080/"
        },
        "outputId": "03097d9c-6f0d-475f-d75a-f16b7085a704"
      },
      "outputs": [
        {
          "output_type": "execute_result",
          "data": {
            "text/plain": [
              "0              NaN\n",
              "1         5.800000\n",
              "2         6.214286\n",
              "3         6.692308\n",
              "4         1.338462\n",
              "            ...   \n",
              "129966    3.214286\n",
              "129967    1.200000\n",
              "129968    3.000000\n",
              "129969    2.812500\n",
              "129970    4.285714\n",
              "Length: 129971, dtype: float64"
            ]
          },
          "metadata": {},
          "execution_count": 109
        }
      ],
      "source": [
        "#### 해설\n",
        "\n",
        "\n",
        "# 1. 포인트가 높은 와인\n",
        "# reviews.head(2)  # 가격대비 포인트라는 컬럼을 찾아보기 있으면 이거 정렬하면 됨.\n",
        "\n",
        "# 2. 가격대비 포인트 컬럼이 없으므로 컬럼을 만들기 --->>> 데이터 가공\n",
        "# 사칙연산 통해 가격대비 포인트를 구해보기 ( 퍼센트 만들기 )\n",
        "# 포인트를 가격으로 나누기  포인트/프라이스\n",
        "reviews['points'] / reviews['price']\n"
      ]
    },
    {
      "cell_type": "code",
      "source": [
        "# 3. 새로운 컬럼 만들어서 데이터 집어넣기\n",
        "reviews['gasungbi'] = reviews['points'] / reviews['price']\n",
        "reviews"
      ],
      "metadata": {
        "id": "MzcluKJZqmos"
      },
      "execution_count": null,
      "outputs": []
    },
    {
      "cell_type": "code",
      "source": [
        "# 4. 가성비 컬럼을 내림차순으로 정렬하기\n",
        "reviews.sort_values('gasungbi', ascending = False)"
      ],
      "metadata": {
        "id": "7fUb2nCJqk08"
      },
      "execution_count": null,
      "outputs": []
    },
    {
      "cell_type": "code",
      "source": [
        "# reviews.sort_values(by = ['gasungbi', 'price'], ascending = False).head(10)\n",
        "reviews.sort_values('gasungbi', ascending=False)"
      ],
      "metadata": {
        "id": "t4wKKMgofH0q"
      },
      "execution_count": null,
      "outputs": []
    },
    {
      "cell_type": "markdown",
      "metadata": {
        "id": "H5H_dyI1SJex"
      },
      "source": [
        "사람들이 어떤와인을 더 많이 거론했는지 보려한다.\n",
        "\n",
        "\"tropical\" 이 들어있는 리뷰의 갯수를 세고, \"fruity\" 라고 들어있는 리뷰의 갯수를 세어서\n",
        "\n",
        "판다스 시리즈로 descriptor_counts 변수로 만들어 보자."
      ]
    },
    {
      "cell_type": "code",
      "source": [
        "\n",
        "# 깃허브의 데이터분석 항목 참고\n",
        "# 또는 \n",
        "# 데이터프레임의 apply 함수도 고려\n"
      ],
      "metadata": {
        "id": "ve2LfkhNgoyF"
      },
      "execution_count": 21,
      "outputs": []
    },
    {
      "cell_type": "code",
      "source": [
        "#### 나의 풀이\n",
        "\n",
        "# 데이터 정보 또는 컬럼 확인\n",
        "reviews.head(2)"
      ],
      "metadata": {
        "id": "qOtS6lZKf8P8"
      },
      "execution_count": null,
      "outputs": []
    },
    {
      "cell_type": "code",
      "execution_count": 47,
      "metadata": {
        "colab": {
          "base_uri": "https://localhost:8080/"
        },
        "id": "5mANvtvtSJey",
        "outputId": "e3569d6a-eee2-4a6c-bf9d-2d92fb197059"
      },
      "outputs": [
        {
          "output_type": "execute_result",
          "data": {
            "text/plain": [
              "3607"
            ]
          },
          "metadata": {},
          "execution_count": 47
        }
      ],
      "source": [
        "#### 나의 풀이\n",
        "\n",
        "# # 트로피컬 몇개 있는지 세고\n",
        "# # 프루티 얼마있는지 세고\n",
        "\n",
        "\n",
        "# # 트로피컬 세기\n",
        "\n",
        "# # reviews['description'].str.contains('tropical')                           # 리뷰 문장에 트로피컬이 들어가는 행 찾기\n",
        "# # reviews['description'][reviews['description'].str.contains('tropical')]   # True만 나오는 행 찾기\n",
        "# reviews['description'][reviews['description'].str.contains('tropical')].count()  # True만 나오는거 카운트 (멜티인덱스)\n",
        "\n"
      ]
    },
    {
      "cell_type": "code",
      "source": [
        "#### 나의 풀이\n",
        "\n",
        "# # 프루티 세기\n",
        "\n",
        "# reviews['description'][reviews['description'].str.contains('fruity')].count()\n"
      ],
      "metadata": {
        "colab": {
          "base_uri": "https://localhost:8080/"
        },
        "id": "rGwCSclsleXF",
        "outputId": "4c5fcbfe-c7e6-48f7-97a9-e0ef464b3593"
      },
      "execution_count": 24,
      "outputs": [
        {
          "output_type": "execute_result",
          "data": {
            "text/plain": [
              "9090"
            ]
          },
          "metadata": {},
          "execution_count": 24
        }
      ]
    },
    {
      "cell_type": "code",
      "execution_count": 113,
      "metadata": {
        "id": "O9yEUUSKSJey",
        "colab": {
          "base_uri": "https://localhost:8080/"
        },
        "outputId": "6dc38691-43e2-4599-9404-5f93abd1ffc8"
      },
      "outputs": [
        {
          "output_type": "execute_result",
          "data": {
            "text/plain": [
              "0         Aromas include tropical fruit, broom, brimston...\n",
              "1         This is ripe and fruity, a wine that is smooth...\n",
              "2         Tart and snappy, the flavors of lime flesh and...\n",
              "3         Pineapple rind, lemon pith and orange blossom ...\n",
              "4         Much like the regular bottling from 2012, this...\n",
              "                                ...                        \n",
              "129966    Notes of honeysuckle and cantaloupe sweeten th...\n",
              "129967    Citation is given as much as a decade of bottl...\n",
              "129968    Well-drained gravel soil gives this wine its c...\n",
              "129969    A dry style of Pinot Gris, this is crisp with ...\n",
              "129970    Big, rich and off-dry, this is powered by inte...\n",
              "Name: description, Length: 129971, dtype: object"
            ]
          },
          "metadata": {},
          "execution_count": 113
        }
      ],
      "source": [
        "#### 해설\n",
        "\n",
        "## 첫번째 방법\n",
        "\n",
        "# 1. reviews 정보 확인\n",
        "# reviews\n",
        "# 2. reviews['description'] 확인 -> 나오는 결과 : 이거 시리즈임\n",
        "reviews['description']\n",
        "\n",
        "# 3. str.contains() 코드 사용\n",
        "# Series.str.contains(pat, case=True, flags=0, na=None, regex=True) 에서\n",
        "# (pat, case=True, flags=0, na=None, regex=True) 부분은 디폴트 파라미터 \n",
        "# 각각의 pat, case, 들은 파라미터 라고 함.\n",
        "\n",
        "# 4. 트로피컬 있는지 확인\n",
        "# 5 트로피컬이 True 가 나온 행 확인하기\n",
        "# reviews['description'].str.contains('tropical')\n",
        "\n"
      ]
    },
    {
      "cell_type": "code",
      "source": [
        "# True = 1, False = 0으로 컴이 인식하는 것을 이용. sum() 함수 이용해서 세기\n",
        "reviews['description'].str.contains('tropical').sum()"
      ],
      "metadata": {
        "colab": {
          "base_uri": "https://localhost:8080/"
        },
        "id": "Pu6_wjXXq2B8",
        "outputId": "d8f280ba-4c80-491f-9243-b5b73a864630"
      },
      "execution_count": 114,
      "outputs": [
        {
          "output_type": "execute_result",
          "data": {
            "text/plain": [
              "3607"
            ]
          },
          "metadata": {},
          "execution_count": 114
        }
      ]
    },
    {
      "cell_type": "code",
      "source": [
        "reviews['description']"
      ],
      "metadata": {
        "id": "qOcD7fSIIUyq"
      },
      "execution_count": null,
      "outputs": []
    },
    {
      "cell_type": "code",
      "source": [
        "reviews['description'].str.contains('tropical')"
      ],
      "metadata": {
        "colab": {
          "base_uri": "https://localhost:8080/"
        },
        "id": "vRX6JrggHlB7",
        "outputId": "6625a666-e5e1-49bc-ce52-80756b4625e7"
      },
      "execution_count": 49,
      "outputs": [
        {
          "output_type": "execute_result",
          "data": {
            "text/plain": [
              "0          True\n",
              "1         False\n",
              "2         False\n",
              "3         False\n",
              "4         False\n",
              "          ...  \n",
              "129966    False\n",
              "129967    False\n",
              "129968    False\n",
              "129969    False\n",
              "129970    False\n",
              "Name: description, Length: 129971, dtype: bool"
            ]
          },
          "metadata": {},
          "execution_count": 49
        }
      ]
    },
    {
      "cell_type": "code",
      "source": [
        "# reviews['description'].str.contains('tropical').count()"
      ],
      "metadata": {
        "id": "B1cNwynZIYVC"
      },
      "execution_count": null,
      "outputs": []
    },
    {
      "cell_type": "code",
      "source": [
        "reviews['description'].str.contains('tropical').sum()"
      ],
      "metadata": {
        "colab": {
          "base_uri": "https://localhost:8080/"
        },
        "id": "SEz7TlKJNB1a",
        "outputId": "3412d20d-da83-42fa-8a42-e384fe12039f"
      },
      "execution_count": 115,
      "outputs": [
        {
          "output_type": "execute_result",
          "data": {
            "text/plain": [
              "3607"
            ]
          },
          "metadata": {},
          "execution_count": 115
        }
      ]
    },
    {
      "cell_type": "code",
      "execution_count": 116,
      "metadata": {
        "id": "OOIaa81USJey",
        "colab": {
          "base_uri": "https://localhost:8080/"
        },
        "outputId": "18327af0-b7bc-4842-864c-b9c4d1b65309"
      },
      "outputs": [
        {
          "output_type": "execute_result",
          "data": {
            "text/plain": [
              "9090"
            ]
          },
          "metadata": {},
          "execution_count": 116
        }
      ],
      "source": [
        "#### 해설\n",
        "\n",
        "\n",
        "# 6. 프루티 세기\n",
        "reviews['description'].str.contains('fruity').sum()\n"
      ]
    },
    {
      "cell_type": "code",
      "source": [
        "#### 해설\n",
        "\n",
        "## 두 번째 방법 \n",
        "\n",
        "## 어플라이(apply) 함수 사용\n",
        "\n",
        "# 1. reviews['description'].apply( 함수명 )   # ()안에 (= 파라미터에) 뭘 써야 할까? -> 함수이름 써야함\n",
        "# 어플라이 함수 쓸때는 함수를 하나 만든 다음에 써야하므로 위에 함수 코드가 있어야함.\n",
        "def is_tropical(sentence) :\n",
        "  if 'tropical' in sentence :\n",
        "    return True\n",
        "  else :\n",
        "    return False\n",
        "\n",
        "\n"
      ],
      "metadata": {
        "id": "xjK0jeLFFhFB"
      },
      "execution_count": 117,
      "outputs": []
    },
    {
      "cell_type": "code",
      "source": [
        "reviews['description'].apply( is_tropical ).sum()"
      ],
      "metadata": {
        "colab": {
          "base_uri": "https://localhost:8080/"
        },
        "id": "4sjy-tAZrFpE",
        "outputId": "95a56235-9f9a-4a2c-ad9d-c7234b602705"
      },
      "execution_count": 118,
      "outputs": [
        {
          "output_type": "execute_result",
          "data": {
            "text/plain": [
              "3607"
            ]
          },
          "metadata": {},
          "execution_count": 118
        }
      ]
    },
    {
      "cell_type": "code",
      "source": [
        "#### 해설\n",
        "\n",
        "## 두 번째 방법 \n",
        "\n",
        "\n",
        "def is_fruity(sentence) :\n",
        "  if 'fruity' in sentence :\n",
        "    return True\n",
        "  else :\n",
        "    return False"
      ],
      "metadata": {
        "id": "vgeaqUzVogrb"
      },
      "execution_count": 119,
      "outputs": []
    },
    {
      "cell_type": "code",
      "source": [
        "reviews['description'].apply(is_fruity).sum()"
      ],
      "metadata": {
        "colab": {
          "base_uri": "https://localhost:8080/"
        },
        "id": "_ruYEFUPohgz",
        "outputId": "10da3b5d-662b-4ae0-b9c2-cd909d98117d"
      },
      "execution_count": 120,
      "outputs": [
        {
          "output_type": "execute_result",
          "data": {
            "text/plain": [
              "9090"
            ]
          },
          "metadata": {},
          "execution_count": 120
        }
      ]
    },
    {
      "cell_type": "markdown",
      "metadata": {
        "id": "WgGKIvenSJey"
      },
      "source": [
        "별점 시스템을 만들려고 한다. 따라서 별점에 대한 데이터가 필요하다.\n",
        "\n",
        "별점은 1,2,3 즉 3개로 만들것이다.\n",
        "\n",
        "포인트가 95점 이상이면 3점, 85점 이상이면 2점, 나머지는 1점으로 할 것이다. \n",
        "\n",
        "리뷰데이터를 통해 각 데이터의 별점을 구하시오."
      ]
    },
    {
      "cell_type": "code",
      "execution_count": null,
      "metadata": {
        "id": "DCD_gWP7SJez"
      },
      "outputs": [],
      "source": [
        "#### 나의 풀이\n",
        "\n",
        "# 함수를 만들어놓고\n",
        "# 새 칼럼에 집어넣어서\n",
        "# 각 데이터 별점을 구하면 되지 않을까?\n",
        "# reviews['points'] >= 95  == 3\n",
        "# 95 > reviews['points'] >= 85  == 2\n",
        "# 85 > reviews['points']   == 1\n",
        "\n",
        "# reviews2 = reviews.copy()\n",
        "\n",
        "# def starpoint(n):\n",
        "#   if reviews2['points'] >= 95:\n",
        "#     return 3\n",
        "#   elif 95 > reviews2['points'] >= 85:\n",
        "#     return 2\n",
        "#   else :\n",
        "#     return 1\n",
        "\n",
        "# reviews2['starpoint'] = reviews2['points'].apply(starpoint)\n",
        "\n",
        "# reviews2.head()\n",
        "\n",
        "\n",
        "#### 오류남. ㅎ\n",
        "\n"
      ]
    },
    {
      "cell_type": "code",
      "execution_count": 121,
      "metadata": {
        "id": "N96MxOwtSJez"
      },
      "outputs": [],
      "source": [
        "#### 해설\n",
        "\n",
        "# ------------------- 문제 ----------------------------------------------------\n",
        "# 별점 시스템을 만들려고 한다. 따라서 별점에 대한 데이터가 필요하다.\n",
        "# 별점은 1,2,3 즉 3개로 만들것이다.\n",
        "# 포인트가 95점 이상이면 3점, 85점 이상이면 2점, 나머지는 1점으로 할 것이다. \n",
        "# 리뷰데이터를 통해 각 데이터의 별점을 구하시오.\n",
        "# -----------------------------------------------------------------------------\n",
        "\n",
        "\n",
        "# 1. 별점에 대한 정보를 만들어서 데이터에 집어넣어야 함.\n",
        "# 2. 포인트 정보 가져오기\n",
        "reviews['points']\n",
        "# 3. 별점을 적용시킬 수 있는 함수 만들기\n",
        "def get_star(point):\n",
        "  if point >= 95 :\n",
        "    return 3\n",
        "  elif point >= 85 :\n",
        "    return 2\n",
        "  else :\n",
        "    return 1\n"
      ]
    },
    {
      "cell_type": "code",
      "source": [
        "# 4. apply 함수 사용해서 만든 함수 자동으로 사용하게 하기\n",
        "# reviews['points'].apply(get_star)\n"
      ],
      "metadata": {
        "id": "ecdapWqVsrQE"
      },
      "execution_count": null,
      "outputs": []
    },
    {
      "cell_type": "code",
      "source": [
        "# 5. 만들어진 데이터를 원본 데이터에 새 컬럼을 만들어서 집어넣기\n",
        "reviews['star'] = reviews['points'].apply(get_star)\n"
      ],
      "metadata": {
        "id": "cITmdqQEsuSs"
      },
      "execution_count": 122,
      "outputs": []
    },
    {
      "cell_type": "code",
      "source": [
        "reviews"
      ],
      "metadata": {
        "colab": {
          "base_uri": "https://localhost:8080/",
          "height": 1000
        },
        "id": "PStS30BXooFb",
        "outputId": "383097eb-95a6-40f6-8682-02e811f286a1"
      },
      "execution_count": 123,
      "outputs": [
        {
          "output_type": "execute_result",
          "data": {
            "text/plain": [
              "         country                                        description  \\\n",
              "0          Italy  Aromas include tropical fruit, broom, brimston...   \n",
              "1       Portugal  This is ripe and fruity, a wine that is smooth...   \n",
              "2             US  Tart and snappy, the flavors of lime flesh and...   \n",
              "3             US  Pineapple rind, lemon pith and orange blossom ...   \n",
              "4             US  Much like the regular bottling from 2012, this...   \n",
              "...          ...                                                ...   \n",
              "129966   Germany  Notes of honeysuckle and cantaloupe sweeten th...   \n",
              "129967        US  Citation is given as much as a decade of bottl...   \n",
              "129968    France  Well-drained gravel soil gives this wine its c...   \n",
              "129969    France  A dry style of Pinot Gris, this is crisp with ...   \n",
              "129970    France  Big, rich and off-dry, this is powered by inte...   \n",
              "\n",
              "                                   designation  points  price  \\\n",
              "0                                 Vulkà Bianco      87    NaN   \n",
              "1                                     Avidagos      87   15.0   \n",
              "2                                          NaN      87   14.0   \n",
              "3                         Reserve Late Harvest      87   13.0   \n",
              "4           Vintner's Reserve Wild Child Block      87   65.0   \n",
              "...                                        ...     ...    ...   \n",
              "129966  Brauneberger Juffer-Sonnenuhr Spätlese      90   28.0   \n",
              "129967                                     NaN      90   75.0   \n",
              "129968                                   Kritt      90   30.0   \n",
              "129969                                     NaN      90   32.0   \n",
              "129970           Lieu-dit Harth Cuvée Caroline      90   21.0   \n",
              "\n",
              "                 province             region_1           region_2  \\\n",
              "0       Sicily & Sardinia                 Etna                NaN   \n",
              "1                   Douro                  NaN                NaN   \n",
              "2                  Oregon    Willamette Valley  Willamette Valley   \n",
              "3                Michigan  Lake Michigan Shore                NaN   \n",
              "4                  Oregon    Willamette Valley  Willamette Valley   \n",
              "...                   ...                  ...                ...   \n",
              "129966              Mosel                  NaN                NaN   \n",
              "129967             Oregon               Oregon       Oregon Other   \n",
              "129968             Alsace               Alsace                NaN   \n",
              "129969             Alsace               Alsace                NaN   \n",
              "129970             Alsace               Alsace                NaN   \n",
              "\n",
              "               taster_name taster_twitter_handle  \\\n",
              "0            Kerin O’Keefe          @kerinokeefe   \n",
              "1               Roger Voss            @vossroger   \n",
              "2             Paul Gregutt           @paulgwine    \n",
              "3       Alexander Peartree                   NaN   \n",
              "4             Paul Gregutt           @paulgwine    \n",
              "...                    ...                   ...   \n",
              "129966  Anna Lee C. Iijima                   NaN   \n",
              "129967        Paul Gregutt           @paulgwine    \n",
              "129968          Roger Voss            @vossroger   \n",
              "129969          Roger Voss            @vossroger   \n",
              "129970          Roger Voss            @vossroger   \n",
              "\n",
              "                                                    title         variety  \\\n",
              "0                       Nicosia 2013 Vulkà Bianco  (Etna)     White Blend   \n",
              "1           Quinta dos Avidagos 2011 Avidagos Red (Douro)  Portuguese Red   \n",
              "2           Rainstorm 2013 Pinot Gris (Willamette Valley)      Pinot Gris   \n",
              "3       St. Julian 2013 Reserve Late Harvest Riesling ...        Riesling   \n",
              "4       Sweet Cheeks 2012 Vintner's Reserve Wild Child...      Pinot Noir   \n",
              "...                                                   ...             ...   \n",
              "129966  Dr. H. Thanisch (Erben Müller-Burggraef) 2013 ...        Riesling   \n",
              "129967                  Citation 2004 Pinot Noir (Oregon)      Pinot Noir   \n",
              "129968  Domaine Gresser 2013 Kritt Gewurztraminer (Als...  Gewürztraminer   \n",
              "129969      Domaine Marcel Deiss 2012 Pinot Gris (Alsace)      Pinot Gris   \n",
              "129970  Domaine Schoffit 2012 Lieu-dit Harth Cuvée Car...  Gewürztraminer   \n",
              "\n",
              "                                          winery  gasungbi  star  \n",
              "0                                        Nicosia       NaN     2  \n",
              "1                            Quinta dos Avidagos  5.800000     2  \n",
              "2                                      Rainstorm  6.214286     2  \n",
              "3                                     St. Julian  6.692308     2  \n",
              "4                                   Sweet Cheeks  1.338462     2  \n",
              "...                                          ...       ...   ...  \n",
              "129966  Dr. H. Thanisch (Erben Müller-Burggraef)  3.214286     2  \n",
              "129967                                  Citation  1.200000     2  \n",
              "129968                           Domaine Gresser  3.000000     2  \n",
              "129969                      Domaine Marcel Deiss  2.812500     2  \n",
              "129970                          Domaine Schoffit  4.285714     2  \n",
              "\n",
              "[129971 rows x 15 columns]"
            ],
            "text/html": [
              "\n",
              "  <div id=\"df-d3a99b98-740e-427f-89bc-f624bce121bb\">\n",
              "    <div class=\"colab-df-container\">\n",
              "      <div>\n",
              "<style scoped>\n",
              "    .dataframe tbody tr th:only-of-type {\n",
              "        vertical-align: middle;\n",
              "    }\n",
              "\n",
              "    .dataframe tbody tr th {\n",
              "        vertical-align: top;\n",
              "    }\n",
              "\n",
              "    .dataframe thead th {\n",
              "        text-align: right;\n",
              "    }\n",
              "</style>\n",
              "<table border=\"1\" class=\"dataframe\">\n",
              "  <thead>\n",
              "    <tr style=\"text-align: right;\">\n",
              "      <th></th>\n",
              "      <th>country</th>\n",
              "      <th>description</th>\n",
              "      <th>designation</th>\n",
              "      <th>points</th>\n",
              "      <th>price</th>\n",
              "      <th>province</th>\n",
              "      <th>region_1</th>\n",
              "      <th>region_2</th>\n",
              "      <th>taster_name</th>\n",
              "      <th>taster_twitter_handle</th>\n",
              "      <th>title</th>\n",
              "      <th>variety</th>\n",
              "      <th>winery</th>\n",
              "      <th>gasungbi</th>\n",
              "      <th>star</th>\n",
              "    </tr>\n",
              "  </thead>\n",
              "  <tbody>\n",
              "    <tr>\n",
              "      <th>0</th>\n",
              "      <td>Italy</td>\n",
              "      <td>Aromas include tropical fruit, broom, brimston...</td>\n",
              "      <td>Vulkà Bianco</td>\n",
              "      <td>87</td>\n",
              "      <td>NaN</td>\n",
              "      <td>Sicily &amp; Sardinia</td>\n",
              "      <td>Etna</td>\n",
              "      <td>NaN</td>\n",
              "      <td>Kerin O’Keefe</td>\n",
              "      <td>@kerinokeefe</td>\n",
              "      <td>Nicosia 2013 Vulkà Bianco  (Etna)</td>\n",
              "      <td>White Blend</td>\n",
              "      <td>Nicosia</td>\n",
              "      <td>NaN</td>\n",
              "      <td>2</td>\n",
              "    </tr>\n",
              "    <tr>\n",
              "      <th>1</th>\n",
              "      <td>Portugal</td>\n",
              "      <td>This is ripe and fruity, a wine that is smooth...</td>\n",
              "      <td>Avidagos</td>\n",
              "      <td>87</td>\n",
              "      <td>15.0</td>\n",
              "      <td>Douro</td>\n",
              "      <td>NaN</td>\n",
              "      <td>NaN</td>\n",
              "      <td>Roger Voss</td>\n",
              "      <td>@vossroger</td>\n",
              "      <td>Quinta dos Avidagos 2011 Avidagos Red (Douro)</td>\n",
              "      <td>Portuguese Red</td>\n",
              "      <td>Quinta dos Avidagos</td>\n",
              "      <td>5.800000</td>\n",
              "      <td>2</td>\n",
              "    </tr>\n",
              "    <tr>\n",
              "      <th>2</th>\n",
              "      <td>US</td>\n",
              "      <td>Tart and snappy, the flavors of lime flesh and...</td>\n",
              "      <td>NaN</td>\n",
              "      <td>87</td>\n",
              "      <td>14.0</td>\n",
              "      <td>Oregon</td>\n",
              "      <td>Willamette Valley</td>\n",
              "      <td>Willamette Valley</td>\n",
              "      <td>Paul Gregutt</td>\n",
              "      <td>@paulgwine</td>\n",
              "      <td>Rainstorm 2013 Pinot Gris (Willamette Valley)</td>\n",
              "      <td>Pinot Gris</td>\n",
              "      <td>Rainstorm</td>\n",
              "      <td>6.214286</td>\n",
              "      <td>2</td>\n",
              "    </tr>\n",
              "    <tr>\n",
              "      <th>3</th>\n",
              "      <td>US</td>\n",
              "      <td>Pineapple rind, lemon pith and orange blossom ...</td>\n",
              "      <td>Reserve Late Harvest</td>\n",
              "      <td>87</td>\n",
              "      <td>13.0</td>\n",
              "      <td>Michigan</td>\n",
              "      <td>Lake Michigan Shore</td>\n",
              "      <td>NaN</td>\n",
              "      <td>Alexander Peartree</td>\n",
              "      <td>NaN</td>\n",
              "      <td>St. Julian 2013 Reserve Late Harvest Riesling ...</td>\n",
              "      <td>Riesling</td>\n",
              "      <td>St. Julian</td>\n",
              "      <td>6.692308</td>\n",
              "      <td>2</td>\n",
              "    </tr>\n",
              "    <tr>\n",
              "      <th>4</th>\n",
              "      <td>US</td>\n",
              "      <td>Much like the regular bottling from 2012, this...</td>\n",
              "      <td>Vintner's Reserve Wild Child Block</td>\n",
              "      <td>87</td>\n",
              "      <td>65.0</td>\n",
              "      <td>Oregon</td>\n",
              "      <td>Willamette Valley</td>\n",
              "      <td>Willamette Valley</td>\n",
              "      <td>Paul Gregutt</td>\n",
              "      <td>@paulgwine</td>\n",
              "      <td>Sweet Cheeks 2012 Vintner's Reserve Wild Child...</td>\n",
              "      <td>Pinot Noir</td>\n",
              "      <td>Sweet Cheeks</td>\n",
              "      <td>1.338462</td>\n",
              "      <td>2</td>\n",
              "    </tr>\n",
              "    <tr>\n",
              "      <th>...</th>\n",
              "      <td>...</td>\n",
              "      <td>...</td>\n",
              "      <td>...</td>\n",
              "      <td>...</td>\n",
              "      <td>...</td>\n",
              "      <td>...</td>\n",
              "      <td>...</td>\n",
              "      <td>...</td>\n",
              "      <td>...</td>\n",
              "      <td>...</td>\n",
              "      <td>...</td>\n",
              "      <td>...</td>\n",
              "      <td>...</td>\n",
              "      <td>...</td>\n",
              "      <td>...</td>\n",
              "    </tr>\n",
              "    <tr>\n",
              "      <th>129966</th>\n",
              "      <td>Germany</td>\n",
              "      <td>Notes of honeysuckle and cantaloupe sweeten th...</td>\n",
              "      <td>Brauneberger Juffer-Sonnenuhr Spätlese</td>\n",
              "      <td>90</td>\n",
              "      <td>28.0</td>\n",
              "      <td>Mosel</td>\n",
              "      <td>NaN</td>\n",
              "      <td>NaN</td>\n",
              "      <td>Anna Lee C. Iijima</td>\n",
              "      <td>NaN</td>\n",
              "      <td>Dr. H. Thanisch (Erben Müller-Burggraef) 2013 ...</td>\n",
              "      <td>Riesling</td>\n",
              "      <td>Dr. H. Thanisch (Erben Müller-Burggraef)</td>\n",
              "      <td>3.214286</td>\n",
              "      <td>2</td>\n",
              "    </tr>\n",
              "    <tr>\n",
              "      <th>129967</th>\n",
              "      <td>US</td>\n",
              "      <td>Citation is given as much as a decade of bottl...</td>\n",
              "      <td>NaN</td>\n",
              "      <td>90</td>\n",
              "      <td>75.0</td>\n",
              "      <td>Oregon</td>\n",
              "      <td>Oregon</td>\n",
              "      <td>Oregon Other</td>\n",
              "      <td>Paul Gregutt</td>\n",
              "      <td>@paulgwine</td>\n",
              "      <td>Citation 2004 Pinot Noir (Oregon)</td>\n",
              "      <td>Pinot Noir</td>\n",
              "      <td>Citation</td>\n",
              "      <td>1.200000</td>\n",
              "      <td>2</td>\n",
              "    </tr>\n",
              "    <tr>\n",
              "      <th>129968</th>\n",
              "      <td>France</td>\n",
              "      <td>Well-drained gravel soil gives this wine its c...</td>\n",
              "      <td>Kritt</td>\n",
              "      <td>90</td>\n",
              "      <td>30.0</td>\n",
              "      <td>Alsace</td>\n",
              "      <td>Alsace</td>\n",
              "      <td>NaN</td>\n",
              "      <td>Roger Voss</td>\n",
              "      <td>@vossroger</td>\n",
              "      <td>Domaine Gresser 2013 Kritt Gewurztraminer (Als...</td>\n",
              "      <td>Gewürztraminer</td>\n",
              "      <td>Domaine Gresser</td>\n",
              "      <td>3.000000</td>\n",
              "      <td>2</td>\n",
              "    </tr>\n",
              "    <tr>\n",
              "      <th>129969</th>\n",
              "      <td>France</td>\n",
              "      <td>A dry style of Pinot Gris, this is crisp with ...</td>\n",
              "      <td>NaN</td>\n",
              "      <td>90</td>\n",
              "      <td>32.0</td>\n",
              "      <td>Alsace</td>\n",
              "      <td>Alsace</td>\n",
              "      <td>NaN</td>\n",
              "      <td>Roger Voss</td>\n",
              "      <td>@vossroger</td>\n",
              "      <td>Domaine Marcel Deiss 2012 Pinot Gris (Alsace)</td>\n",
              "      <td>Pinot Gris</td>\n",
              "      <td>Domaine Marcel Deiss</td>\n",
              "      <td>2.812500</td>\n",
              "      <td>2</td>\n",
              "    </tr>\n",
              "    <tr>\n",
              "      <th>129970</th>\n",
              "      <td>France</td>\n",
              "      <td>Big, rich and off-dry, this is powered by inte...</td>\n",
              "      <td>Lieu-dit Harth Cuvée Caroline</td>\n",
              "      <td>90</td>\n",
              "      <td>21.0</td>\n",
              "      <td>Alsace</td>\n",
              "      <td>Alsace</td>\n",
              "      <td>NaN</td>\n",
              "      <td>Roger Voss</td>\n",
              "      <td>@vossroger</td>\n",
              "      <td>Domaine Schoffit 2012 Lieu-dit Harth Cuvée Car...</td>\n",
              "      <td>Gewürztraminer</td>\n",
              "      <td>Domaine Schoffit</td>\n",
              "      <td>4.285714</td>\n",
              "      <td>2</td>\n",
              "    </tr>\n",
              "  </tbody>\n",
              "</table>\n",
              "<p>129971 rows × 15 columns</p>\n",
              "</div>\n",
              "      <button class=\"colab-df-convert\" onclick=\"convertToInteractive('df-d3a99b98-740e-427f-89bc-f624bce121bb')\"\n",
              "              title=\"Convert this dataframe to an interactive table.\"\n",
              "              style=\"display:none;\">\n",
              "        \n",
              "  <svg xmlns=\"http://www.w3.org/2000/svg\" height=\"24px\"viewBox=\"0 0 24 24\"\n",
              "       width=\"24px\">\n",
              "    <path d=\"M0 0h24v24H0V0z\" fill=\"none\"/>\n",
              "    <path d=\"M18.56 5.44l.94 2.06.94-2.06 2.06-.94-2.06-.94-.94-2.06-.94 2.06-2.06.94zm-11 1L8.5 8.5l.94-2.06 2.06-.94-2.06-.94L8.5 2.5l-.94 2.06-2.06.94zm10 10l.94 2.06.94-2.06 2.06-.94-2.06-.94-.94-2.06-.94 2.06-2.06.94z\"/><path d=\"M17.41 7.96l-1.37-1.37c-.4-.4-.92-.59-1.43-.59-.52 0-1.04.2-1.43.59L10.3 9.45l-7.72 7.72c-.78.78-.78 2.05 0 2.83L4 21.41c.39.39.9.59 1.41.59.51 0 1.02-.2 1.41-.59l7.78-7.78 2.81-2.81c.8-.78.8-2.07 0-2.86zM5.41 20L4 18.59l7.72-7.72 1.47 1.35L5.41 20z\"/>\n",
              "  </svg>\n",
              "      </button>\n",
              "      \n",
              "  <style>\n",
              "    .colab-df-container {\n",
              "      display:flex;\n",
              "      flex-wrap:wrap;\n",
              "      gap: 12px;\n",
              "    }\n",
              "\n",
              "    .colab-df-convert {\n",
              "      background-color: #E8F0FE;\n",
              "      border: none;\n",
              "      border-radius: 50%;\n",
              "      cursor: pointer;\n",
              "      display: none;\n",
              "      fill: #1967D2;\n",
              "      height: 32px;\n",
              "      padding: 0 0 0 0;\n",
              "      width: 32px;\n",
              "    }\n",
              "\n",
              "    .colab-df-convert:hover {\n",
              "      background-color: #E2EBFA;\n",
              "      box-shadow: 0px 1px 2px rgba(60, 64, 67, 0.3), 0px 1px 3px 1px rgba(60, 64, 67, 0.15);\n",
              "      fill: #174EA6;\n",
              "    }\n",
              "\n",
              "    [theme=dark] .colab-df-convert {\n",
              "      background-color: #3B4455;\n",
              "      fill: #D2E3FC;\n",
              "    }\n",
              "\n",
              "    [theme=dark] .colab-df-convert:hover {\n",
              "      background-color: #434B5C;\n",
              "      box-shadow: 0px 1px 3px 1px rgba(0, 0, 0, 0.15);\n",
              "      filter: drop-shadow(0px 1px 2px rgba(0, 0, 0, 0.3));\n",
              "      fill: #FFFFFF;\n",
              "    }\n",
              "  </style>\n",
              "\n",
              "      <script>\n",
              "        const buttonEl =\n",
              "          document.querySelector('#df-d3a99b98-740e-427f-89bc-f624bce121bb button.colab-df-convert');\n",
              "        buttonEl.style.display =\n",
              "          google.colab.kernel.accessAllowed ? 'block' : 'none';\n",
              "\n",
              "        async function convertToInteractive(key) {\n",
              "          const element = document.querySelector('#df-d3a99b98-740e-427f-89bc-f624bce121bb');\n",
              "          const dataTable =\n",
              "            await google.colab.kernel.invokeFunction('convertToInteractive',\n",
              "                                                     [key], {});\n",
              "          if (!dataTable) return;\n",
              "\n",
              "          const docLinkHtml = 'Like what you see? Visit the ' +\n",
              "            '<a target=\"_blank\" href=https://colab.research.google.com/notebooks/data_table.ipynb>data table notebook</a>'\n",
              "            + ' to learn more about interactive tables.';\n",
              "          element.innerHTML = '';\n",
              "          dataTable['output_type'] = 'display_data';\n",
              "          await google.colab.output.renderOutput(dataTable, element);\n",
              "          const docLink = document.createElement('div');\n",
              "          docLink.innerHTML = docLinkHtml;\n",
              "          element.appendChild(docLink);\n",
              "        }\n",
              "      </script>\n",
              "    </div>\n",
              "  </div>\n",
              "  "
            ]
          },
          "metadata": {},
          "execution_count": 123
        }
      ]
    },
    {
      "cell_type": "markdown",
      "metadata": {
        "id": "1mkwQxQJSJez"
      },
      "source": [
        "리뷰의 region_2 컬럼에 데이터가 비어있는 경우에는, 'Unknown'으로 셋팅하자."
      ]
    },
    {
      "cell_type": "code",
      "execution_count": null,
      "metadata": {
        "id": "i5HapU7XSJe0"
      },
      "outputs": [],
      "source": [
        "#### 나의 풀이\n",
        "\n",
        "# 데이터 정보 확인하고\n",
        "# 리전2 컬럼에 데이터가 비어있는거 'Unknown' 으로 바꿔주기\n",
        "\n",
        "# reviews.head(2)\n",
        "\n",
        "\n",
        "# reviews2 = reviews.copy()\n",
        "\n",
        "# reviews2['region_2'] = reviews2['region_2'].str.replace('NaN', 'Unknown', regex = False)\n",
        "# reviews2\n",
        "\n",
        "\n",
        "#### 안되네....??"
      ]
    },
    {
      "cell_type": "code",
      "execution_count": 124,
      "metadata": {
        "id": "05N3O0cFSJe0"
      },
      "outputs": [],
      "source": [
        "#### 해설\n",
        "\n",
        "\n",
        "# 1. 데이터 정보 확인하기\n",
        "# reviews['region_2']\n",
        "# # 2.  fillna 를 사용\n",
        "# reviews['region_2'].fillna('Unknown')\n",
        "# # 데이터 바꿔주기\n",
        "reviews['region_2'] = reviews['region_2'].fillna('Unknown')\n",
        "\n",
        "\n"
      ]
    },
    {
      "cell_type": "code",
      "source": [
        "reviews"
      ],
      "metadata": {
        "colab": {
          "base_uri": "https://localhost:8080/",
          "height": 1000
        },
        "id": "IahNpKUvows1",
        "outputId": "1124442f-40e2-4455-8b2a-c47b41800bfd"
      },
      "execution_count": 125,
      "outputs": [
        {
          "output_type": "execute_result",
          "data": {
            "text/plain": [
              "         country                                        description  \\\n",
              "0          Italy  Aromas include tropical fruit, broom, brimston...   \n",
              "1       Portugal  This is ripe and fruity, a wine that is smooth...   \n",
              "2             US  Tart and snappy, the flavors of lime flesh and...   \n",
              "3             US  Pineapple rind, lemon pith and orange blossom ...   \n",
              "4             US  Much like the regular bottling from 2012, this...   \n",
              "...          ...                                                ...   \n",
              "129966   Germany  Notes of honeysuckle and cantaloupe sweeten th...   \n",
              "129967        US  Citation is given as much as a decade of bottl...   \n",
              "129968    France  Well-drained gravel soil gives this wine its c...   \n",
              "129969    France  A dry style of Pinot Gris, this is crisp with ...   \n",
              "129970    France  Big, rich and off-dry, this is powered by inte...   \n",
              "\n",
              "                                   designation  points  price  \\\n",
              "0                                 Vulkà Bianco      87    NaN   \n",
              "1                                     Avidagos      87   15.0   \n",
              "2                                          NaN      87   14.0   \n",
              "3                         Reserve Late Harvest      87   13.0   \n",
              "4           Vintner's Reserve Wild Child Block      87   65.0   \n",
              "...                                        ...     ...    ...   \n",
              "129966  Brauneberger Juffer-Sonnenuhr Spätlese      90   28.0   \n",
              "129967                                     NaN      90   75.0   \n",
              "129968                                   Kritt      90   30.0   \n",
              "129969                                     NaN      90   32.0   \n",
              "129970           Lieu-dit Harth Cuvée Caroline      90   21.0   \n",
              "\n",
              "                 province             region_1           region_2  \\\n",
              "0       Sicily & Sardinia                 Etna            Unknown   \n",
              "1                   Douro                  NaN            Unknown   \n",
              "2                  Oregon    Willamette Valley  Willamette Valley   \n",
              "3                Michigan  Lake Michigan Shore            Unknown   \n",
              "4                  Oregon    Willamette Valley  Willamette Valley   \n",
              "...                   ...                  ...                ...   \n",
              "129966              Mosel                  NaN            Unknown   \n",
              "129967             Oregon               Oregon       Oregon Other   \n",
              "129968             Alsace               Alsace            Unknown   \n",
              "129969             Alsace               Alsace            Unknown   \n",
              "129970             Alsace               Alsace            Unknown   \n",
              "\n",
              "               taster_name taster_twitter_handle  \\\n",
              "0            Kerin O’Keefe          @kerinokeefe   \n",
              "1               Roger Voss            @vossroger   \n",
              "2             Paul Gregutt           @paulgwine    \n",
              "3       Alexander Peartree                   NaN   \n",
              "4             Paul Gregutt           @paulgwine    \n",
              "...                    ...                   ...   \n",
              "129966  Anna Lee C. Iijima                   NaN   \n",
              "129967        Paul Gregutt           @paulgwine    \n",
              "129968          Roger Voss            @vossroger   \n",
              "129969          Roger Voss            @vossroger   \n",
              "129970          Roger Voss            @vossroger   \n",
              "\n",
              "                                                    title         variety  \\\n",
              "0                       Nicosia 2013 Vulkà Bianco  (Etna)     White Blend   \n",
              "1           Quinta dos Avidagos 2011 Avidagos Red (Douro)  Portuguese Red   \n",
              "2           Rainstorm 2013 Pinot Gris (Willamette Valley)      Pinot Gris   \n",
              "3       St. Julian 2013 Reserve Late Harvest Riesling ...        Riesling   \n",
              "4       Sweet Cheeks 2012 Vintner's Reserve Wild Child...      Pinot Noir   \n",
              "...                                                   ...             ...   \n",
              "129966  Dr. H. Thanisch (Erben Müller-Burggraef) 2013 ...        Riesling   \n",
              "129967                  Citation 2004 Pinot Noir (Oregon)      Pinot Noir   \n",
              "129968  Domaine Gresser 2013 Kritt Gewurztraminer (Als...  Gewürztraminer   \n",
              "129969      Domaine Marcel Deiss 2012 Pinot Gris (Alsace)      Pinot Gris   \n",
              "129970  Domaine Schoffit 2012 Lieu-dit Harth Cuvée Car...  Gewürztraminer   \n",
              "\n",
              "                                          winery  gasungbi  star  \n",
              "0                                        Nicosia       NaN     2  \n",
              "1                            Quinta dos Avidagos  5.800000     2  \n",
              "2                                      Rainstorm  6.214286     2  \n",
              "3                                     St. Julian  6.692308     2  \n",
              "4                                   Sweet Cheeks  1.338462     2  \n",
              "...                                          ...       ...   ...  \n",
              "129966  Dr. H. Thanisch (Erben Müller-Burggraef)  3.214286     2  \n",
              "129967                                  Citation  1.200000     2  \n",
              "129968                           Domaine Gresser  3.000000     2  \n",
              "129969                      Domaine Marcel Deiss  2.812500     2  \n",
              "129970                          Domaine Schoffit  4.285714     2  \n",
              "\n",
              "[129971 rows x 15 columns]"
            ],
            "text/html": [
              "\n",
              "  <div id=\"df-6b9c37bd-5e05-4e71-a5a7-6f12d12e0492\">\n",
              "    <div class=\"colab-df-container\">\n",
              "      <div>\n",
              "<style scoped>\n",
              "    .dataframe tbody tr th:only-of-type {\n",
              "        vertical-align: middle;\n",
              "    }\n",
              "\n",
              "    .dataframe tbody tr th {\n",
              "        vertical-align: top;\n",
              "    }\n",
              "\n",
              "    .dataframe thead th {\n",
              "        text-align: right;\n",
              "    }\n",
              "</style>\n",
              "<table border=\"1\" class=\"dataframe\">\n",
              "  <thead>\n",
              "    <tr style=\"text-align: right;\">\n",
              "      <th></th>\n",
              "      <th>country</th>\n",
              "      <th>description</th>\n",
              "      <th>designation</th>\n",
              "      <th>points</th>\n",
              "      <th>price</th>\n",
              "      <th>province</th>\n",
              "      <th>region_1</th>\n",
              "      <th>region_2</th>\n",
              "      <th>taster_name</th>\n",
              "      <th>taster_twitter_handle</th>\n",
              "      <th>title</th>\n",
              "      <th>variety</th>\n",
              "      <th>winery</th>\n",
              "      <th>gasungbi</th>\n",
              "      <th>star</th>\n",
              "    </tr>\n",
              "  </thead>\n",
              "  <tbody>\n",
              "    <tr>\n",
              "      <th>0</th>\n",
              "      <td>Italy</td>\n",
              "      <td>Aromas include tropical fruit, broom, brimston...</td>\n",
              "      <td>Vulkà Bianco</td>\n",
              "      <td>87</td>\n",
              "      <td>NaN</td>\n",
              "      <td>Sicily &amp; Sardinia</td>\n",
              "      <td>Etna</td>\n",
              "      <td>Unknown</td>\n",
              "      <td>Kerin O’Keefe</td>\n",
              "      <td>@kerinokeefe</td>\n",
              "      <td>Nicosia 2013 Vulkà Bianco  (Etna)</td>\n",
              "      <td>White Blend</td>\n",
              "      <td>Nicosia</td>\n",
              "      <td>NaN</td>\n",
              "      <td>2</td>\n",
              "    </tr>\n",
              "    <tr>\n",
              "      <th>1</th>\n",
              "      <td>Portugal</td>\n",
              "      <td>This is ripe and fruity, a wine that is smooth...</td>\n",
              "      <td>Avidagos</td>\n",
              "      <td>87</td>\n",
              "      <td>15.0</td>\n",
              "      <td>Douro</td>\n",
              "      <td>NaN</td>\n",
              "      <td>Unknown</td>\n",
              "      <td>Roger Voss</td>\n",
              "      <td>@vossroger</td>\n",
              "      <td>Quinta dos Avidagos 2011 Avidagos Red (Douro)</td>\n",
              "      <td>Portuguese Red</td>\n",
              "      <td>Quinta dos Avidagos</td>\n",
              "      <td>5.800000</td>\n",
              "      <td>2</td>\n",
              "    </tr>\n",
              "    <tr>\n",
              "      <th>2</th>\n",
              "      <td>US</td>\n",
              "      <td>Tart and snappy, the flavors of lime flesh and...</td>\n",
              "      <td>NaN</td>\n",
              "      <td>87</td>\n",
              "      <td>14.0</td>\n",
              "      <td>Oregon</td>\n",
              "      <td>Willamette Valley</td>\n",
              "      <td>Willamette Valley</td>\n",
              "      <td>Paul Gregutt</td>\n",
              "      <td>@paulgwine</td>\n",
              "      <td>Rainstorm 2013 Pinot Gris (Willamette Valley)</td>\n",
              "      <td>Pinot Gris</td>\n",
              "      <td>Rainstorm</td>\n",
              "      <td>6.214286</td>\n",
              "      <td>2</td>\n",
              "    </tr>\n",
              "    <tr>\n",
              "      <th>3</th>\n",
              "      <td>US</td>\n",
              "      <td>Pineapple rind, lemon pith and orange blossom ...</td>\n",
              "      <td>Reserve Late Harvest</td>\n",
              "      <td>87</td>\n",
              "      <td>13.0</td>\n",
              "      <td>Michigan</td>\n",
              "      <td>Lake Michigan Shore</td>\n",
              "      <td>Unknown</td>\n",
              "      <td>Alexander Peartree</td>\n",
              "      <td>NaN</td>\n",
              "      <td>St. Julian 2013 Reserve Late Harvest Riesling ...</td>\n",
              "      <td>Riesling</td>\n",
              "      <td>St. Julian</td>\n",
              "      <td>6.692308</td>\n",
              "      <td>2</td>\n",
              "    </tr>\n",
              "    <tr>\n",
              "      <th>4</th>\n",
              "      <td>US</td>\n",
              "      <td>Much like the regular bottling from 2012, this...</td>\n",
              "      <td>Vintner's Reserve Wild Child Block</td>\n",
              "      <td>87</td>\n",
              "      <td>65.0</td>\n",
              "      <td>Oregon</td>\n",
              "      <td>Willamette Valley</td>\n",
              "      <td>Willamette Valley</td>\n",
              "      <td>Paul Gregutt</td>\n",
              "      <td>@paulgwine</td>\n",
              "      <td>Sweet Cheeks 2012 Vintner's Reserve Wild Child...</td>\n",
              "      <td>Pinot Noir</td>\n",
              "      <td>Sweet Cheeks</td>\n",
              "      <td>1.338462</td>\n",
              "      <td>2</td>\n",
              "    </tr>\n",
              "    <tr>\n",
              "      <th>...</th>\n",
              "      <td>...</td>\n",
              "      <td>...</td>\n",
              "      <td>...</td>\n",
              "      <td>...</td>\n",
              "      <td>...</td>\n",
              "      <td>...</td>\n",
              "      <td>...</td>\n",
              "      <td>...</td>\n",
              "      <td>...</td>\n",
              "      <td>...</td>\n",
              "      <td>...</td>\n",
              "      <td>...</td>\n",
              "      <td>...</td>\n",
              "      <td>...</td>\n",
              "      <td>...</td>\n",
              "    </tr>\n",
              "    <tr>\n",
              "      <th>129966</th>\n",
              "      <td>Germany</td>\n",
              "      <td>Notes of honeysuckle and cantaloupe sweeten th...</td>\n",
              "      <td>Brauneberger Juffer-Sonnenuhr Spätlese</td>\n",
              "      <td>90</td>\n",
              "      <td>28.0</td>\n",
              "      <td>Mosel</td>\n",
              "      <td>NaN</td>\n",
              "      <td>Unknown</td>\n",
              "      <td>Anna Lee C. Iijima</td>\n",
              "      <td>NaN</td>\n",
              "      <td>Dr. H. Thanisch (Erben Müller-Burggraef) 2013 ...</td>\n",
              "      <td>Riesling</td>\n",
              "      <td>Dr. H. Thanisch (Erben Müller-Burggraef)</td>\n",
              "      <td>3.214286</td>\n",
              "      <td>2</td>\n",
              "    </tr>\n",
              "    <tr>\n",
              "      <th>129967</th>\n",
              "      <td>US</td>\n",
              "      <td>Citation is given as much as a decade of bottl...</td>\n",
              "      <td>NaN</td>\n",
              "      <td>90</td>\n",
              "      <td>75.0</td>\n",
              "      <td>Oregon</td>\n",
              "      <td>Oregon</td>\n",
              "      <td>Oregon Other</td>\n",
              "      <td>Paul Gregutt</td>\n",
              "      <td>@paulgwine</td>\n",
              "      <td>Citation 2004 Pinot Noir (Oregon)</td>\n",
              "      <td>Pinot Noir</td>\n",
              "      <td>Citation</td>\n",
              "      <td>1.200000</td>\n",
              "      <td>2</td>\n",
              "    </tr>\n",
              "    <tr>\n",
              "      <th>129968</th>\n",
              "      <td>France</td>\n",
              "      <td>Well-drained gravel soil gives this wine its c...</td>\n",
              "      <td>Kritt</td>\n",
              "      <td>90</td>\n",
              "      <td>30.0</td>\n",
              "      <td>Alsace</td>\n",
              "      <td>Alsace</td>\n",
              "      <td>Unknown</td>\n",
              "      <td>Roger Voss</td>\n",
              "      <td>@vossroger</td>\n",
              "      <td>Domaine Gresser 2013 Kritt Gewurztraminer (Als...</td>\n",
              "      <td>Gewürztraminer</td>\n",
              "      <td>Domaine Gresser</td>\n",
              "      <td>3.000000</td>\n",
              "      <td>2</td>\n",
              "    </tr>\n",
              "    <tr>\n",
              "      <th>129969</th>\n",
              "      <td>France</td>\n",
              "      <td>A dry style of Pinot Gris, this is crisp with ...</td>\n",
              "      <td>NaN</td>\n",
              "      <td>90</td>\n",
              "      <td>32.0</td>\n",
              "      <td>Alsace</td>\n",
              "      <td>Alsace</td>\n",
              "      <td>Unknown</td>\n",
              "      <td>Roger Voss</td>\n",
              "      <td>@vossroger</td>\n",
              "      <td>Domaine Marcel Deiss 2012 Pinot Gris (Alsace)</td>\n",
              "      <td>Pinot Gris</td>\n",
              "      <td>Domaine Marcel Deiss</td>\n",
              "      <td>2.812500</td>\n",
              "      <td>2</td>\n",
              "    </tr>\n",
              "    <tr>\n",
              "      <th>129970</th>\n",
              "      <td>France</td>\n",
              "      <td>Big, rich and off-dry, this is powered by inte...</td>\n",
              "      <td>Lieu-dit Harth Cuvée Caroline</td>\n",
              "      <td>90</td>\n",
              "      <td>21.0</td>\n",
              "      <td>Alsace</td>\n",
              "      <td>Alsace</td>\n",
              "      <td>Unknown</td>\n",
              "      <td>Roger Voss</td>\n",
              "      <td>@vossroger</td>\n",
              "      <td>Domaine Schoffit 2012 Lieu-dit Harth Cuvée Car...</td>\n",
              "      <td>Gewürztraminer</td>\n",
              "      <td>Domaine Schoffit</td>\n",
              "      <td>4.285714</td>\n",
              "      <td>2</td>\n",
              "    </tr>\n",
              "  </tbody>\n",
              "</table>\n",
              "<p>129971 rows × 15 columns</p>\n",
              "</div>\n",
              "      <button class=\"colab-df-convert\" onclick=\"convertToInteractive('df-6b9c37bd-5e05-4e71-a5a7-6f12d12e0492')\"\n",
              "              title=\"Convert this dataframe to an interactive table.\"\n",
              "              style=\"display:none;\">\n",
              "        \n",
              "  <svg xmlns=\"http://www.w3.org/2000/svg\" height=\"24px\"viewBox=\"0 0 24 24\"\n",
              "       width=\"24px\">\n",
              "    <path d=\"M0 0h24v24H0V0z\" fill=\"none\"/>\n",
              "    <path d=\"M18.56 5.44l.94 2.06.94-2.06 2.06-.94-2.06-.94-.94-2.06-.94 2.06-2.06.94zm-11 1L8.5 8.5l.94-2.06 2.06-.94-2.06-.94L8.5 2.5l-.94 2.06-2.06.94zm10 10l.94 2.06.94-2.06 2.06-.94-2.06-.94-.94-2.06-.94 2.06-2.06.94z\"/><path d=\"M17.41 7.96l-1.37-1.37c-.4-.4-.92-.59-1.43-.59-.52 0-1.04.2-1.43.59L10.3 9.45l-7.72 7.72c-.78.78-.78 2.05 0 2.83L4 21.41c.39.39.9.59 1.41.59.51 0 1.02-.2 1.41-.59l7.78-7.78 2.81-2.81c.8-.78.8-2.07 0-2.86zM5.41 20L4 18.59l7.72-7.72 1.47 1.35L5.41 20z\"/>\n",
              "  </svg>\n",
              "      </button>\n",
              "      \n",
              "  <style>\n",
              "    .colab-df-container {\n",
              "      display:flex;\n",
              "      flex-wrap:wrap;\n",
              "      gap: 12px;\n",
              "    }\n",
              "\n",
              "    .colab-df-convert {\n",
              "      background-color: #E8F0FE;\n",
              "      border: none;\n",
              "      border-radius: 50%;\n",
              "      cursor: pointer;\n",
              "      display: none;\n",
              "      fill: #1967D2;\n",
              "      height: 32px;\n",
              "      padding: 0 0 0 0;\n",
              "      width: 32px;\n",
              "    }\n",
              "\n",
              "    .colab-df-convert:hover {\n",
              "      background-color: #E2EBFA;\n",
              "      box-shadow: 0px 1px 2px rgba(60, 64, 67, 0.3), 0px 1px 3px 1px rgba(60, 64, 67, 0.15);\n",
              "      fill: #174EA6;\n",
              "    }\n",
              "\n",
              "    [theme=dark] .colab-df-convert {\n",
              "      background-color: #3B4455;\n",
              "      fill: #D2E3FC;\n",
              "    }\n",
              "\n",
              "    [theme=dark] .colab-df-convert:hover {\n",
              "      background-color: #434B5C;\n",
              "      box-shadow: 0px 1px 3px 1px rgba(0, 0, 0, 0.15);\n",
              "      filter: drop-shadow(0px 1px 2px rgba(0, 0, 0, 0.3));\n",
              "      fill: #FFFFFF;\n",
              "    }\n",
              "  </style>\n",
              "\n",
              "      <script>\n",
              "        const buttonEl =\n",
              "          document.querySelector('#df-6b9c37bd-5e05-4e71-a5a7-6f12d12e0492 button.colab-df-convert');\n",
              "        buttonEl.style.display =\n",
              "          google.colab.kernel.accessAllowed ? 'block' : 'none';\n",
              "\n",
              "        async function convertToInteractive(key) {\n",
              "          const element = document.querySelector('#df-6b9c37bd-5e05-4e71-a5a7-6f12d12e0492');\n",
              "          const dataTable =\n",
              "            await google.colab.kernel.invokeFunction('convertToInteractive',\n",
              "                                                     [key], {});\n",
              "          if (!dataTable) return;\n",
              "\n",
              "          const docLinkHtml = 'Like what you see? Visit the ' +\n",
              "            '<a target=\"_blank\" href=https://colab.research.google.com/notebooks/data_table.ipynb>data table notebook</a>'\n",
              "            + ' to learn more about interactive tables.';\n",
              "          element.innerHTML = '';\n",
              "          dataTable['output_type'] = 'display_data';\n",
              "          await google.colab.output.renderOutput(dataTable, element);\n",
              "          const docLink = document.createElement('div');\n",
              "          docLink.innerHTML = docLinkHtml;\n",
              "          element.appendChild(docLink);\n",
              "        }\n",
              "      </script>\n",
              "    </div>\n",
              "  </div>\n",
              "  "
            ]
          },
          "metadata": {},
          "execution_count": 125
        }
      ]
    },
    {
      "cell_type": "markdown",
      "source": [
        "각 포인트 별로 몇개의 리뷰가 있는가?\n",
        "\n",
        "예를들어 95점은 4개, 94점은 10개....."
      ],
      "metadata": {
        "id": "v5wCtzCQTuVS"
      }
    },
    {
      "cell_type": "code",
      "execution_count": 73,
      "metadata": {
        "id": "P2Odgv4rSJe0",
        "colab": {
          "base_uri": "https://localhost:8080/"
        },
        "outputId": "c943f121-2c52-447b-e17a-0f1216bce954"
      },
      "outputs": [
        {
          "output_type": "execute_result",
          "data": {
            "text/plain": [
              "88     17207\n",
              "87     16933\n",
              "90     15410\n",
              "86     12600\n",
              "89     12226\n",
              "91     11359\n",
              "92      9613\n",
              "85      9530\n",
              "93      6489\n",
              "84      6480\n",
              "94      3758\n",
              "83      3025\n",
              "82      1836\n",
              "95      1535\n",
              "81       692\n",
              "96       523\n",
              "80       397\n",
              "97       229\n",
              "98        77\n",
              "99        33\n",
              "100       19\n",
              "Name: points, dtype: int64"
            ]
          },
          "metadata": {},
          "execution_count": 73
        }
      ],
      "source": [
        "#### 나의 풀이\n",
        "\n",
        "# # 각 포인트 별 리뷰의 개수....\n",
        "# # 포인트 컬럼에 값이 있으면서 디스크립션 컬럼에도 값이 있는 행을 찾아서\n",
        "# # 같은 점수가 몇개있는지 nunique 를 사용하면 되지 않을까?\n",
        "\n",
        "\n",
        "# reviews.head()\n",
        "# reviews['points'].isna().sum()  # 값 전부 있음\n",
        "# reviews['description'].isna().sum() # 값 전부 있음\n",
        "\n",
        "# # 결측치 있는지 확인했는데 전부 값 있음.\n",
        "# # 그렇다면... 같은 점수가 몇개있는지만 확인하면 그게 리뷰 수랑 같아짐. \n",
        "# # 같은 점수의 개수 = 그 점수의 리뷰 수\n",
        "# # nunique  --> 잘 안나와 같은 값을 가진에 21가지 있다고함. 다른거 사용해보기\n",
        "# reviews['points'].nunique()\n",
        "# # value_counts() \n",
        "# reviews['points'].value_counts()\n",
        "# # 오케이 나왔다~~"
      ]
    },
    {
      "cell_type": "code",
      "source": [
        "#### 해설\n",
        "\n",
        "\n",
        "# # 1.\n",
        "# reviews\n",
        "# # 2. \n",
        "# reviews['points']\n",
        "# # 3.\n",
        "reviews['points'].value_counts()\n",
        "\n",
        "\n"
      ],
      "metadata": {
        "colab": {
          "base_uri": "https://localhost:8080/"
        },
        "id": "LZzqfKVzT4Uy",
        "outputId": "f29efb7b-6b82-47d9-c4c6-220f353034f7"
      },
      "execution_count": 126,
      "outputs": [
        {
          "output_type": "execute_result",
          "data": {
            "text/plain": [
              "88     17207\n",
              "87     16933\n",
              "90     15410\n",
              "86     12600\n",
              "89     12226\n",
              "91     11359\n",
              "92      9613\n",
              "85      9530\n",
              "93      6489\n",
              "84      6480\n",
              "94      3758\n",
              "83      3025\n",
              "82      1836\n",
              "95      1535\n",
              "81       692\n",
              "96       523\n",
              "80       397\n",
              "97       229\n",
              "98        77\n",
              "99        33\n",
              "100       19\n",
              "Name: points, dtype: int64"
            ]
          },
          "metadata": {},
          "execution_count": 126
        }
      ]
    },
    {
      "cell_type": "markdown",
      "source": [
        "가장 점수가 높은 와인은 무엇인가?"
      ],
      "metadata": {
        "id": "1FE2MosOTrQL"
      }
    },
    {
      "cell_type": "code",
      "source": [
        "#### 나의 풀이\n",
        "\n",
        "# reviews.sort_values(by = ['points'], ascending = False)\n",
        "\n",
        "\n"
      ],
      "metadata": {
        "id": "4-pfQ7itT5O8"
      },
      "execution_count": null,
      "outputs": []
    },
    {
      "cell_type": "code",
      "source": [
        "#### 해설\n",
        "\n",
        "\n",
        "# # 1. \n",
        "# reviews['points'].max()\n",
        "# # 2.\n",
        "# reviews['points'] = reviews['points'].max()\n",
        "# # 3.\n",
        "# reviews.loc[ reviews['points'] == reviews['points'].max(),  ]\n",
        "\n"
      ],
      "metadata": {
        "id": "Owv56BDST46C"
      },
      "execution_count": 98,
      "outputs": []
    },
    {
      "cell_type": "code",
      "source": [
        "reviews['points'].max()"
      ],
      "metadata": {
        "colab": {
          "base_uri": "https://localhost:8080/"
        },
        "id": "gkQ2mq_VT4zK",
        "outputId": "8ed1ce89-5943-4bae-c6a3-69e0b9d6c0e7"
      },
      "execution_count": 127,
      "outputs": [
        {
          "output_type": "execute_result",
          "data": {
            "text/plain": [
              "100"
            ]
          },
          "metadata": {},
          "execution_count": 127
        }
      ]
    },
    {
      "cell_type": "code",
      "source": [
        "reviews['points'] == reviews['points'].max()"
      ],
      "metadata": {
        "colab": {
          "base_uri": "https://localhost:8080/"
        },
        "id": "XFMiN6zWpCpr",
        "outputId": "7705209b-bcf8-42a6-9db2-a3d66fb087fe"
      },
      "execution_count": 128,
      "outputs": [
        {
          "output_type": "execute_result",
          "data": {
            "text/plain": [
              "0         False\n",
              "1         False\n",
              "2         False\n",
              "3         False\n",
              "4         False\n",
              "          ...  \n",
              "129966    False\n",
              "129967    False\n",
              "129968    False\n",
              "129969    False\n",
              "129970    False\n",
              "Name: points, Length: 129971, dtype: bool"
            ]
          },
          "metadata": {},
          "execution_count": 128
        }
      ]
    },
    {
      "cell_type": "markdown",
      "source": [
        "점수는 높고 가격은 싼 와인 순서대로 보여주시오"
      ],
      "metadata": {
        "id": "PwtDJv8WT28j"
      }
    },
    {
      "cell_type": "code",
      "source": [
        "#### 나의 풀이\n",
        "\n",
        "# 점수는 False로 가격은 True로 정렬\n",
        "\n",
        "# reviews.sort_values( by = ['points', 'price'], ascending = [False, True])\n",
        "\n"
      ],
      "metadata": {
        "id": "SujfsXFfT6Dl"
      },
      "execution_count": null,
      "outputs": []
    },
    {
      "cell_type": "code",
      "source": [
        "#### 해설\n",
        "\n",
        "\n",
        "# # 1. 정렬하기\n",
        "# reviews.sort_values('points')\n",
        "# # 2. 내림차순 정렬\n",
        "# reviews.sort_values('points', ascending = False)\n",
        "# # 3. 정렬 기준 2개 이상으로 하기 -> 리스트 활용 : 둘 다 오름차순으로 나옴\n",
        "# reviews.sort_values(['points', 'price'])\n",
        "# # 4. 내림차순 정렬\n",
        "# reviews.sort_values(['points', 'price'], ascending = False)\n",
        "# # 5. 정렬 다르게 조건 주기 -> 조건이 여러개니까 리스트 활용\n",
        "reviews.sort_values(['points', 'price'], ascending = [False, True])\n",
        "\n"
      ],
      "metadata": {
        "colab": {
          "base_uri": "https://localhost:8080/",
          "height": 1000
        },
        "id": "NTjrWEa9T5-9",
        "outputId": "d0320ef8-fe2e-424f-86c1-ce68426a867c"
      },
      "execution_count": 129,
      "outputs": [
        {
          "output_type": "execute_result",
          "data": {
            "text/plain": [
              "         country                                        description  \\\n",
              "113929        US  In 2005 Charles Smith introduced three high-en...   \n",
              "123545        US  Initially a rather subdued Frog; as if it has ...   \n",
              "58352     France  This is a magnificently solid wine, initially ...   \n",
              "45798         US  Tasted in a flight of great and famous Napa wi...   \n",
              "7335       Italy  Thick as molasses and dark as caramelized brow...   \n",
              "...          ...                                                ...   \n",
              "122417        US  There's little going on in this wine beyond su...   \n",
              "28569         US  Smells and tastes like caramel and stewed cher...   \n",
              "103989        US  This suffers from major problems. It has all t...   \n",
              "117025  Portugal  A curious sauerkraut perfume leads to a hard e...   \n",
              "123541     Italy  This Valpolicella blend opens with an aged, br...   \n",
              "\n",
              "                 designation  points  price    province  \\\n",
              "113929            Royal City     100   80.0  Washington   \n",
              "123545           Bionic Frog     100   80.0  Washington   \n",
              "58352                    NaN     100  150.0    Bordeaux   \n",
              "45798                    NaN     100  200.0  California   \n",
              "7335       Occhio di Pernice     100  210.0     Tuscany   \n",
              "...                      ...     ...    ...         ...   \n",
              "122417                 DeLuz      80   45.0  California   \n",
              "28569               Scoprire      80   55.0  California   \n",
              "103989  Miljenko's Old Vines      80   69.0  California   \n",
              "117025                   NaN      80    NaN      Lisboa   \n",
              "123541          Corte Antica      80    NaN      Veneto   \n",
              "\n",
              "                               region_1          region_2   taster_name  \\\n",
              "113929             Columbia Valley (WA)   Columbia Valley  Paul Gregutt   \n",
              "123545          Walla Walla Valley (WA)   Columbia Valley  Paul Gregutt   \n",
              "58352                      Saint-Julien           Unknown    Roger Voss   \n",
              "45798                       Napa Valley              Napa           NaN   \n",
              "7335         Vin Santo di Montepulciano           Unknown           NaN   \n",
              "...                                 ...               ...           ...   \n",
              "122417                       California  California Other           NaN   \n",
              "28569                        California  California Other           NaN   \n",
              "103989                      Napa Valley              Napa           NaN   \n",
              "117025                              NaN           Unknown    Roger Voss   \n",
              "123541  Valpolicella Classico Superiore           Unknown           NaN   \n",
              "\n",
              "       taster_twitter_handle  \\\n",
              "113929           @paulgwine    \n",
              "123545           @paulgwine    \n",
              "58352             @vossroger   \n",
              "45798                    NaN   \n",
              "7335                     NaN   \n",
              "...                      ...   \n",
              "122417                   NaN   \n",
              "28569                    NaN   \n",
              "103989                   NaN   \n",
              "117025            @vossroger   \n",
              "123541                   NaN   \n",
              "\n",
              "                                                    title  \\\n",
              "113929  Charles Smith 2006 Royal City Syrah (Columbia ...   \n",
              "123545  Cayuse 2008 Bionic Frog Syrah (Walla Walla Val...   \n",
              "58352          Château Léoville Barton 2010  Saint-Julien   \n",
              "45798     Cardinale 2006 Cabernet Sauvignon (Napa Valley)   \n",
              "7335    Avignonesi 1995 Occhio di Pernice  (Vin Santo ...   \n",
              "...                                                   ...   \n",
              "122417         Casa Tiene Vista NV DeLuz Red (California)   \n",
              "28569            Millésimé 2005 Scoprire Red (California)   \n",
              "103989  Grgich Hills 2004 Miljenko's Old Vines Zinfand...   \n",
              "117025     Quinta do Pinto 2008 Touriga Nacional (Lisboa)   \n",
              "123541  Cantine Benedetti 2008 Corte Antica  (Valpolic...   \n",
              "\n",
              "                              variety                   winery  gasungbi  star  \n",
              "113929                          Syrah            Charles Smith  1.250000     3  \n",
              "123545                          Syrah                   Cayuse  1.250000     3  \n",
              "58352        Bordeaux-style Red Blend  Château Léoville Barton  0.666667     3  \n",
              "45798              Cabernet Sauvignon                Cardinale  0.500000     3  \n",
              "7335                 Prugnolo Gentile               Avignonesi  0.476190     3  \n",
              "...                               ...                      ...       ...   ...  \n",
              "122417                      Red Blend         Casa Tiene Vista  1.777778     1  \n",
              "28569                       Red Blend                Millésimé  1.454545     1  \n",
              "103989                      Zinfandel             Grgich Hills  1.159420     1  \n",
              "117025               Touriga Nacional          Quinta do Pinto       NaN     1  \n",
              "123541  Corvina, Rondinella, Molinara        Cantine Benedetti       NaN     1  \n",
              "\n",
              "[129971 rows x 15 columns]"
            ],
            "text/html": [
              "\n",
              "  <div id=\"df-7d2197a0-cfc2-488b-85c4-d2b5136392ea\">\n",
              "    <div class=\"colab-df-container\">\n",
              "      <div>\n",
              "<style scoped>\n",
              "    .dataframe tbody tr th:only-of-type {\n",
              "        vertical-align: middle;\n",
              "    }\n",
              "\n",
              "    .dataframe tbody tr th {\n",
              "        vertical-align: top;\n",
              "    }\n",
              "\n",
              "    .dataframe thead th {\n",
              "        text-align: right;\n",
              "    }\n",
              "</style>\n",
              "<table border=\"1\" class=\"dataframe\">\n",
              "  <thead>\n",
              "    <tr style=\"text-align: right;\">\n",
              "      <th></th>\n",
              "      <th>country</th>\n",
              "      <th>description</th>\n",
              "      <th>designation</th>\n",
              "      <th>points</th>\n",
              "      <th>price</th>\n",
              "      <th>province</th>\n",
              "      <th>region_1</th>\n",
              "      <th>region_2</th>\n",
              "      <th>taster_name</th>\n",
              "      <th>taster_twitter_handle</th>\n",
              "      <th>title</th>\n",
              "      <th>variety</th>\n",
              "      <th>winery</th>\n",
              "      <th>gasungbi</th>\n",
              "      <th>star</th>\n",
              "    </tr>\n",
              "  </thead>\n",
              "  <tbody>\n",
              "    <tr>\n",
              "      <th>113929</th>\n",
              "      <td>US</td>\n",
              "      <td>In 2005 Charles Smith introduced three high-en...</td>\n",
              "      <td>Royal City</td>\n",
              "      <td>100</td>\n",
              "      <td>80.0</td>\n",
              "      <td>Washington</td>\n",
              "      <td>Columbia Valley (WA)</td>\n",
              "      <td>Columbia Valley</td>\n",
              "      <td>Paul Gregutt</td>\n",
              "      <td>@paulgwine</td>\n",
              "      <td>Charles Smith 2006 Royal City Syrah (Columbia ...</td>\n",
              "      <td>Syrah</td>\n",
              "      <td>Charles Smith</td>\n",
              "      <td>1.250000</td>\n",
              "      <td>3</td>\n",
              "    </tr>\n",
              "    <tr>\n",
              "      <th>123545</th>\n",
              "      <td>US</td>\n",
              "      <td>Initially a rather subdued Frog; as if it has ...</td>\n",
              "      <td>Bionic Frog</td>\n",
              "      <td>100</td>\n",
              "      <td>80.0</td>\n",
              "      <td>Washington</td>\n",
              "      <td>Walla Walla Valley (WA)</td>\n",
              "      <td>Columbia Valley</td>\n",
              "      <td>Paul Gregutt</td>\n",
              "      <td>@paulgwine</td>\n",
              "      <td>Cayuse 2008 Bionic Frog Syrah (Walla Walla Val...</td>\n",
              "      <td>Syrah</td>\n",
              "      <td>Cayuse</td>\n",
              "      <td>1.250000</td>\n",
              "      <td>3</td>\n",
              "    </tr>\n",
              "    <tr>\n",
              "      <th>58352</th>\n",
              "      <td>France</td>\n",
              "      <td>This is a magnificently solid wine, initially ...</td>\n",
              "      <td>NaN</td>\n",
              "      <td>100</td>\n",
              "      <td>150.0</td>\n",
              "      <td>Bordeaux</td>\n",
              "      <td>Saint-Julien</td>\n",
              "      <td>Unknown</td>\n",
              "      <td>Roger Voss</td>\n",
              "      <td>@vossroger</td>\n",
              "      <td>Château Léoville Barton 2010  Saint-Julien</td>\n",
              "      <td>Bordeaux-style Red Blend</td>\n",
              "      <td>Château Léoville Barton</td>\n",
              "      <td>0.666667</td>\n",
              "      <td>3</td>\n",
              "    </tr>\n",
              "    <tr>\n",
              "      <th>45798</th>\n",
              "      <td>US</td>\n",
              "      <td>Tasted in a flight of great and famous Napa wi...</td>\n",
              "      <td>NaN</td>\n",
              "      <td>100</td>\n",
              "      <td>200.0</td>\n",
              "      <td>California</td>\n",
              "      <td>Napa Valley</td>\n",
              "      <td>Napa</td>\n",
              "      <td>NaN</td>\n",
              "      <td>NaN</td>\n",
              "      <td>Cardinale 2006 Cabernet Sauvignon (Napa Valley)</td>\n",
              "      <td>Cabernet Sauvignon</td>\n",
              "      <td>Cardinale</td>\n",
              "      <td>0.500000</td>\n",
              "      <td>3</td>\n",
              "    </tr>\n",
              "    <tr>\n",
              "      <th>7335</th>\n",
              "      <td>Italy</td>\n",
              "      <td>Thick as molasses and dark as caramelized brow...</td>\n",
              "      <td>Occhio di Pernice</td>\n",
              "      <td>100</td>\n",
              "      <td>210.0</td>\n",
              "      <td>Tuscany</td>\n",
              "      <td>Vin Santo di Montepulciano</td>\n",
              "      <td>Unknown</td>\n",
              "      <td>NaN</td>\n",
              "      <td>NaN</td>\n",
              "      <td>Avignonesi 1995 Occhio di Pernice  (Vin Santo ...</td>\n",
              "      <td>Prugnolo Gentile</td>\n",
              "      <td>Avignonesi</td>\n",
              "      <td>0.476190</td>\n",
              "      <td>3</td>\n",
              "    </tr>\n",
              "    <tr>\n",
              "      <th>...</th>\n",
              "      <td>...</td>\n",
              "      <td>...</td>\n",
              "      <td>...</td>\n",
              "      <td>...</td>\n",
              "      <td>...</td>\n",
              "      <td>...</td>\n",
              "      <td>...</td>\n",
              "      <td>...</td>\n",
              "      <td>...</td>\n",
              "      <td>...</td>\n",
              "      <td>...</td>\n",
              "      <td>...</td>\n",
              "      <td>...</td>\n",
              "      <td>...</td>\n",
              "      <td>...</td>\n",
              "    </tr>\n",
              "    <tr>\n",
              "      <th>122417</th>\n",
              "      <td>US</td>\n",
              "      <td>There's little going on in this wine beyond su...</td>\n",
              "      <td>DeLuz</td>\n",
              "      <td>80</td>\n",
              "      <td>45.0</td>\n",
              "      <td>California</td>\n",
              "      <td>California</td>\n",
              "      <td>California Other</td>\n",
              "      <td>NaN</td>\n",
              "      <td>NaN</td>\n",
              "      <td>Casa Tiene Vista NV DeLuz Red (California)</td>\n",
              "      <td>Red Blend</td>\n",
              "      <td>Casa Tiene Vista</td>\n",
              "      <td>1.777778</td>\n",
              "      <td>1</td>\n",
              "    </tr>\n",
              "    <tr>\n",
              "      <th>28569</th>\n",
              "      <td>US</td>\n",
              "      <td>Smells and tastes like caramel and stewed cher...</td>\n",
              "      <td>Scoprire</td>\n",
              "      <td>80</td>\n",
              "      <td>55.0</td>\n",
              "      <td>California</td>\n",
              "      <td>California</td>\n",
              "      <td>California Other</td>\n",
              "      <td>NaN</td>\n",
              "      <td>NaN</td>\n",
              "      <td>Millésimé 2005 Scoprire Red (California)</td>\n",
              "      <td>Red Blend</td>\n",
              "      <td>Millésimé</td>\n",
              "      <td>1.454545</td>\n",
              "      <td>1</td>\n",
              "    </tr>\n",
              "    <tr>\n",
              "      <th>103989</th>\n",
              "      <td>US</td>\n",
              "      <td>This suffers from major problems. It has all t...</td>\n",
              "      <td>Miljenko's Old Vines</td>\n",
              "      <td>80</td>\n",
              "      <td>69.0</td>\n",
              "      <td>California</td>\n",
              "      <td>Napa Valley</td>\n",
              "      <td>Napa</td>\n",
              "      <td>NaN</td>\n",
              "      <td>NaN</td>\n",
              "      <td>Grgich Hills 2004 Miljenko's Old Vines Zinfand...</td>\n",
              "      <td>Zinfandel</td>\n",
              "      <td>Grgich Hills</td>\n",
              "      <td>1.159420</td>\n",
              "      <td>1</td>\n",
              "    </tr>\n",
              "    <tr>\n",
              "      <th>117025</th>\n",
              "      <td>Portugal</td>\n",
              "      <td>A curious sauerkraut perfume leads to a hard e...</td>\n",
              "      <td>NaN</td>\n",
              "      <td>80</td>\n",
              "      <td>NaN</td>\n",
              "      <td>Lisboa</td>\n",
              "      <td>NaN</td>\n",
              "      <td>Unknown</td>\n",
              "      <td>Roger Voss</td>\n",
              "      <td>@vossroger</td>\n",
              "      <td>Quinta do Pinto 2008 Touriga Nacional (Lisboa)</td>\n",
              "      <td>Touriga Nacional</td>\n",
              "      <td>Quinta do Pinto</td>\n",
              "      <td>NaN</td>\n",
              "      <td>1</td>\n",
              "    </tr>\n",
              "    <tr>\n",
              "      <th>123541</th>\n",
              "      <td>Italy</td>\n",
              "      <td>This Valpolicella blend opens with an aged, br...</td>\n",
              "      <td>Corte Antica</td>\n",
              "      <td>80</td>\n",
              "      <td>NaN</td>\n",
              "      <td>Veneto</td>\n",
              "      <td>Valpolicella Classico Superiore</td>\n",
              "      <td>Unknown</td>\n",
              "      <td>NaN</td>\n",
              "      <td>NaN</td>\n",
              "      <td>Cantine Benedetti 2008 Corte Antica  (Valpolic...</td>\n",
              "      <td>Corvina, Rondinella, Molinara</td>\n",
              "      <td>Cantine Benedetti</td>\n",
              "      <td>NaN</td>\n",
              "      <td>1</td>\n",
              "    </tr>\n",
              "  </tbody>\n",
              "</table>\n",
              "<p>129971 rows × 15 columns</p>\n",
              "</div>\n",
              "      <button class=\"colab-df-convert\" onclick=\"convertToInteractive('df-7d2197a0-cfc2-488b-85c4-d2b5136392ea')\"\n",
              "              title=\"Convert this dataframe to an interactive table.\"\n",
              "              style=\"display:none;\">\n",
              "        \n",
              "  <svg xmlns=\"http://www.w3.org/2000/svg\" height=\"24px\"viewBox=\"0 0 24 24\"\n",
              "       width=\"24px\">\n",
              "    <path d=\"M0 0h24v24H0V0z\" fill=\"none\"/>\n",
              "    <path d=\"M18.56 5.44l.94 2.06.94-2.06 2.06-.94-2.06-.94-.94-2.06-.94 2.06-2.06.94zm-11 1L8.5 8.5l.94-2.06 2.06-.94-2.06-.94L8.5 2.5l-.94 2.06-2.06.94zm10 10l.94 2.06.94-2.06 2.06-.94-2.06-.94-.94-2.06-.94 2.06-2.06.94z\"/><path d=\"M17.41 7.96l-1.37-1.37c-.4-.4-.92-.59-1.43-.59-.52 0-1.04.2-1.43.59L10.3 9.45l-7.72 7.72c-.78.78-.78 2.05 0 2.83L4 21.41c.39.39.9.59 1.41.59.51 0 1.02-.2 1.41-.59l7.78-7.78 2.81-2.81c.8-.78.8-2.07 0-2.86zM5.41 20L4 18.59l7.72-7.72 1.47 1.35L5.41 20z\"/>\n",
              "  </svg>\n",
              "      </button>\n",
              "      \n",
              "  <style>\n",
              "    .colab-df-container {\n",
              "      display:flex;\n",
              "      flex-wrap:wrap;\n",
              "      gap: 12px;\n",
              "    }\n",
              "\n",
              "    .colab-df-convert {\n",
              "      background-color: #E8F0FE;\n",
              "      border: none;\n",
              "      border-radius: 50%;\n",
              "      cursor: pointer;\n",
              "      display: none;\n",
              "      fill: #1967D2;\n",
              "      height: 32px;\n",
              "      padding: 0 0 0 0;\n",
              "      width: 32px;\n",
              "    }\n",
              "\n",
              "    .colab-df-convert:hover {\n",
              "      background-color: #E2EBFA;\n",
              "      box-shadow: 0px 1px 2px rgba(60, 64, 67, 0.3), 0px 1px 3px 1px rgba(60, 64, 67, 0.15);\n",
              "      fill: #174EA6;\n",
              "    }\n",
              "\n",
              "    [theme=dark] .colab-df-convert {\n",
              "      background-color: #3B4455;\n",
              "      fill: #D2E3FC;\n",
              "    }\n",
              "\n",
              "    [theme=dark] .colab-df-convert:hover {\n",
              "      background-color: #434B5C;\n",
              "      box-shadow: 0px 1px 3px 1px rgba(0, 0, 0, 0.15);\n",
              "      filter: drop-shadow(0px 1px 2px rgba(0, 0, 0, 0.3));\n",
              "      fill: #FFFFFF;\n",
              "    }\n",
              "  </style>\n",
              "\n",
              "      <script>\n",
              "        const buttonEl =\n",
              "          document.querySelector('#df-7d2197a0-cfc2-488b-85c4-d2b5136392ea button.colab-df-convert');\n",
              "        buttonEl.style.display =\n",
              "          google.colab.kernel.accessAllowed ? 'block' : 'none';\n",
              "\n",
              "        async function convertToInteractive(key) {\n",
              "          const element = document.querySelector('#df-7d2197a0-cfc2-488b-85c4-d2b5136392ea');\n",
              "          const dataTable =\n",
              "            await google.colab.kernel.invokeFunction('convertToInteractive',\n",
              "                                                     [key], {});\n",
              "          if (!dataTable) return;\n",
              "\n",
              "          const docLinkHtml = 'Like what you see? Visit the ' +\n",
              "            '<a target=\"_blank\" href=https://colab.research.google.com/notebooks/data_table.ipynb>data table notebook</a>'\n",
              "            + ' to learn more about interactive tables.';\n",
              "          element.innerHTML = '';\n",
              "          dataTable['output_type'] = 'display_data';\n",
              "          await google.colab.output.renderOutput(dataTable, element);\n",
              "          const docLink = document.createElement('div');\n",
              "          docLink.innerHTML = docLinkHtml;\n",
              "          element.appendChild(docLink);\n",
              "        }\n",
              "      </script>\n",
              "    </div>\n",
              "  </div>\n",
              "  "
            ]
          },
          "metadata": {},
          "execution_count": 129
        }
      ]
    },
    {
      "cell_type": "code",
      "source": [],
      "metadata": {
        "id": "LVRT2wh1T56L"
      },
      "execution_count": null,
      "outputs": []
    },
    {
      "cell_type": "markdown",
      "source": [
        "포인트별로 가격의 최소값을 구해본다\n",
        "\n",
        "이것을 구하면, 100점짜리 와인을 먹으려면 최소한 얼마가 있어야 하는지 파악이 가능함."
      ],
      "metadata": {
        "id": "Jf7FazYIT-Ry"
      }
    },
    {
      "cell_type": "code",
      "source": [
        "#### 나의 풀이\n",
        "\n",
        "\n"
      ],
      "metadata": {
        "id": "LiLVSel4UGWk"
      },
      "execution_count": null,
      "outputs": []
    },
    {
      "cell_type": "code",
      "source": [
        "#### 해설\n",
        "\n",
        "\n",
        "# # 1. 포인트별로 -> groupby 사용해보기\n",
        "# reviews.groupby('points')\n"
      ],
      "metadata": {
        "colab": {
          "base_uri": "https://localhost:8080/"
        },
        "id": "3DGWdNJEUGuK",
        "outputId": "a64a4f4e-882a-4e92-f1ea-41117b675b25"
      },
      "execution_count": 84,
      "outputs": [
        {
          "output_type": "execute_result",
          "data": {
            "text/plain": [
              "<pandas.core.groupby.generic.DataFrameGroupBy object at 0x7f1c445165f0>"
            ]
          },
          "metadata": {},
          "execution_count": 84
        }
      ]
    },
    {
      "cell_type": "code",
      "source": [
        "#### 해설\n",
        "\n",
        "\n",
        "# 1. 포인트별로 -> groupby 사용해보기\n",
        "# 2. 그룹바이한 것을 가격별로 또 묶기\n",
        "\n",
        "reviews.groupby('points')['price'].min()"
      ],
      "metadata": {
        "colab": {
          "base_uri": "https://localhost:8080/"
        },
        "id": "6OX0dCK0UGqD",
        "outputId": "ad96cf48-a8ff-4d61-e5cd-9a0c1a744db5"
      },
      "execution_count": 130,
      "outputs": [
        {
          "output_type": "execute_result",
          "data": {
            "text/plain": [
              "points\n",
              "80      5.0\n",
              "81      5.0\n",
              "82      4.0\n",
              "83      4.0\n",
              "84      4.0\n",
              "85      4.0\n",
              "86      4.0\n",
              "87      5.0\n",
              "88      6.0\n",
              "89      7.0\n",
              "90      8.0\n",
              "91      7.0\n",
              "92     11.0\n",
              "93     12.0\n",
              "94     13.0\n",
              "95     20.0\n",
              "96     20.0\n",
              "97     35.0\n",
              "98     50.0\n",
              "99     44.0\n",
              "100    80.0\n",
              "Name: price, dtype: float64"
            ]
          },
          "metadata": {},
          "execution_count": 130
        }
      ]
    },
    {
      "cell_type": "code",
      "source": [
        "#### 해설\n",
        "\n",
        "# 최대 최소가격을 다 찾고 싶을때\n",
        "import numpy as np\n",
        "\n",
        "reviews.groupby('points')['price'].agg( [np.min, np.max] ).sort_index(ascending = False)  # 기본 오름차순 \n"
      ],
      "metadata": {
        "colab": {
          "base_uri": "https://localhost:8080/",
          "height": 739
        },
        "id": "12hNmi-sfOdL",
        "outputId": "aedc4d8c-b9c3-47ed-de68-e4c0bee3c38f"
      },
      "execution_count": 131,
      "outputs": [
        {
          "output_type": "execute_result",
          "data": {
            "text/plain": [
              "        amin    amax\n",
              "points              \n",
              "100     80.0  1500.0\n",
              "99      44.0   850.0\n",
              "98      50.0  1900.0\n",
              "97      35.0  2000.0\n",
              "96      20.0  2500.0\n",
              "95      20.0   973.0\n",
              "94      13.0  1125.0\n",
              "93      12.0   770.0\n",
              "92      11.0   750.0\n",
              "91       7.0  2013.0\n",
              "90       8.0   510.0\n",
              "89       7.0   500.0\n",
              "88       6.0  3300.0\n",
              "87       5.0   800.0\n",
              "86       4.0   170.0\n",
              "85       4.0   320.0\n",
              "84       4.0   225.0\n",
              "83       4.0   225.0\n",
              "82       4.0   150.0\n",
              "81       5.0   130.0\n",
              "80       5.0    69.0"
            ],
            "text/html": [
              "\n",
              "  <div id=\"df-8c122fc9-295e-403b-94e3-a8f377d55487\">\n",
              "    <div class=\"colab-df-container\">\n",
              "      <div>\n",
              "<style scoped>\n",
              "    .dataframe tbody tr th:only-of-type {\n",
              "        vertical-align: middle;\n",
              "    }\n",
              "\n",
              "    .dataframe tbody tr th {\n",
              "        vertical-align: top;\n",
              "    }\n",
              "\n",
              "    .dataframe thead th {\n",
              "        text-align: right;\n",
              "    }\n",
              "</style>\n",
              "<table border=\"1\" class=\"dataframe\">\n",
              "  <thead>\n",
              "    <tr style=\"text-align: right;\">\n",
              "      <th></th>\n",
              "      <th>amin</th>\n",
              "      <th>amax</th>\n",
              "    </tr>\n",
              "    <tr>\n",
              "      <th>points</th>\n",
              "      <th></th>\n",
              "      <th></th>\n",
              "    </tr>\n",
              "  </thead>\n",
              "  <tbody>\n",
              "    <tr>\n",
              "      <th>100</th>\n",
              "      <td>80.0</td>\n",
              "      <td>1500.0</td>\n",
              "    </tr>\n",
              "    <tr>\n",
              "      <th>99</th>\n",
              "      <td>44.0</td>\n",
              "      <td>850.0</td>\n",
              "    </tr>\n",
              "    <tr>\n",
              "      <th>98</th>\n",
              "      <td>50.0</td>\n",
              "      <td>1900.0</td>\n",
              "    </tr>\n",
              "    <tr>\n",
              "      <th>97</th>\n",
              "      <td>35.0</td>\n",
              "      <td>2000.0</td>\n",
              "    </tr>\n",
              "    <tr>\n",
              "      <th>96</th>\n",
              "      <td>20.0</td>\n",
              "      <td>2500.0</td>\n",
              "    </tr>\n",
              "    <tr>\n",
              "      <th>95</th>\n",
              "      <td>20.0</td>\n",
              "      <td>973.0</td>\n",
              "    </tr>\n",
              "    <tr>\n",
              "      <th>94</th>\n",
              "      <td>13.0</td>\n",
              "      <td>1125.0</td>\n",
              "    </tr>\n",
              "    <tr>\n",
              "      <th>93</th>\n",
              "      <td>12.0</td>\n",
              "      <td>770.0</td>\n",
              "    </tr>\n",
              "    <tr>\n",
              "      <th>92</th>\n",
              "      <td>11.0</td>\n",
              "      <td>750.0</td>\n",
              "    </tr>\n",
              "    <tr>\n",
              "      <th>91</th>\n",
              "      <td>7.0</td>\n",
              "      <td>2013.0</td>\n",
              "    </tr>\n",
              "    <tr>\n",
              "      <th>90</th>\n",
              "      <td>8.0</td>\n",
              "      <td>510.0</td>\n",
              "    </tr>\n",
              "    <tr>\n",
              "      <th>89</th>\n",
              "      <td>7.0</td>\n",
              "      <td>500.0</td>\n",
              "    </tr>\n",
              "    <tr>\n",
              "      <th>88</th>\n",
              "      <td>6.0</td>\n",
              "      <td>3300.0</td>\n",
              "    </tr>\n",
              "    <tr>\n",
              "      <th>87</th>\n",
              "      <td>5.0</td>\n",
              "      <td>800.0</td>\n",
              "    </tr>\n",
              "    <tr>\n",
              "      <th>86</th>\n",
              "      <td>4.0</td>\n",
              "      <td>170.0</td>\n",
              "    </tr>\n",
              "    <tr>\n",
              "      <th>85</th>\n",
              "      <td>4.0</td>\n",
              "      <td>320.0</td>\n",
              "    </tr>\n",
              "    <tr>\n",
              "      <th>84</th>\n",
              "      <td>4.0</td>\n",
              "      <td>225.0</td>\n",
              "    </tr>\n",
              "    <tr>\n",
              "      <th>83</th>\n",
              "      <td>4.0</td>\n",
              "      <td>225.0</td>\n",
              "    </tr>\n",
              "    <tr>\n",
              "      <th>82</th>\n",
              "      <td>4.0</td>\n",
              "      <td>150.0</td>\n",
              "    </tr>\n",
              "    <tr>\n",
              "      <th>81</th>\n",
              "      <td>5.0</td>\n",
              "      <td>130.0</td>\n",
              "    </tr>\n",
              "    <tr>\n",
              "      <th>80</th>\n",
              "      <td>5.0</td>\n",
              "      <td>69.0</td>\n",
              "    </tr>\n",
              "  </tbody>\n",
              "</table>\n",
              "</div>\n",
              "      <button class=\"colab-df-convert\" onclick=\"convertToInteractive('df-8c122fc9-295e-403b-94e3-a8f377d55487')\"\n",
              "              title=\"Convert this dataframe to an interactive table.\"\n",
              "              style=\"display:none;\">\n",
              "        \n",
              "  <svg xmlns=\"http://www.w3.org/2000/svg\" height=\"24px\"viewBox=\"0 0 24 24\"\n",
              "       width=\"24px\">\n",
              "    <path d=\"M0 0h24v24H0V0z\" fill=\"none\"/>\n",
              "    <path d=\"M18.56 5.44l.94 2.06.94-2.06 2.06-.94-2.06-.94-.94-2.06-.94 2.06-2.06.94zm-11 1L8.5 8.5l.94-2.06 2.06-.94-2.06-.94L8.5 2.5l-.94 2.06-2.06.94zm10 10l.94 2.06.94-2.06 2.06-.94-2.06-.94-.94-2.06-.94 2.06-2.06.94z\"/><path d=\"M17.41 7.96l-1.37-1.37c-.4-.4-.92-.59-1.43-.59-.52 0-1.04.2-1.43.59L10.3 9.45l-7.72 7.72c-.78.78-.78 2.05 0 2.83L4 21.41c.39.39.9.59 1.41.59.51 0 1.02-.2 1.41-.59l7.78-7.78 2.81-2.81c.8-.78.8-2.07 0-2.86zM5.41 20L4 18.59l7.72-7.72 1.47 1.35L5.41 20z\"/>\n",
              "  </svg>\n",
              "      </button>\n",
              "      \n",
              "  <style>\n",
              "    .colab-df-container {\n",
              "      display:flex;\n",
              "      flex-wrap:wrap;\n",
              "      gap: 12px;\n",
              "    }\n",
              "\n",
              "    .colab-df-convert {\n",
              "      background-color: #E8F0FE;\n",
              "      border: none;\n",
              "      border-radius: 50%;\n",
              "      cursor: pointer;\n",
              "      display: none;\n",
              "      fill: #1967D2;\n",
              "      height: 32px;\n",
              "      padding: 0 0 0 0;\n",
              "      width: 32px;\n",
              "    }\n",
              "\n",
              "    .colab-df-convert:hover {\n",
              "      background-color: #E2EBFA;\n",
              "      box-shadow: 0px 1px 2px rgba(60, 64, 67, 0.3), 0px 1px 3px 1px rgba(60, 64, 67, 0.15);\n",
              "      fill: #174EA6;\n",
              "    }\n",
              "\n",
              "    [theme=dark] .colab-df-convert {\n",
              "      background-color: #3B4455;\n",
              "      fill: #D2E3FC;\n",
              "    }\n",
              "\n",
              "    [theme=dark] .colab-df-convert:hover {\n",
              "      background-color: #434B5C;\n",
              "      box-shadow: 0px 1px 3px 1px rgba(0, 0, 0, 0.15);\n",
              "      filter: drop-shadow(0px 1px 2px rgba(0, 0, 0, 0.3));\n",
              "      fill: #FFFFFF;\n",
              "    }\n",
              "  </style>\n",
              "\n",
              "      <script>\n",
              "        const buttonEl =\n",
              "          document.querySelector('#df-8c122fc9-295e-403b-94e3-a8f377d55487 button.colab-df-convert');\n",
              "        buttonEl.style.display =\n",
              "          google.colab.kernel.accessAllowed ? 'block' : 'none';\n",
              "\n",
              "        async function convertToInteractive(key) {\n",
              "          const element = document.querySelector('#df-8c122fc9-295e-403b-94e3-a8f377d55487');\n",
              "          const dataTable =\n",
              "            await google.colab.kernel.invokeFunction('convertToInteractive',\n",
              "                                                     [key], {});\n",
              "          if (!dataTable) return;\n",
              "\n",
              "          const docLinkHtml = 'Like what you see? Visit the ' +\n",
              "            '<a target=\"_blank\" href=https://colab.research.google.com/notebooks/data_table.ipynb>data table notebook</a>'\n",
              "            + ' to learn more about interactive tables.';\n",
              "          element.innerHTML = '';\n",
              "          dataTable['output_type'] = 'display_data';\n",
              "          await google.colab.output.renderOutput(dataTable, element);\n",
              "          const docLink = document.createElement('div');\n",
              "          docLink.innerHTML = docLinkHtml;\n",
              "          element.appendChild(docLink);\n",
              "        }\n",
              "      </script>\n",
              "    </div>\n",
              "  </div>\n",
              "  "
            ]
          },
          "metadata": {},
          "execution_count": 131
        }
      ]
    },
    {
      "cell_type": "markdown",
      "source": [
        "# 뭔가가 이상하니까 강사님 코렙 보고 틀린점 확인하기\n",
        "-->> 고침!"
      ],
      "metadata": {
        "id": "D2p28f3lk0CU"
      }
    }
  ],
  "metadata": {
    "kernelspec": {
      "display_name": "Python 3",
      "language": "python",
      "name": "python3"
    },
    "language_info": {
      "codemirror_mode": {
        "name": "ipython",
        "version": 3
      },
      "file_extension": ".py",
      "mimetype": "text/x-python",
      "name": "python",
      "nbconvert_exporter": "python",
      "pygments_lexer": "ipython3",
      "version": "3.7.4"
    },
    "colab": {
      "provenance": []
    }
  },
  "nbformat": 4,
  "nbformat_minor": 0
}
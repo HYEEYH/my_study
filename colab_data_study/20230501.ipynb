{
  "nbformat": 4,
  "nbformat_minor": 0,
  "metadata": {
    "colab": {
      "provenance": [],
      "authorship_tag": "ABX9TyO89tnKRypQkVjb8tBCGOUP",
      "include_colab_link": true
    },
    "kernelspec": {
      "name": "python3",
      "display_name": "Python 3"
    },
    "language_info": {
      "name": "python"
    }
  },
  "cells": [
    {
      "cell_type": "markdown",
      "metadata": {
        "id": "view-in-github",
        "colab_type": "text"
      },
      "source": [
        "<a href=\"https://colab.research.google.com/github/HYEEYH/my_study/blob/main/20230501.ipynb\" target=\"_parent\"><img src=\"https://colab.research.google.com/assets/colab-badge.svg\" alt=\"Open In Colab\"/></a>"
      ]
    },
    {
      "cell_type": "markdown",
      "source": [
        "연습1) 얕은복사 깊은복사 연습"
      ],
      "metadata": {
        "id": "L6he8vktUIzf"
      }
    },
    {
      "cell_type": "code",
      "execution_count": null,
      "metadata": {
        "colab": {
          "base_uri": "https://localhost:8080/"
        },
        "id": "XjJavFlaRGL4",
        "outputId": "ee7500c3-ed29-4bd2-a64f-a498bc6992dc"
      },
      "outputs": [
        {
          "output_type": "stream",
          "name": "stdout",
          "text": [
            "140709455937216 140709106867264\n"
          ]
        }
      ],
      "source": [
        "a = [5,4,3,2,1,]\n",
        "b = a[:]\n",
        "print(id(a),id(b))"
      ]
    },
    {
      "cell_type": "code",
      "source": [
        "b"
      ],
      "metadata": {
        "colab": {
          "base_uri": "https://localhost:8080/"
        },
        "id": "Cd5oDOAUTn1P",
        "outputId": "4f09ef09-083b-4f12-d614-05d0bf21a8c9"
      },
      "execution_count": null,
      "outputs": [
        {
          "output_type": "execute_result",
          "data": {
            "text/plain": [
              "[5, 4, 3, 2, 1]"
            ]
          },
          "metadata": {},
          "execution_count": 2
        }
      ]
    },
    {
      "cell_type": "code",
      "source": [
        "a.sort()\n",
        "print(a)"
      ],
      "metadata": {
        "colab": {
          "base_uri": "https://localhost:8080/"
        },
        "id": "XlwspchmUlnO",
        "outputId": "254e96f7-59f0-45ff-d2c5-9f10e015d556"
      },
      "execution_count": null,
      "outputs": [
        {
          "output_type": "stream",
          "name": "stdout",
          "text": [
            "[1, 2, 3, 4, 5]\n"
          ]
        }
      ]
    },
    {
      "cell_type": "code",
      "source": [
        "print(b)"
      ],
      "metadata": {
        "colab": {
          "base_uri": "https://localhost:8080/"
        },
        "id": "HwmL5MI2Uv4m",
        "outputId": "f2ea3b83-6bae-41fa-ea8b-6d98f05c8957"
      },
      "execution_count": null,
      "outputs": [
        {
          "output_type": "stream",
          "name": "stdout",
          "text": [
            "[5, 4, 3, 2, 1]\n"
          ]
        }
      ]
    },
    {
      "cell_type": "markdown",
      "source": [
        "# 참고\n",
        "1. 튜플 만들떄 a = (3, )\n",
        "처럼 빈 공간을 만드는 것을 가변공간이라고 해서 혹시 몰라 공간 남겨두는것.\n",
        "\n",
        "\n",
        "2. set연산자 주의사항\n",
        "- 3 and 4 : 4 가 나옴(둘 중 큰 수 나옴)\n",
        "3(=0011) and 4(=0100): 논리연산자가 아님. -> 비트연산자 이기 때문에\n",
        "- or 도 마찬가지(둘 중 작은 수 나옴\n"
      ],
      "metadata": {
        "id": "1S6H-_MJYHGu"
      }
    },
    {
      "cell_type": "code",
      "source": [
        "a = 10\n",
        "b = 10\n",
        "a==b"
      ],
      "metadata": {
        "colab": {
          "base_uri": "https://localhost:8080/"
        },
        "id": "eSL8PsG5apk6",
        "outputId": "8c6da93c-f8b0-4af6-a9ed-876c72f732eb"
      },
      "execution_count": null,
      "outputs": [
        {
          "output_type": "execute_result",
          "data": {
            "text/plain": [
              "True"
            ]
          },
          "metadata": {},
          "execution_count": 7
        }
      ]
    },
    {
      "cell_type": "code",
      "source": [
        "a = 300\n",
        "b = 300\n",
        "a == b"
      ],
      "metadata": {
        "colab": {
          "base_uri": "https://localhost:8080/"
        },
        "id": "9DVzuwyCa7pA",
        "outputId": "df8f55d0-ceee-4801-acd2-1fd34f492fda"
      },
      "execution_count": null,
      "outputs": [
        {
          "output_type": "execute_result",
          "data": {
            "text/plain": [
              "True"
            ]
          },
          "metadata": {},
          "execution_count": 8
        }
      ]
    },
    {
      "cell_type": "code",
      "source": [
        "5 and 7\n"
      ],
      "metadata": {
        "colab": {
          "base_uri": "https://localhost:8080/"
        },
        "id": "4GfaJis8cOgy",
        "outputId": "035d51a5-24ee-407b-88f9-c2b327792b7e"
      },
      "execution_count": null,
      "outputs": [
        {
          "output_type": "execute_result",
          "data": {
            "text/plain": [
              "7"
            ]
          },
          "metadata": {},
          "execution_count": 10
        }
      ]
    },
    {
      "cell_type": "code",
      "source": [
        "7 or 12"
      ],
      "metadata": {
        "colab": {
          "base_uri": "https://localhost:8080/"
        },
        "id": "wCcX19DZcZ7A",
        "outputId": "69ca20e7-96ab-460d-b0eb-091c8a25b000"
      },
      "execution_count": null,
      "outputs": [
        {
          "output_type": "execute_result",
          "data": {
            "text/plain": [
              "7"
            ]
          },
          "metadata": {},
          "execution_count": 11
        }
      ]
    },
    {
      "cell_type": "markdown",
      "source": [
        "문1) b로 a를 나눈 나머지가 3 초과면 실패, 3이면 무승부, 3 미만이면 성공이 출력되도록 만들어보기"
      ],
      "metadata": {
        "id": "WSD5QWtchj67"
      }
    },
    {
      "cell_type": "code",
      "source": [
        "from binascii import b2a_base64\n",
        "a = 34\n",
        "b = 4\n",
        "r = a%b\n",
        "\n",
        "if r >3:\n",
        "  print(\"실패\")\n",
        "elif r == 3:\n",
        "  print(\"무승부\")\n",
        "else:\n",
        "  print(\"성공\")"
      ],
      "metadata": {
        "id": "m2qBScqEe4Ps"
      },
      "execution_count": null,
      "outputs": []
    },
    {
      "cell_type": "markdown",
      "source": [
        "문2) 태어난 연도를 계산하여 학교 종류를 맞추는 프로그램\n",
        "당신이 태어난 연도를 입력하세요\n",
        "2000\n",
        "학생이 아닙니다\n",
        "- 나이는 현재년도- 태어난년도+1\n",
        "- 26세이하 20세이상이면 대학생\n",
        "- 20세미만 17세 이상이면 고등학생\n",
        "- 17세 미만 14세 이상이면 중학생\n",
        "- 14세 미만 8세 이상이면 초등학생\n",
        "- 그 외의 경우 학생이 아닙니다 출력"
      ],
      "metadata": {
        "id": "pbSqO7w4fe8a"
      }
    },
    {
      "cell_type": "code",
      "source": [
        "bir = int(input(\"태어난 연도를 입력해주세요: \"))\n",
        "age = 2023 - bir + 1\n",
        "message = \"\"\n",
        "\n",
        "if 20 <= age <= 26:\n",
        "  message = \"대학생\"\n",
        "elif 17<= age <20 :\n",
        "  message = \"고등학생\"\n",
        "elif 14<= age <17:\n",
        "  message = \"중학생\"\n",
        "elif 8 <= age < 14:\n",
        "  message = \"초등학생\"\n",
        "else:\n",
        "  print(\"학생이 아닙니다\")\n",
        "print(message)"
      ],
      "metadata": {
        "colab": {
          "base_uri": "https://localhost:8080/"
        },
        "id": "lNy9FYAtfddT",
        "outputId": "f955d97d-b19c-4d20-a4e6-62ab6da6c959"
      },
      "execution_count": null,
      "outputs": [
        {
          "output_type": "stream",
          "name": "stdout",
          "text": [
            "태어난 연도를 입력해주세요: 2000\n",
            "대학생\n"
          ]
        }
      ]
    },
    {
      "cell_type": "markdown",
      "source": [
        "문3) 양의 정수 하나를 입력받아 이 정수가 2의배수인지 3의배수인지 알아보기"
      ],
      "metadata": {
        "id": "1c2L0_a5hW_L"
      }
    },
    {
      "cell_type": "code",
      "source": [
        "num = int(input(\"숫자를 입력하세요: \"))\n",
        "\n",
        "if num %2 == 0:\n",
        "  if num %3 == 0:\n",
        "    print(\"2와 3으로 나누어집니다\")\n",
        "  else:\n",
        "    print(\"2로 나누어집니다\")\n",
        "elif num %3 == 0:\n",
        "  print(\"3으로 나누어집니다\")\n",
        "else:\n",
        "  print(\"어느것으로도 나누어지지 않습니다.\")"
      ],
      "metadata": {
        "colab": {
          "base_uri": "https://localhost:8080/"
        },
        "id": "HaXWEnWKhVcR",
        "outputId": "e9b47ee2-6616-4f12-fe77-8a9fe2ee6e78"
      },
      "execution_count": null,
      "outputs": [
        {
          "output_type": "stream",
          "name": "stdout",
          "text": [
            "숫자를 입력하세요: 27\n",
            "3으로 나누어집니다\n"
          ]
        }
      ]
    },
    {
      "cell_type": "markdown",
      "source": [
        "문4) 5부터 0까지 카운트다운 해보기(for문)"
      ],
      "metadata": {
        "id": "5by8fMUw30dz"
      }
    },
    {
      "cell_type": "code",
      "source": [
        "\n",
        "for count in range(5, -1, -1):\n",
        "  print(count)"
      ],
      "metadata": {
        "id": "DKUAwgWy30RL"
      },
      "execution_count": null,
      "outputs": []
    },
    {
      "cell_type": "markdown",
      "source": [
        "문5) 1부터 10까지 합을 구하시고 (range함수 이용)"
      ],
      "metadata": {
        "id": "Uyje5RY86amS"
      }
    },
    {
      "cell_type": "code",
      "source": [
        "sum = 0\n",
        "for i in range(1,11):\n",
        "    sum = sum+1\n",
        "print(sum)"
      ],
      "metadata": {
        "id": "wCMMxl_k6gd6"
      },
      "execution_count": null,
      "outputs": []
    },
    {
      "cell_type": "markdown",
      "source": [
        "문6) 별 찍기 연습\n",
        "- 1 계단형\n",
        "- 2-1 삼각형 - 왼쪽 아래가 직각인\n",
        "- 2-2 삼각형 - 오른쪽 아래가 직각인\n",
        "- 3-1 역삼각형 - 왼쪽 위가 직각인\n",
        "- 3-2 역삼각형 - 오른쪽 위가 직각인\n",
        "- 4 피라미드"
      ],
      "metadata": {
        "id": "8K2S4SP07UI8"
      }
    },
    {
      "cell_type": "code",
      "source": [
        "# print(\"1. 계단형\")\n",
        "# n = int(input(\"숫자를 입력하세요:\"))\n",
        "\n",
        "# for i in range(n):\n",
        "#   for j in range(n):\n",
        "#     print(\"*\", )"
      ],
      "metadata": {
        "id": "nNCAPeBW7vPD"
      },
      "execution_count": null,
      "outputs": []
    },
    {
      "cell_type": "code",
      "source": [
        "print(\"1. 계단형- 해설\")\n",
        "\n",
        "n = int(input(\"숫자입력:\"))\n",
        "\n",
        "for i in range(n):\n",
        "  print(\"\"*i, end = \"\")   # end 역할 : sep와 비슷한 기능(구분자 사용)\n",
        "  print(\"*\"*n)\n"
      ],
      "metadata": {
        "id": "X8bow_ksAf88"
      },
      "execution_count": null,
      "outputs": []
    },
    {
      "cell_type": "code",
      "source": [
        "print(\"2-1 삼각형 - 왼 아래 직각\")\n",
        "\n",
        "n = int(input(\"숫자를 입력하세요:\"))\n",
        "\n",
        "for i in range (1, n+1):\n",
        "  print(\"*\"*i)"
      ],
      "metadata": {
        "colab": {
          "base_uri": "https://localhost:8080/"
        },
        "id": "FCf_x9pjA0le",
        "outputId": "4846b050-a0c6-4c79-893a-ed8d4707bc1a"
      },
      "execution_count": null,
      "outputs": [
        {
          "output_type": "stream",
          "name": "stdout",
          "text": [
            "2-1 삼각형 - 왼 아래 직각\n",
            "숫자를 입력하세요:4\n",
            "*\n",
            "**\n",
            "***\n",
            "****\n"
          ]
        }
      ]
    },
    {
      "cell_type": "code",
      "source": [
        "print(\"2-2 삼각형 - 왼 아래 직각\")\n",
        "\n",
        "n = int(input(\"숫자를 입력하세요:\"))\n",
        "\n",
        "for i in range (1, n+1):\n",
        "  print(\" \"*(n-i), end=\"\")\n",
        "  print(\"*\"*i)"
      ],
      "metadata": {
        "colab": {
          "base_uri": "https://localhost:8080/"
        },
        "id": "WE0Se2nDBZV2",
        "outputId": "dc5a5896-5636-4a3a-b5b8-d4872286d33a"
      },
      "execution_count": null,
      "outputs": [
        {
          "output_type": "stream",
          "name": "stdout",
          "text": [
            "2-2 삼각형 - 왼 아래 직각\n",
            "숫자를 입력하세요:4\n",
            "   *\n",
            "  **\n",
            " ***\n",
            "****\n"
          ]
        }
      ]
    },
    {
      "cell_type": "code",
      "source": [
        "print(\"3-1 역삼각형 - 왼 아래 직각\")\n",
        "\n",
        "n = int(input(\"숫자를 입력하세요:\"))\n",
        "\n",
        "for i in range(n):\n",
        "  print(\"*\"*(n-i))"
      ],
      "metadata": {
        "colab": {
          "base_uri": "https://localhost:8080/"
        },
        "id": "DxOj10RhCnDu",
        "outputId": "79f28519-fde7-4dcf-efc6-183cac20f4b6"
      },
      "execution_count": null,
      "outputs": [
        {
          "output_type": "stream",
          "name": "stdout",
          "text": [
            "3-1 역삼각형 - 왼 아래 직각\n",
            "숫자를 입력하세요:4\n",
            "****\n",
            "***\n",
            "**\n",
            "*\n"
          ]
        }
      ]
    },
    {
      "cell_type": "code",
      "source": [
        "print(\"3-2 삼각형 - 오른 아래 직각\")\n",
        "\n",
        "n = int(input(\"숫자를 입력하세요:\"))\n",
        "\n",
        "for i in range(n):\n",
        "  print(\" \"*i, end=\"\")\n",
        "  print(\"*\"*(n-i))\n",
        "\n"
      ],
      "metadata": {
        "colab": {
          "base_uri": "https://localhost:8080/"
        },
        "id": "t1k33FQwCDtl",
        "outputId": "f44d74e8-4705-4158-e09f-1b87b248a006"
      },
      "execution_count": null,
      "outputs": [
        {
          "output_type": "stream",
          "name": "stdout",
          "text": [
            "3-2 삼각형 - 오른 아래 직각\n",
            "숫자를 입력하세요:4\n",
            "****\n",
            " ***\n",
            "  **\n",
            "   *\n"
          ]
        }
      ]
    },
    {
      "cell_type": "code",
      "source": [
        "print(\"피라미드\")\n",
        "\n",
        "n = int(input(\"숫자를 입력하세요:\"))\n",
        "\n",
        "for i in range(n+1):\n",
        "  print(\" \"*(n-i), end=\"\")\n",
        "  print(\"*\"*(2*i-1))"
      ],
      "metadata": {
        "colab": {
          "base_uri": "https://localhost:8080/"
        },
        "id": "8iGAwufDC98W",
        "outputId": "fe625f26-9123-4d69-c94c-ce1962268131"
      },
      "execution_count": null,
      "outputs": [
        {
          "output_type": "stream",
          "name": "stdout",
          "text": [
            "피라미드\n",
            "숫자를 입력하세요:4\n",
            "    \n",
            "   *\n",
            "  ***\n",
            " *****\n",
            "*******\n"
          ]
        }
      ]
    },
    {
      "cell_type": "markdown",
      "source": [
        "- 문제 6) x = [3,6,9,20,-7,5]의 값의 모든 요소에 10을 곱한뒤 출력하기\n",
        "- 문제 6-1) 심화) 출력과 리스트x의 값에도 모두 10을 곱하기\n",
        "- 문제 7) y = {\"math\":70, \"science\":80, \"english\":20}의 값의 모든 요소에 10을 더한 뒤 출력하세요\n",
        "- 문제 7-1) 심화) 출력과 딕셔너리 y의 값에도 모두 10을 더해주세요\n",
        "- 문제 8) 숫자를 입력받고 입력받은 정수의 구구단을 출력하기"
      ],
      "metadata": {
        "id": "LOCmScQsF8aX"
      }
    },
    {
      "cell_type": "code",
      "source": [
        "# p.190 연습문제3\n",
        "#(1)\n",
        "# 문제6.\n",
        "x = x = [3,6,9,20,-7,5]\n",
        "for i in x:\n",
        "  print(i*10)\n"
      ],
      "metadata": {
        "colab": {
          "base_uri": "https://localhost:8080/"
        },
        "id": "pn5Ba7EWGGcf",
        "outputId": "ddaddede-3031-4946-fbeb-15a8ec07d694"
      },
      "execution_count": null,
      "outputs": [
        {
          "output_type": "stream",
          "name": "stdout",
          "text": [
            "30\n",
            "60\n",
            "90\n",
            "200\n",
            "-70\n",
            "50\n"
          ]
        }
      ]
    },
    {
      "cell_type": "code",
      "source": [
        "# (1)의 심화\n",
        "# 문제6-1\n",
        "\n",
        "for i in range(0,len(x)):\n",
        "  x[i] = x[i]*10\n",
        "print(x)"
      ],
      "metadata": {
        "colab": {
          "base_uri": "https://localhost:8080/"
        },
        "id": "xRuCXudbGxWu",
        "outputId": "1e60ac24-1a5e-49e8-8a30-edbcf614f5f2"
      },
      "execution_count": null,
      "outputs": [
        {
          "output_type": "stream",
          "name": "stdout",
          "text": [
            "[30, 60, 90, 200, -70, 50]\n"
          ]
        }
      ]
    },
    {
      "cell_type": "code",
      "source": [
        "# p.190 연습문제3\n",
        "#(2)\n",
        "# 문제7\n",
        "y = {\"math\":70, \"science\":80, \"english\":20}\n",
        "\n",
        "for key in y:\n",
        "  val = y[key]\n",
        "  y[key] = y[key]+10\n",
        "  print(\"%s : %d\" %(key,val+10))"
      ],
      "metadata": {
        "colab": {
          "base_uri": "https://localhost:8080/"
        },
        "id": "LLojgjjoHFOG",
        "outputId": "6380ac25-7715-4aee-db63-8177048b418d"
      },
      "execution_count": null,
      "outputs": [
        {
          "output_type": "stream",
          "name": "stdout",
          "text": [
            "math : 80\n",
            "science : 90\n",
            "english : 30\n"
          ]
        }
      ]
    },
    {
      "cell_type": "markdown",
      "source": [
        "p. 191)  연습문제 4\n",
        "1~100 임의의 숫자를 맞추기"
      ],
      "metadata": {
        "id": "sWrKSI6IM90y"
      }
    },
    {
      "cell_type": "code",
      "source": [
        "import random\n",
        "\n",
        "true_value = random.randint(1,100)\n",
        "input_value = 99999  #(임의의 값 할당)\n",
        "\n",
        "n = int(input(\"숫자를 맞춰보세요(1~100):\"))\n",
        "\n",
        "while true_value != input_value:\n",
        "    input_value = int(input())\n",
        "    if input_value > true_value: # 사용자의 입력값이 true_value보다 클때\n",
        "        print(\"숫자가 큽니다\")\n",
        "    else:\n",
        "        print(\"숫자가 작습니다\") # 사용자의 입력값이 true_value보다 작을떄\n",
        "print(f\"정답입니다. 입력한 숫자는 {true_value}입니다\")"
      ],
      "metadata": {
        "colab": {
          "base_uri": "https://localhost:8080/"
        },
        "id": "HthXLiavNqBh",
        "outputId": "14aa4429-2ac1-4a1f-eaed-9e31abfcf81c"
      },
      "execution_count": null,
      "outputs": [
        {
          "output_type": "stream",
          "name": "stdout",
          "text": [
            "숫자를 맞춰보세요(1~100):50\n",
            "50\n",
            "숫자가 큽니다\n",
            "40\n",
            "숫자가 큽니다\n",
            "70\n",
            "숫자가 큽니다\n",
            "20\n",
            "숫자가 큽니다\n",
            "10\n",
            "숫자가 작습니다\n",
            "정답입니다. 입력한 숫자는 10입니다\n"
          ]
        }
      ]
    },
    {
      "cell_type": "markdown",
      "source": [
        "p. 192) word = [\"school\", \"game\", \"piano\", \"science\", \"hotel\", \"mountain\"] 중 글자수가 6글자 이상인 문자를 모아 새로운 리스트를 생성하기"
      ],
      "metadata": {
        "id": "WOCHWIzDPwja"
      }
    },
    {
      "cell_type": "code",
      "source": [
        "# for를 써서 글자수 6개 이상인걸 걸러내기\n",
        "\n",
        "word = [\"school\", \"game\", \"piano\", \"science\", \"hotel\", \"mountain\"] \n",
        "a = list()\n",
        "\n",
        "for i in range(len(word)):\n",
        "  if len(word[i]) >= 6:\n",
        "    a.append(word[i])\n",
        "print(a)"
      ],
      "metadata": {
        "id": "iJR4aJ46P2RK"
      },
      "execution_count": null,
      "outputs": []
    },
    {
      "cell_type": "markdown",
      "source": [
        "- 문제 11) 1 - 100 까지의 숫자 중\n",
        "- 3과 5의 공배수일경우 \"3과 5의 공배수\"\n",
        "-  나머지 숫자 중 3의배수일 경우 \"3의 배수\"\n",
        "-  나머지 숫자 중 5의 배수일 경우\" 5의배수\"\n",
        "- 모두 해당되지 않을 경우 그냥 숫자를 출력하기."
      ],
      "metadata": {
        "id": "rQPg-zdKRmTj"
      }
    },
    {
      "cell_type": "code",
      "source": [
        "b = int(input(\"정수를 입력하세요\"))\n",
        "if b<=0:\n",
        "  print(\"음수는 정의하지 않음\")\n",
        "else:\n",
        "  for a in range(1, b+1):\n",
        "    if a % 3 == 0 and a % 5 == 0:\n",
        "      print(\"3과 5의 공배수\")\n",
        "    elif a%3 ==0:\n",
        "      print(\"3의 배수\")\n",
        "    elif a%5 == 0:\n",
        "      print(\"5의 배수\")\n",
        "    elif 1 <= a <= 100:\n",
        "      print(a)\n",
        "    else:\n",
        "      print(\"1과 100 사이의 숫자가 아닙니다\")\n"
      ],
      "metadata": {
        "colab": {
          "base_uri": "https://localhost:8080/"
        },
        "id": "5wD_GCWCTUrN",
        "outputId": "84fc223a-10c7-41ed-c308-e738244a55df"
      },
      "execution_count": null,
      "outputs": [
        {
          "output_type": "stream",
          "name": "stdout",
          "text": [
            "정수를 입력하세요15\n",
            "1\n",
            "2\n",
            "3의 배수\n",
            "4\n",
            "5의 배수\n",
            "3의 배수\n",
            "7\n",
            "8\n",
            "3의 배수\n",
            "5의 배수\n",
            "11\n",
            "3의 배수\n",
            "13\n",
            "14\n",
            "3과 5의 공배수\n"
          ]
        }
      ]
    },
    {
      "cell_type": "markdown",
      "source": [
        "p.194\n",
        "- 문제 12) 사용자로부터 숫자를 계속 입력받다가 s or S를 입력하면 합계출력"
      ],
      "metadata": {
        "id": "YLhrx0jOV_zl"
      }
    },
    {
      "cell_type": "code",
      "source": [
        "c = 0\n",
        "d = 1\n",
        "\n",
        "while (d==1):\n",
        "    a = input()\n",
        "    if (a==\"s\" or a == \"S\"):\n",
        "        d=0\n",
        "    else:\n",
        "        a = int(a)\n",
        "        c +=a\n",
        "print(c)"
      ],
      "metadata": {
        "colab": {
          "base_uri": "https://localhost:8080/"
        },
        "id": "3Th4QuoWWEyE",
        "outputId": "8f78cbd8-bd58-4adc-b4c2-b7cedb9c6803"
      },
      "execution_count": null,
      "outputs": [
        {
          "output_type": "stream",
          "name": "stdout",
          "text": [
            "11\n",
            "35\n",
            "67\n",
            "34\n",
            "s\n",
            "147\n"
          ]
        }
      ]
    },
    {
      "cell_type": "markdown",
      "source": [
        "p.\n",
        "- 문제 13) 사람 별 평균을 구하기\n",
        "- kor_score = [39,69,20,100,80]\n",
        "- math_score = [32,59,85,30,90]\n",
        "- eng_score = [49,70,48,60,100]\n",
        "- midterm_score = [kor_score, math_score, eng_score]"
      ],
      "metadata": {
        "id": "hHtXeVtEcmFG"
      }
    },
    {
      "cell_type": "code",
      "source": [
        "kor_score = [39,69,20,100,80]\n",
        "math_score = [32,59,85,30,90]\n",
        "eng_score = [49,70,48,60,100]\n",
        "midterm_score = [kor_score, math_score, eng_score]\n",
        "\n",
        "\n",
        "student_score = [0,0,0,0,0]\n",
        "i = 0\n",
        "for subject in midterm_score:  # 과목 선택\n",
        "    for score in subject:    # 과목선택 후\n",
        "        student_score[i] += score  # 각 학생마다 개별로 교과 점수를 저장\n",
        "        # print(subject,score,'i:,i,student_score)   # kor->math->eng \n",
        "        i+=1   # 학생 index구분\n",
        "    i=0\n",
        "else:\n",
        "    a,b,c,d,e = student_score  #학생별 점수를 unpacking\n",
        "    student_average = [a/3, b/3, c/3, d/3, e/3]\n",
        "    print(student_average)\n"
      ],
      "metadata": {
        "id": "1UgEkuszcsHM"
      },
      "execution_count": null,
      "outputs": []
    },
    {
      "cell_type": "markdown",
      "source": [
        "##### 포멧팅\n",
        "\n"
      ],
      "metadata": {
        "id": "ted6z6MSeosi"
      }
    },
    {
      "cell_type": "code",
      "source": [
        "# print({:.20f},format(1/3)) --> 20번째자리까지 계산하라는 의미.\n",
        "# 보통 컴퓨터는 16번째 자리까지 계산하기때문에 16자리 이후로는 오류가 남."
      ],
      "metadata": {
        "id": "ObNAqlh7ezgA"
      },
      "execution_count": null,
      "outputs": []
    }
  ]
}
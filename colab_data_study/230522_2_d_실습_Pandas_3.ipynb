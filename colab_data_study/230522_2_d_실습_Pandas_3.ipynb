{
  "cells": [
    {
      "cell_type": "markdown",
      "metadata": {
        "id": "pOIPDXpgSJei"
      },
      "source": [
        "winemag-data.csv 파일을 reviews 로 읽는다."
      ]
    },
    {
      "cell_type": "code",
      "execution_count": 2,
      "metadata": {
        "id": "CKs-WV_cSJen"
      },
      "outputs": [],
      "source": [
        "import pandas as pd"
      ]
    },
    {
      "cell_type": "code",
      "source": [
        "from google.colab import drive\n",
        "drive.mount('/content/drive')"
      ],
      "metadata": {
        "colab": {
          "base_uri": "https://localhost:8080/"
        },
        "id": "5-HYCm0fSNxu",
        "outputId": "44679422-0807-4c0b-a626-419e469cbd88"
      },
      "execution_count": 1,
      "outputs": [
        {
          "output_type": "stream",
          "name": "stdout",
          "text": [
            "Mounted at /content/drive\n"
          ]
        }
      ]
    },
    {
      "cell_type": "code",
      "execution_count": null,
      "metadata": {
        "id": "LVAOePHFSJeo"
      },
      "outputs": [],
      "source": [
        "reviews = pd.read_csv('/content/drive/MyDrive/Colab Notebooks/yh-k4-main-수정용/data/winemag-data.csv', index_col = 0 )\n",
        "\n",
        "reviews\n",
        "\n",
        "reviews.head(3)"
      ]
    },
    {
      "cell_type": "code",
      "execution_count": null,
      "metadata": {
        "id": "yZda9yrSSJep"
      },
      "outputs": [],
      "source": []
    },
    {
      "cell_type": "markdown",
      "metadata": {
        "id": "eHUDmnxxSJep"
      },
      "source": [
        "리뷰 데이터프레임에서 points 컬럼의  median 값은?"
      ]
    },
    {
      "cell_type": "code",
      "execution_count": null,
      "metadata": {
        "id": "mWs2UeSpSJeq"
      },
      "outputs": [],
      "source": [
        "#### 나의 풀이\n",
        "\n",
        "\n"
      ]
    },
    {
      "cell_type": "code",
      "execution_count": 7,
      "metadata": {
        "colab": {
          "base_uri": "https://localhost:8080/"
        },
        "id": "lcBxP-mOSJeq",
        "outputId": "bc529e3a-2028-4d23-a192-2b31aa453e6b"
      },
      "outputs": [
        {
          "output_type": "execute_result",
          "data": {
            "text/plain": [
              "88.0"
            ]
          },
          "metadata": {},
          "execution_count": 7
        }
      ],
      "source": [
        "#### 해설\n",
        "\n",
        "# \n",
        "reviews['points'].median()\n"
      ]
    },
    {
      "cell_type": "code",
      "execution_count": null,
      "metadata": {
        "id": "LPtzJekJSJer"
      },
      "outputs": [],
      "source": []
    },
    {
      "cell_type": "markdown",
      "metadata": {
        "id": "ipe0ByU-SJer"
      },
      "source": [
        "나라를 중복되지 않도록 가져와서 countries 변수에 저장하고, 화면에 출력하시오."
      ]
    },
    {
      "cell_type": "code",
      "execution_count": null,
      "metadata": {
        "id": "GA8alATnSJes"
      },
      "outputs": [],
      "source": [
        "#### 나의 풀이"
      ]
    },
    {
      "cell_type": "code",
      "execution_count": 11,
      "metadata": {
        "colab": {
          "base_uri": "https://localhost:8080/"
        },
        "id": "4Ymu8rruSJes",
        "outputId": "22c12a6e-27cf-4cb6-f2f2-3a324ee872f3"
      },
      "outputs": [
        {
          "output_type": "execute_result",
          "data": {
            "text/plain": [
              "array(['Italy', 'Portugal', 'US', 'Spain', 'France', 'Germany',\n",
              "       'Argentina', 'Chile', 'Australia', 'Austria', 'South Africa',\n",
              "       'New Zealand', 'Israel', 'Hungary', 'Greece', 'Romania', 'Mexico',\n",
              "       'Canada', nan, 'Turkey', 'Czech Republic', 'Slovenia',\n",
              "       'Luxembourg', 'Croatia', 'Georgia', 'Uruguay', 'England',\n",
              "       'Lebanon', 'Serbia', 'Brazil', 'Moldova', 'Morocco', 'Peru',\n",
              "       'India', 'Bulgaria', 'Cyprus', 'Armenia', 'Switzerland',\n",
              "       'Bosnia and Herzegovina', 'Ukraine', 'Slovakia', 'Macedonia',\n",
              "       'China', 'Egypt'], dtype=object)"
            ]
          },
          "metadata": {},
          "execution_count": 11
        }
      ],
      "source": [
        "#### 해설\n",
        "\n",
        "# 1. 필요한 데이터에 접근\n",
        "reviews['country']\n",
        "\n",
        "# 2. 중복제거\n",
        "reviews['country'].unique()\n",
        "\n",
        "# 3. 변수에 저장 및 출력\n",
        "countries =  reviews['country'].unique()\n",
        "countries\n",
        "\n"
      ]
    },
    {
      "cell_type": "code",
      "execution_count": null,
      "metadata": {
        "id": "lT_2x_WRSJet"
      },
      "outputs": [],
      "source": []
    },
    {
      "cell_type": "markdown",
      "metadata": {
        "id": "JRWE_XXuSJet"
      },
      "source": [
        "각 국가별로는 몇개의 리뷰가 있는지, 각국가별 리뷰수를 구하시오."
      ]
    },
    {
      "cell_type": "code",
      "execution_count": null,
      "metadata": {
        "id": "9vqvCsADSJeu"
      },
      "outputs": [],
      "source": [
        "#### 나의 풀이"
      ]
    },
    {
      "cell_type": "code",
      "execution_count": 12,
      "metadata": {
        "colab": {
          "base_uri": "https://localhost:8080/"
        },
        "id": "VcOop_eDSJeu",
        "outputId": "73ac3163-4302-4af2-a52a-a2628d17811e"
      },
      "outputs": [
        {
          "output_type": "execute_result",
          "data": {
            "text/plain": [
              "country\n",
              "Argentina                  3800\n",
              "Armenia                       2\n",
              "Australia                  2329\n",
              "Austria                    3345\n",
              "Bosnia and Herzegovina        2\n",
              "Brazil                       52\n",
              "Bulgaria                    141\n",
              "Canada                      257\n",
              "Chile                      4472\n",
              "China                         1\n",
              "Croatia                      73\n",
              "Cyprus                       11\n",
              "Czech Republic               12\n",
              "Egypt                         1\n",
              "England                      74\n",
              "France                    22093\n",
              "Georgia                      86\n",
              "Germany                    2165\n",
              "Greece                      466\n",
              "Hungary                     146\n",
              "India                         9\n",
              "Israel                      505\n",
              "Italy                     19540\n",
              "Lebanon                      35\n",
              "Luxembourg                    6\n",
              "Macedonia                    12\n",
              "Mexico                       70\n",
              "Moldova                      59\n",
              "Morocco                      28\n",
              "New Zealand                1419\n",
              "Peru                         16\n",
              "Portugal                   5691\n",
              "Romania                     120\n",
              "Serbia                       12\n",
              "Slovakia                      1\n",
              "Slovenia                     87\n",
              "South Africa               1401\n",
              "Spain                      6645\n",
              "Switzerland                   7\n",
              "Turkey                       90\n",
              "US                        54504\n",
              "Ukraine                      14\n",
              "Uruguay                     109\n",
              "Name: country, dtype: int64"
            ]
          },
          "metadata": {},
          "execution_count": 12
        }
      ],
      "source": [
        "#### 해설\n",
        "\n",
        "# 1. 첫번째\n",
        "# 1) 국가별로 묶어라 - groupby\n",
        "reviews.groupby('country')\n",
        "# 2) 국가별로 묶어서 컨트리만 가져와서\n",
        "reviews.groupby('country')['country']\n",
        "# 3) 갯수 세기\n",
        "reviews.groupby('country')['country'].count()\n"
      ]
    },
    {
      "cell_type": "code",
      "source": [
        "# 4) 정렬하기\n",
        "# 판다스 시리즈임\n",
        "\n",
        "reviews.groupby('country')['country'].count().sort_values()  # 오름차순\n",
        "# reviews.groupby('country')['country'].count().sort_values(ascending = False) # 내림차순 \n"
      ],
      "metadata": {
        "id": "oBdyj9C6W7q_"
      },
      "execution_count": null,
      "outputs": []
    },
    {
      "cell_type": "code",
      "source": [
        "#### 해설\n",
        "\n",
        "# 2. 두번째 \n",
        "reviews['country'].value_counts()  # .value_counts() 의 () 안에 ascending = False 넣으면 내림차순 "
      ],
      "metadata": {
        "id": "nGOF2EZQW45P"
      },
      "execution_count": null,
      "outputs": []
    },
    {
      "cell_type": "markdown",
      "metadata": {
        "id": "j6Q5MT0zSJeu"
      },
      "source": [
        "리뷰 데이터프레임의 price 컬럼 값에서, price의 평균값을 뺀 값을, centered_price 라고 저장하시오."
      ]
    },
    {
      "cell_type": "code",
      "execution_count": null,
      "metadata": {
        "id": "rLJaYR2wSJev"
      },
      "outputs": [],
      "source": [
        "#### 나의 풀이"
      ]
    },
    {
      "cell_type": "code",
      "execution_count": 17,
      "metadata": {
        "colab": {
          "base_uri": "https://localhost:8080/"
        },
        "id": "sM3fPPBDSJev",
        "outputId": "91e5e359-fe9a-45fe-f3e7-4b7b3a572fe2"
      },
      "outputs": [
        {
          "output_type": "execute_result",
          "data": {
            "text/plain": [
              "0               NaN\n",
              "1        -20.363389\n",
              "2        -21.363389\n",
              "3        -22.363389\n",
              "4         29.636611\n",
              "            ...    \n",
              "129966    -7.363389\n",
              "129967    39.636611\n",
              "129968    -5.363389\n",
              "129969    -3.363389\n",
              "129970   -14.363389\n",
              "Name: price, Length: 129971, dtype: float64"
            ]
          },
          "metadata": {},
          "execution_count": 17
        }
      ],
      "source": [
        "#### 해설\n",
        "\n",
        "# 1. 데이터 정보 확인하기\n",
        "reviews.head(3)\n",
        "\n",
        "# 2. 프라이스의 평균값 구하기 ( nan 이 있어도 평균 구해줌,)\n",
        "reviews.describe()  # 정보확인 \n",
        "\n",
        "reviews['price'].mean()\n",
        "\n",
        "# 3. 모든 행의 프라이스 - 프라이스 평균 해서 새 변수 만들어서 저장하기\n",
        "centered_price = reviews['price'] - reviews['price'].mean()\n",
        "centered_price\n",
        "\n",
        "\n"
      ]
    },
    {
      "cell_type": "code",
      "execution_count": null,
      "metadata": {
        "id": "JHQgY2TsSJew"
      },
      "outputs": [],
      "source": []
    },
    {
      "cell_type": "markdown",
      "metadata": {
        "id": "s-QU157KSJew"
      },
      "source": [
        "나는 경제적이므로, 가격대비 포인트가 가장 큰 와인을 사려한다. 해당 와인의 title은?"
      ]
    },
    {
      "cell_type": "code",
      "execution_count": null,
      "metadata": {
        "id": "8hy3Vd-wSJex"
      },
      "outputs": [],
      "source": [
        "#### 나의 풀이\n",
        "\n",
        "\n",
        "# 가격 대비 포인트가 큰 와인.\n",
        "# 정렬하기  1 포인트 높은 것 중 2 가격이 낮은것\n",
        "\n",
        "reviews['points'].sort_values(ascending = False).head(10)\n",
        "reviews['price'].sort_values\n"
      ]
    },
    {
      "cell_type": "code",
      "execution_count": null,
      "metadata": {
        "id": "wmB9gyhvSJex"
      },
      "outputs": [],
      "source": [
        "#### 해설\n",
        "\n",
        "\n",
        "# 1. 포인트가 높은 와인\n",
        "reviews.head(2)  # 가격대비 포인트라는 컬럼을 찾아보기 있으면 이거 정렬하면 됨.\n",
        "\n",
        "# 2. 가격대비 포인트 컬럼이 없으므로 컬럼을 만들기 --->>> 데이터 가공\n",
        "# 사칙연산 통해 가격대비 포인트를 구해보기 ( 퍼센트 만들기 )\n",
        "# 포인트를 가격으로 나누기  포인트/프라이스\n",
        "reviews['points'] / reviews['price']\n",
        "\n",
        "# 3. 새로운 컬럼 만들어서 데이터 집어넣기\n",
        "reviews['gasungbi'] = reviews['points'] / reviews['price']\n",
        "reviews\n",
        "\n",
        "# 4. 가성비 컬럼을 내림차순으로 정렬하기\n",
        "reviews.sort_values('gasungbi', ascending = False).head(10)\n",
        "\n"
      ]
    },
    {
      "cell_type": "code",
      "source": [
        "reviews.sort_values(by = ['gasungbi', 'price'], ascending = False).head(10)"
      ],
      "metadata": {
        "id": "t4wKKMgofH0q"
      },
      "execution_count": null,
      "outputs": []
    },
    {
      "cell_type": "markdown",
      "metadata": {
        "id": "H5H_dyI1SJex"
      },
      "source": [
        "사람들이 어떤와인을 더 많이 거론했는지 보려한다.\n",
        "\n",
        "\"tropical\" 이 들어있는 리뷰의 갯수를 세고, \"fruity\" 라고 들어있는 리뷰의 갯수를 세어서\n",
        "\n",
        "판다스 시리즈로 descriptor_counts 변수로 만들어 보자."
      ]
    },
    {
      "cell_type": "code",
      "source": [
        "\n",
        "# 깃허브의 데이터분석 항목 참고\n",
        "# 또는 \n",
        "# 데이터프레임의 apply 함수도 고려\n"
      ],
      "metadata": {
        "id": "ve2LfkhNgoyF"
      },
      "execution_count": null,
      "outputs": []
    },
    {
      "cell_type": "code",
      "source": [
        "#### 나의 풀이\n",
        "\n",
        "# 데이터 정보 또는 컬럼 확인\n",
        "reviews.head(2)"
      ],
      "metadata": {
        "id": "qOtS6lZKf8P8"
      },
      "execution_count": null,
      "outputs": []
    },
    {
      "cell_type": "code",
      "execution_count": 47,
      "metadata": {
        "colab": {
          "base_uri": "https://localhost:8080/"
        },
        "id": "5mANvtvtSJey",
        "outputId": "6eeb9c7f-f441-4f01-a288-5f91b53758c1"
      },
      "outputs": [
        {
          "output_type": "execute_result",
          "data": {
            "text/plain": [
              "3607"
            ]
          },
          "metadata": {},
          "execution_count": 47
        }
      ],
      "source": [
        "#### 나의 풀이\n",
        "\n",
        "# 트로피컬 몇개 있는지 세고\n",
        "# 프루티 얼마있는지 세고\n",
        "\n",
        "\n",
        "# 트로피컬 세기\n",
        "\n",
        "# reviews['description'].str.contains('tropical')                           # 리뷰 문장에 트로피컬이 들어가는 행 찾기\n",
        "# reviews['description'][reviews['description'].str.contains('tropical')]   # True만 나오는 행 찾기\n",
        "reviews['description'][reviews['description'].str.contains('tropical')].count()  # True만 나오는거 카운트 \n",
        "\n"
      ]
    },
    {
      "cell_type": "code",
      "source": [
        "#### 나의 풀이\n",
        "\n",
        "# 프루티 세기\n",
        "\n",
        "reviews['description'][reviews['description'].str.contains('fruity')].count()\n"
      ],
      "metadata": {
        "colab": {
          "base_uri": "https://localhost:8080/"
        },
        "id": "rGwCSclsleXF",
        "outputId": "a2f0816e-1d33-4f46-cc8e-71e18620b25e"
      },
      "execution_count": 48,
      "outputs": [
        {
          "output_type": "execute_result",
          "data": {
            "text/plain": [
              "9090"
            ]
          },
          "metadata": {},
          "execution_count": 48
        }
      ]
    },
    {
      "cell_type": "code",
      "execution_count": null,
      "metadata": {
        "id": "O9yEUUSKSJey"
      },
      "outputs": [],
      "source": [
        "#### 해설"
      ]
    },
    {
      "cell_type": "code",
      "execution_count": null,
      "metadata": {
        "id": "OOIaa81USJey"
      },
      "outputs": [],
      "source": []
    },
    {
      "cell_type": "markdown",
      "metadata": {
        "id": "WgGKIvenSJey"
      },
      "source": [
        "별점 시스템을 만들려고 한다. 따라서 별점에 대한 데이터가 필요하다.\n",
        "\n",
        "별점은 1,2,3 즉 3개로 만들것이다.\n",
        "\n",
        "포인트가 95점 이상이면 3점, 85점 이상이면 2점, 나머지는 1점으로 할 것이다. \n",
        "\n",
        "리뷰데이터를 통해 각 데이터의 별점을 구하시오."
      ]
    },
    {
      "cell_type": "code",
      "execution_count": null,
      "metadata": {
        "id": "DCD_gWP7SJez"
      },
      "outputs": [],
      "source": [
        "#### 나의 풀이\n",
        "\n",
        "reviews['points'] >= 95  == 3\n",
        "95 > reviews['points'] >= 85  == 2\n",
        "85 > reviews['points']   == 1\n",
        "\n",
        "\n",
        "\n"
      ]
    },
    {
      "cell_type": "code",
      "execution_count": null,
      "metadata": {
        "id": "N96MxOwtSJez"
      },
      "outputs": [],
      "source": [
        "#### 해설\n",
        "\n",
        "\n"
      ]
    },
    {
      "cell_type": "markdown",
      "metadata": {
        "id": "1mkwQxQJSJez"
      },
      "source": [
        "리뷰의 region_2 컬럼에 데이터가 비어있는 경우에는, 'Unknown'으로 셋팅하자."
      ]
    },
    {
      "cell_type": "code",
      "execution_count": null,
      "metadata": {
        "id": "i5HapU7XSJe0"
      },
      "outputs": [],
      "source": [
        "#### 나의 풀이\n",
        "\n",
        "\n"
      ]
    },
    {
      "cell_type": "code",
      "execution_count": null,
      "metadata": {
        "id": "05N3O0cFSJe0"
      },
      "outputs": [],
      "source": [
        "#### 해설\n",
        "\n",
        "\n"
      ]
    },
    {
      "cell_type": "code",
      "execution_count": null,
      "metadata": {
        "id": "P2Odgv4rSJe0"
      },
      "outputs": [],
      "source": [
        "\n"
      ]
    }
  ],
  "metadata": {
    "kernelspec": {
      "display_name": "Python 3",
      "language": "python",
      "name": "python3"
    },
    "language_info": {
      "codemirror_mode": {
        "name": "ipython",
        "version": 3
      },
      "file_extension": ".py",
      "mimetype": "text/x-python",
      "name": "python",
      "nbconvert_exporter": "python",
      "pygments_lexer": "ipython3",
      "version": "3.7.4"
    },
    "colab": {
      "provenance": []
    }
  },
  "nbformat": 4,
  "nbformat_minor": 0
}